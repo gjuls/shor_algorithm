{
 "cells": [
  {
   "cell_type": "code",
   "execution_count": 1,
   "id": "82353880",
   "metadata": {},
   "outputs": [],
   "source": [
    "###########################\n",
    "#return probability with heat map for different behaviour\n",
    "#with each state and case, with random positions\n",
    "###########################"
   ]
  },
  {
   "cell_type": "code",
   "execution_count": 2,
   "id": "b2738943",
   "metadata": {},
   "outputs": [],
   "source": [
    "from qiskit import QuantumCircuit, QuantumRegister, ClassicalRegister\n",
    "from qiskit.quantum_info import Statevector\n",
    "from qiskit import QuantumCircuit, execute\n",
    "from qiskit.providers.aer import QasmSimulator\n",
    "from qiskit.extensions import UnitaryGate\n",
    "from qiskit.quantum_info.operators import Operator\n",
    "from qiskit import execute, transpile, assemble\n",
    "from qiskit import Aer\n",
    "from qiskit.visualization import plot_state_city\n",
    "from qiskit.visualization import plot_histogram\n",
    "from sympy import factorint\n",
    "from fractions import Fraction\n",
    "from numpy import linalg\n",
    "import pandas as pd\n",
    "import numpy as np\n",
    "from numpy import pi\n",
    "from sympy import *\n",
    "import random\n",
    "\n",
    "import math\n",
    "\n",
    "import qiskit.quantum_info as qi\n",
    "from qiskit.visualization import array_to_latex\n",
    "from qiskit.providers.aer.library import SaveDensityMatrix\n",
    "\n",
    "from qiskit.quantum_info import Statevector"
   ]
  },
  {
   "cell_type": "code",
   "execution_count": 3,
   "id": "3bab5d18",
   "metadata": {},
   "outputs": [],
   "source": [
    "import matplotlib.pyplot as plt\n",
    "plt.rc('figure', figsize=(32, 6))"
   ]
  },
  {
   "cell_type": "code",
   "execution_count": 4,
   "id": "df05fff2",
   "metadata": {},
   "outputs": [],
   "source": [
    "def qft_rotations(circuit, n, n_max,  case, position):\n",
    "    tmp = n_max - case \n",
    "    #circuit.barrier(range(n_max)) \n",
    "    if n == 0:\n",
    "        return circuit\n",
    "    n -= 1    \n",
    "\n",
    "    if n  >=  tmp:   \n",
    "        errori(circuit, position, n) \n",
    "        if n == tmp: \n",
    "            circuit.id(position)    \n",
    "    #circuit.barrier(range(n_max))\n",
    "    circuit.h(n)   \n",
    "    \n",
    "    for qubit in range(n):\n",
    "        circuit.cp(np.pi/2**(n-qubit), qubit, n)\n",
    "\n",
    "    qft_rotations(circuit, n, n_max, case, position)"
   ]
  },
  {
   "cell_type": "code",
   "execution_count": 5,
   "id": "77655bc8",
   "metadata": {},
   "outputs": [],
   "source": [
    "def swap_registers(circuit, n):\n",
    "    \n",
    "    for qubit in range(n//2):\n",
    "        circuit.swap(qubit, n-qubit-1)"
   ]
  },
  {
   "cell_type": "code",
   "execution_count": 6,
   "id": "331c9f2a",
   "metadata": {},
   "outputs": [],
   "source": [
    "def errori(circuit, position, n):\n",
    "    epsilon = 0.5                                #probability p of x error, 1-p prob. of z error                         \n",
    "    extracted = random.uniform(0, 1)\n",
    "    \n",
    "    if (extracted < epsilon):  \n",
    "        #circuit.barrier(range(n))\n",
    "        circuit.x(position)   \n",
    "        #circuit.barrier(range(n))\n",
    "    else:\n",
    "        #circuit.barrier(range(n))\n",
    "        circuit.z(position)\n",
    "        #circuit.barrier(range(n))\n",
    "    return circuit"
   ]
  },
  {
   "cell_type": "code",
   "execution_count": 7,
   "id": "70a4d53f",
   "metadata": {},
   "outputs": [],
   "source": [
    "def qft(circuit, n, n_max, case, position):\n",
    "    #if case >= 1:\n",
    "    #    errori(circuit, position, n) \n",
    "    #    if case == 1:\n",
    "    #        circuit.id(position)\n",
    "\n",
    "    qft_rotations(circuit, n, n_max, case, position)\n",
    "\n",
    "    if case >= n + 1:\n",
    "        errori(circuit, position, n)\n",
    "        if case == n + 1:\n",
    "            circuit.id(position)\n",
    "        \n",
    "    #circuit.barrier(range(n))\n",
    "    swap_registers(circuit, n)    \n",
    "\n",
    "    if case >= n + 2:\n",
    "        errori(circuit, position , n)\n",
    "        if case == n + 2:\n",
    "            circuit.id(position)\n",
    "        \n",
    "        \n",
    "    if case >= 0:\n",
    "        pass\n",
    "        \n",
    "    if case > n + 2:\n",
    "        print('Error: case value incorrect')\n",
    "    return circuit"
   ]
  },
  {
   "cell_type": "code",
   "execution_count": 8,
   "id": "d7f5f26e",
   "metadata": {},
   "outputs": [],
   "source": [
    "def split_circuit_by_id(circuit):\n",
    "    qasm = circuit.qasm()\n",
    "    prelude = []\n",
    "    circuits = [[]]\n",
    "    for line in qasm.splitlines():\n",
    "        if any([line.startswith(t) for t in ['OPENQASM', 'include', 'qreg', 'creg']]):\n",
    "            prelude.append(line)\n",
    "        elif line.startswith('id'):\n",
    "            break\n",
    "            circuits.append([])\n",
    "        else:\n",
    "            circuits[-1].append(line)\n",
    "    circuits_with_prelude = [prelude+circuit for circuit in circuits]\n",
    "    for circuit_with_prelude in circuits_with_prelude:\n",
    "        yield QuantumCircuit.from_qasm_str('\\n'.join(circuit_with_prelude))"
   ]
  },
  {
   "cell_type": "code",
   "execution_count": 13,
   "id": "c9bcebdf",
   "metadata": {},
   "outputs": [],
   "source": [
    "n = 3\n",
    "\n",
    "#Each line contains the results of the aplitude for each state of the complete basis\n",
    "somma =  [0]*(2**n)\n",
    "reps = 30\n",
    "x = []\n",
    "matrix = np.empty([n + 2,2**n])\n",
    "#change case (0, n + 2) and position (0,n - 1), case = 0 means no errors\n",
    "for line in range(n + 2):\n",
    "    for ripetizioni in range(reps):\n",
    "        case = line\n",
    "        amplitudes =  [0]*(2**n) \n",
    "\n",
    "        #for case in range(3):\n",
    "        #case = 4\n",
    "        position = random.randint(0, n - 1)\n",
    "        #print(position)\n",
    "        #for position in range(n):\n",
    "\n",
    "        control = QuantumRegister(n, 'r1')\n",
    "        circuit = QuantumCircuit(control)\n",
    "\n",
    "        qft(circuit, n, n, case, position)  \n",
    "\n",
    "        #creo il circuito di QFT totale\n",
    "        #circuit.draw('mpl', fold = -1 , plot_barriers = False, scale = 0.5)\n",
    "\n",
    "        #taglio il circuito in corrispondenza dell'ultimo gate di errore\n",
    "        for subcircuit in (split_circuit_by_id(circuit)):\n",
    "            circuit_left = subcircuit\n",
    "        #circuit_left.draw('mpl', fold = -1 , plot_barriers = False, scale = 0.5)\n",
    "\n",
    "        #creo una lista di elementi di eliminare, ovvero gli indici di dove sono i flip\n",
    "        remove = []\n",
    "        circuit_right = QuantumCircuit(control)\n",
    "        #for subcircuit in (split_circuit_by_id(circuit)):\n",
    "        #    circuit_right = subcircuit\n",
    "        circuit_right.data = circuit_left.data\n",
    "\n",
    "        circuit_right.data = list(circuit_right.data)\n",
    "        for i in range(len(circuit_right.data)):\n",
    "            if circuit_right.data[i].operation.name == 'x' or circuit_right.data[i].operation.name == 'z':\n",
    "                remove.append(i)\n",
    "\n",
    "        #creo il circuito speculare privo di errori\n",
    "        for elem in sorted(remove, reverse = True):\n",
    "            del circuit_right.data[elem]\n",
    "        #circuit_right.draw('mpl', fold = -1 , plot_barriers = False, scale = 0.5)\n",
    "\n",
    "        circuit_right = circuit_right.inverse()\n",
    "        merge = circuit_left.compose(circuit_right)\n",
    "\n",
    "        #merge.draw('mpl', fold = -1 , plot_barriers = False, scale = 0.5)\n",
    "\n",
    "        backend = Aer.get_backend('unitary_simulator')\n",
    "        job = execute(merge, backend, shots = 8192)\n",
    "        result = job.result()\n",
    "        UeU = result.get_unitary(merge,3)\n",
    "        #print(array_to_latex(UeU))\n",
    "\n",
    "        #Ciclo sugli stati iniziali\n",
    "\n",
    "        for iii in range(2**n):   \n",
    "\n",
    "            label = bin(iii).lstrip('-0b').zfill(n)\n",
    "            #print(label)\n",
    "            #create list of label for plot\n",
    "            #if case == 0:\n",
    "            #    x.append(label)\n",
    "\n",
    "            state = Statevector.from_label(label)\n",
    "            amplitudes[iii] = (state.evolve(UeU)[label]**2).real\n",
    "            state = 0\n",
    "\n",
    "        for l in range(2**n):\n",
    "            somma[l]  = somma[l] + amplitudes[l]\n",
    "\n",
    "    for i in range(2**n):\n",
    "        somma[i] = somma[i]/reps \n",
    "\n",
    "    matrix[line] = somma\n",
    "    \n",
    "\n",
    "merge = 0\n",
    "result = 0\n",
    "UeU = 0"
   ]
  },
  {
   "cell_type": "raw",
   "id": "00601f7c",
   "metadata": {},
   "source": [
    "media = np.empty(2**n)\n",
    "\n",
    "for i in range(0, 2**n):\n",
    "    for ii in range(reps):\n",
    "        media[i] = media[i] + plot[ii][i]\n",
    "    media[i] = media[i]/reps"
   ]
  },
  {
   "cell_type": "raw",
   "id": "c2952901",
   "metadata": {},
   "source": [
    "plt.xlabel('States')\n",
    "plt.ylabel('Mean Amplitudes')\n",
    "plt.title('Mean amplitude for each case for single error')\n",
    "plt.plot(amplitudes)\n",
    "#.savefig('states_single_error.pdf', format = 'pdf') "
   ]
  },
  {
   "cell_type": "code",
   "execution_count": 14,
   "id": "02f723da",
   "metadata": {},
   "outputs": [
    {
     "data": {
      "image/png": "[encoded data removed]",
      "text/plain": [
       "<Figure size 3200x600 with 2 Axes>"
      ]
     },
     "metadata": {},
     "output_type": "display_data"
    }
   ],
   "source": [
    "from matplotlib.colors import LogNorm\n",
    "plt.imshow(matrix, cmap = 'Greens', interpolation ='nearest')\n",
    "plt.colorbar()\n",
    "plt.savefig('heat_map.pdf', format = 'pdf') "
   ]
  },
  {
   "cell_type": "code",
   "execution_count": null,
   "id": "8da2c826",
   "metadata": {},
   "outputs": [],
   "source": []
  }
 ],
 "metadata": {
  "kernelspec": {
   "display_name": "Python 3 (ipykernel)",
   "language": "python",
   "name": "python3"
  },
  "language_info": {
   "codemirror_mode": {
    "name": "ipython",
    "version": 3
   },
   "file_extension": ".py",
   "mimetype": "text/x-python",
   "name": "python",
   "nbconvert_exporter": "python",
   "pygments_lexer": "ipython3",
   "version": "3.10.6"
  }
 },
 "nbformat": 4,
 "nbformat_minor": 5
}
