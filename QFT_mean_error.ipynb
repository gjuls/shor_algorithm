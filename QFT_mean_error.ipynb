{
 "cells": [
  {
   "cell_type": "code",
   "execution_count": null,
   "id": "6c1cc915",
   "metadata": {},
   "outputs": [],
   "source": [
    "#####################\n",
    "#for each fixed initial state the distance id mediated\n",
    "#on each possible error configuration\n",
    "#####################"
   ]
  },
  {
   "cell_type": "code",
   "execution_count": 2,
   "id": "182ec3ef",
   "metadata": {},
   "outputs": [
    {
     "name": "stdout",
     "output_type": "stream",
     "text": [
      "Import Successfully\n"
     ]
    }
   ],
   "source": [
    "from qiskit import QuantumCircuit, QuantumRegister, ClassicalRegister\n",
    "import qiskit.quantum_info as qi\n",
    "from qiskit.visualization import plot_state_qsphere\n",
    "from qiskit.quantum_info import Statevector, random_statevector\n",
    "from qiskit.visualization import plot_histogram\n",
    "from qiskit import execute, transpile, assemble\n",
    "from qiskit import Aer\n",
    "from numpy import pi\n",
    "import numpy as np\n",
    "import matplotlib as mpl\n",
    "import matplotlib.pyplot as plt\n",
    "import random\n",
    "print(\"Import Successfully\")"
   ]
  },
  {
   "cell_type": "code",
   "execution_count": 3,
   "id": "900414c2",
   "metadata": {},
   "outputs": [
    {
     "name": "stdout",
     "output_type": "stream",
     "text": [
      "Import Successfully\n"
     ]
    }
   ],
   "source": [
    "# Import from Qiskit Aer noise module\n",
    "from qiskit.providers.aer.noise import NoiseModel\n",
    "from qiskit.providers.aer.noise import QuantumError, ReadoutError\n",
    "from qiskit.providers.aer.noise import pauli_error\n",
    "from qiskit.providers.aer import AerSimulator\n",
    "print(\"Import Successfully\")"
   ]
  },
  {
   "cell_type": "code",
   "execution_count": 9,
   "id": "3343567f",
   "metadata": {
    "scrolled": false
   },
   "outputs": [
    {
     "name": "stdout",
     "output_type": "stream",
     "text": [
      "[1, 0, 0, 0, 0, 0, 0, 0, 0, 0, 0, 0, 0, 0, 0, 0] Stabilità =  (1.7677669529663695+0j)\n",
      "[0, 1, 0, 0, 0, 0, 0, 0, 0, 0, 0, 0, 0, 0, 0, 0] Stabilità =  (0.16088296378053413-1.8411169365758833e-09j)\n",
      "[0, 0, 1, 0, 0, 0, 0, 0, 0, 0, 0, 0, 0, 0, 0, 0] Stabilità =  (0.11377247307710947+1.6244314998667478e-09j)\n",
      "[0, 0, 0, 1, 0, 0, 0, 0, 0, 0, 0, 0, 0, 0, 0, 0] Stabilità =  (0.14159989494634326+7.409289791030073e-10j)\n",
      "[0, 0, 0, 0, 1, 0, 0, 0, 0, 0, 0, 0, 0, 0, 0, 0] Stabilità =  (6.846970905175403e-09+0j)\n",
      "[0, 0, 0, 0, 0, 1, 0, 0, 0, 0, 0, 0, 0, 0, 0, 0] Stabilità =  (0.14159989493594313+7.868847761208121e-10j)\n",
      "[0, 0, 0, 0, 0, 0, 1, 0, 0, 0, 0, 0, 0, 0, 0, 0] Stabilità =  (0.11377246949125269+1.9121165438406634e-09j)\n",
      "[0, 0, 0, 0, 0, 0, 0, 1, 0, 0, 0, 0, 0, 0, 0, 0] Stabilità =  (0.16088296225074483+4.92946599163903e-10j)\n",
      "[0, 0, 0, 0, 0, 0, 0, 0, 1, 0, 0, 0, 0, 0, 0, 0] Stabilità =  (1.7677669529663695+0j)\n",
      "[0, 0, 0, 0, 0, 0, 0, 0, 0, 1, 0, 0, 0, 0, 0, 0] Stabilità =  (0.16088296467426022+2.6884552490645255e-09j)\n",
      "[0, 0, 0, 0, 0, 0, 0, 0, 0, 0, 1, 0, 0, 0, 0, 0] Stabilità =  (0.11377247410171168+1.8445303131542161e-10j)\n",
      "[0, 0, 0, 0, 0, 0, 0, 0, 0, 0, 0, 1, 0, 0, 0, 0] Stabilità =  (0.1415998944471089+1.7407698324519621e-09j)\n",
      "[0, 0, 0, 0, 0, 0, 0, 0, 0, 0, 0, 0, 1, 0, 0, 0] Stabilità =  (6.846970905175402e-09+0j)\n",
      "[0, 0, 0, 0, 0, 0, 0, 0, 0, 0, 0, 0, 0, 1, 0, 0] Stabilità =  (0.14159989426977806+7.052655228763405e-11j)\n",
      "[0, 0, 0, 0, 0, 0, 0, 0, 0, 0, 0, 0, 0, 0, 1, 0] Stabilità =  (0.11377247060823119+2.3374697347723797e-09j)\n",
      "[0, 0, 0, 0, 0, 0, 0, 0, 0, 0, 0, 0, 0, 0, 0, 1] Stabilità =  (0.16088296178194533+2.885789020276693e-10j)\n"
     ]
    }
   ],
   "source": [
    "#FUNZIONI PER CIRCUITO IDEALE\n",
    "def qft_rotations_ideal(circuit, n):\n",
    "    if n == 0:\n",
    "        return circuit\n",
    "    n -= 1\n",
    "    circuit.h(n)\n",
    "    \n",
    "    for qubit in range(n):\n",
    "        circuit.cp(pi/2**(n-qubit), qubit, n)\n",
    "    qft_rotations_ideal(circuit, n)\n",
    "\n",
    "def swap_registers_ideal(circuit, n):\n",
    "    for qubit in range(n//2):\n",
    "        circuit.swap(qubit, n-qubit-1)\n",
    "    return circuit\n",
    "\n",
    "def qft_ideal(circuit, n):\n",
    "    qft_rotations_ideal(circuit, n)\n",
    "    swap_registers_ideal(circuit, n)\n",
    "    return circuit\n",
    "\n",
    "#FUNZIONI PER CIRCUITO NOISY\n",
    "def qft_rotations(circuit, n, case, position):\n",
    "    if n == 0:\n",
    "        return circuit\n",
    "    n -= 1\n",
    "\n",
    "    if case == 4:\n",
    "        errori(circuit, position)\n",
    "    \n",
    "    circuit.h(n)   \n",
    "\n",
    "    if case == 5:\n",
    "        errori(circuit, position)\n",
    "    \n",
    "    \n",
    "    for qubit in range(n):\n",
    "        circuit.cp(pi/2**(n-qubit), qubit, n)\n",
    "    qft_rotations(circuit, n, case, position)\n",
    "\n",
    "def swap_registers(circuit, n):\n",
    "\n",
    "    for qubit in range(n//2):\n",
    "        circuit.swap(qubit, n-qubit-1)\n",
    "\n",
    "def qft(circuit, n, case, position):\n",
    "    if case == 1:\n",
    "        errori(circuit, position) \n",
    "\n",
    "    qft_rotations(circuit, n, case, position)\n",
    "\n",
    "    if case == 2:\n",
    "        errori(circuit, position)\n",
    "\n",
    "    swap_registers(circuit, n)    \n",
    "\n",
    "    if case == 3:\n",
    "        errori(circuit, position)\n",
    "        \n",
    "    return circuit\n",
    "\n",
    "def errori(circuit, position):\n",
    "    epsilon = 1                          \n",
    "    extracted = random.uniform(0, 1)\n",
    "    if (extracted < epsilon):    \n",
    "        circuit.z(position)                            #change the type of error here!\n",
    "###########################################################\n",
    "\n",
    "\n",
    "qubits = 4                      #dimensione sistema\n",
    "label = [0]*(2**qubits)\n",
    "register = QuantumRegister(qubits)\n",
    "risultato = []\n",
    "distanze = []\n",
    "grafico = []\n",
    "\n",
    "for stato in range(2**qubits):\n",
    "\n",
    "    label[stato] = 1\n",
    "    state = Statevector(label)\n",
    "\n",
    "    # circuito ideale\n",
    "    qc_ideal = QuantumCircuit(register) \n",
    "    qc_ideal.initialize(state.data, register)\n",
    "    qft_ideal(qc_ideal,qubits)\n",
    "    qc_ideal.save_density_matrix()\n",
    "    #qc_ideal.measure_all()\n",
    "\n",
    "    #simulazione ideale\n",
    "    aer_sim = Aer.get_backend('aer_simulator')\n",
    "    t_qc = transpile(qc_ideal, aer_sim)\n",
    "    qobj = assemble(t_qc)                                \n",
    "    results = aer_sim.run(qobj, shots = 1).result()\n",
    "\n",
    "    density_matrix_ideal = 0\n",
    "    density_matrix_ideal = results.data().get('density_matrix')\n",
    "    density_matrix_ideal = np.asarray(density_matrix_ideal)\n",
    "    #print(density_matrix_ideal)\n",
    "\n",
    "    for case in range(1, 5):\n",
    "        for position in range(qubits):\n",
    "            runs = 1\n",
    "            for i in range(runs):         \n",
    "\n",
    "                #circuito noisy\n",
    "                qc_noisy = QuantumCircuit(register)\n",
    "                qc_noisy.initialize(state, register)\n",
    "                qft(qc_noisy,qubits, case, position)\n",
    "                qc_noisy.save_density_matrix()\n",
    "\n",
    "                #simulazione noisy\n",
    "                aer_sim = Aer.get_backend('aer_simulator')\n",
    "                t_qc = transpile(qc_noisy, aer_sim)\n",
    "                qobj = assemble(t_qc)                                \n",
    "                results = aer_sim.run(qobj, shots = 1).result()\n",
    "\n",
    "                #estrazione matrice densità\n",
    "\n",
    "                density_matrix = results.data().get('density_matrix')\n",
    "                density_matrix = np.asarray(density_matrix)\n",
    "\n",
    "                #calcolo della distanza\n",
    "                diff = density_matrix - density_matrix_ideal\n",
    "                mult = np.matmul(np.transpose(diff), diff)\n",
    "                rad = np.sqrt(mult)\n",
    "                distanza = rad.trace()/2\n",
    "                risultato.append(distanza)\n",
    "\n",
    "                #print(label, case, position, distanza)\n",
    "\n",
    "                distanza = 0\n",
    "                diff = 0\n",
    "                density_matrix = 0\n",
    "                results = 0\n",
    "    print(label , 'Stabilità = ', sum(risultato)/(qubits**2) )\n",
    "    grafico.append(sum(risultato)/(qubits**2))\n",
    "    label = [0]*(2**qubits)\n",
    "    risultato = [0]\n",
    "            "
   ]
  },
  {
   "cell_type": "code",
   "execution_count": 10,
   "id": "6d9135cc",
   "metadata": {},
   "outputs": [
    {
     "name": "stderr",
     "output_type": "stream",
     "text": [
      "C:\\Users\\giuli\\anaconda3\\envs\\quiskit\\lib\\site-packages\\matplotlib\\cbook\\__init__.py:1369: ComplexWarning: Casting complex values to real discards the imaginary part\n",
      "  return np.asarray(x, float)\n"
     ]
    },
    {
     "data": {
      "image/png": "[encoded data removed]",
      "text/plain": [
       "<Figure size 640x480 with 1 Axes>"
      ]
     },
     "metadata": {},
     "output_type": "display_data"
    }
   ],
   "source": [
    "plt.xlabel('States')\n",
    "plt.ylabel('Distances')\n",
    "plt.title('Phase Flip Effect')\n",
    "plt.plot(grafico)\n",
    "plt.savefig('phase_flip_effect.pdf', format = 'pdf') "
   ]
  },
  {
   "cell_type": "code",
   "execution_count": null,
   "id": "96335e2f",
   "metadata": {},
   "outputs": [],
   "source": []
  }
 ],
 "metadata": {
  "kernelspec": {
   "display_name": "Python 3 (ipykernel)",
   "language": "python",
   "name": "python3"
  },
  "language_info": {
   "codemirror_mode": {
    "name": "ipython",
    "version": 3
   },
   "file_extension": ".py",
   "mimetype": "text/x-python",
   "name": "python",
   "nbconvert_exporter": "python",
   "pygments_lexer": "ipython3",
   "version": "3.10.6"
  }
 },
 "nbformat": 4,
 "nbformat_minor": 5
}
