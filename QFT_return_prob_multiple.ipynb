{
 "cells": [
  {
   "attachments": {},
   "cell_type": "markdown",
   "id": "82353880",
   "metadata": {},
   "source": [
    "\n",
    "# Return probability \n",
    " \n"
   ]
  },
  {
   "cell_type": "code",
   "execution_count": 1,
   "id": "b2738943",
   "metadata": {},
   "outputs": [
    {
     "name": "stdout",
     "output_type": "stream",
     "text": [
      "Import Successfully\n"
     ]
    }
   ],
   "source": [
    "from qiskit import QuantumCircuit, QuantumRegister, ClassicalRegister\n",
    "from qiskit.quantum_info import Statevector\n",
    "from qiskit import QuantumCircuit, execute\n",
    "from qiskit.providers.aer import QasmSimulator\n",
    "from qiskit.extensions import UnitaryGate\n",
    "from qiskit.quantum_info.operators import Operator\n",
    "from qiskit import execute, transpile, assemble\n",
    "from qiskit import Aer\n",
    "from qiskit.visualization import plot_state_city\n",
    "from qiskit.visualization import plot_histogram\n",
    "import qiskit.quantum_info as qi\n",
    "from qiskit.visualization import array_to_latex\n",
    "from qiskit.providers.aer.library import SaveDensityMatrix\n",
    "from qiskit.quantum_info import Statevector\n",
    "from sympy import factorint\n",
    "from fractions import Fraction\n",
    "from numpy import linalg\n",
    "import pandas as pd\n",
    "import numpy as np\n",
    "from numpy import pi\n",
    "from sympy import *\n",
    "import random\n",
    "import math\n",
    "print('Import Successfully')"
   ]
  },
  {
   "cell_type": "code",
   "execution_count": 3,
   "id": "77655bc8",
   "metadata": {},
   "outputs": [],
   "source": [
    "def swap_registers(circuit, n):\n",
    "    \n",
    "    for qubit in range(n//2):\n",
    "        circuit.swap(qubit, n-qubit-1)"
   ]
  },
  {
   "cell_type": "code",
   "execution_count": 48,
   "id": "331c9f2a",
   "metadata": {},
   "outputs": [],
   "source": [
    "def errori(circuit, position, n):\n",
    "    epsilon = 0.5                                                      \n",
    "    extracted = random.uniform(0, 1)\n",
    "    #position = random.randint(0, n - 1)    #to have random positions for each error\n",
    "\n",
    "    if (extracted < epsilon):  \n",
    "        circuit.x(position)   \n",
    "    else:\n",
    "        circuit.z(position)\n",
    "    return circuit"
   ]
  },
  {
   "cell_type": "code",
   "execution_count": 2,
   "id": "df05fff2",
   "metadata": {},
   "outputs": [],
   "source": [
    "def qft_rotations(circuit, n, n_max,  case, position):\n",
    "    tmp = n_max - case \n",
    "    if n == 0:\n",
    "        return circuit\n",
    "    n -= 1    \n",
    "\n",
    "    if n  >=  tmp:   \n",
    "        errori(circuit, position, n) \n",
    "        if n == tmp: \n",
    "            circuit.id(position)    \n",
    "    circuit.h(n)   \n",
    "    \n",
    "    for qubit in range(n):\n",
    "        circuit.cp(np.pi/2**(n-qubit), qubit, n)\n",
    "\n",
    "    qft_rotations(circuit, n, n_max, case, position)"
   ]
  },
  {
   "cell_type": "code",
   "execution_count": 5,
   "id": "70a4d53f",
   "metadata": {},
   "outputs": [],
   "source": [
    "def qft(circuit, n, n_max, case, position):\n",
    "\n",
    "    qft_rotations(circuit, n, n_max, case, position)\n",
    "\n",
    "    if case >= n + 1:\n",
    "        errori(circuit, position, n)\n",
    "        if case == n + 1:\n",
    "            circuit.id(position)\n",
    "        \n",
    "    swap_registers(circuit, n)    \n",
    "\n",
    "    if case >= n + 2:\n",
    "        errori(circuit, position , n)\n",
    "        if case == n + 2:\n",
    "            circuit.id(position)\n",
    "        \n",
    "    if case >= 0:\n",
    "        pass\n",
    "        \n",
    "    if case > n + 2:\n",
    "        print('Error: case value incorrect')\n",
    "    return circuit"
   ]
  },
  {
   "cell_type": "code",
   "execution_count": 6,
   "id": "d7f5f26e",
   "metadata": {},
   "outputs": [],
   "source": [
    "def split_circuit_by_id(circuit):\n",
    "    qasm = circuit.qasm()\n",
    "    prelude = []\n",
    "    circuits = [[]]\n",
    "    for line in qasm.splitlines():\n",
    "        if any([line.startswith(t) for t in ['OPENQASM', 'include', 'qreg', 'creg']]):\n",
    "            prelude.append(line)\n",
    "        elif line.startswith('id'):\n",
    "            break\n",
    "            circuits.append([])\n",
    "        else:\n",
    "            circuits[-1].append(line)\n",
    "    circuits_with_prelude = [prelude+circuit for circuit in circuits]\n",
    "    for circuit_with_prelude in circuits_with_prelude:\n",
    "        yield QuantumCircuit.from_qasm_str('\\n'.join(circuit_with_prelude))"
   ]
  },
  {
   "attachments": {},
   "cell_type": "markdown",
   "id": "8ec37b80",
   "metadata": {},
   "source": [
    "Main:\n",
    "- Fixed number of qubits;\n",
    "- Fixed Number of errors;\n",
    "- Each error in a random position OR all in the same random position."
   ]
  },
  {
   "cell_type": "code",
   "execution_count": 60,
   "id": "8fc4eb0d",
   "metadata": {},
   "outputs": [
    {
     "data": {
      "image/png": "[encoded data removed]",
      "text/plain": [
       "<Figure size 776.841x183.944 with 1 Axes>"
      ]
     },
     "execution_count": 60,
     "metadata": {},
     "output_type": "execute_result"
    }
   ],
   "source": [
    "n = 4\n",
    "case = 3\n",
    "position = random.randint(0, n - 1)   #all the errors in the same random position\n",
    "\n",
    "amplitudes = np.empty(2**n)\n",
    "summa = 0\n",
    "x = []\n",
    "plot = []\n",
    "control = QuantumRegister(n, 'r1')\n",
    "circuit = QuantumCircuit(control)\n",
    "qft(circuit, n, n, case, position)  \n",
    "        \n",
    "circuit.draw('mpl', fold = -1 , plot_barriers = False, scale = 0.5)"
   ]
  },
  {
   "cell_type": "code",
   "execution_count": 61,
   "id": "cf14fe47",
   "metadata": {},
   "outputs": [
    {
     "data": {
      "image/png": "[encoded data removed]",
      "text/plain": [
       "<Figure size 567.813x183.944 with 1 Axes>"
      ]
     },
     "execution_count": 61,
     "metadata": {},
     "output_type": "execute_result"
    }
   ],
   "source": [
    "for subcircuit in (split_circuit_by_id(circuit)):\n",
    "    circuit_left = subcircuit\n",
    "circuit_left.draw('mpl', fold = -1 , plot_barriers = False, scale = 0.5)"
   ]
  },
  {
   "cell_type": "code",
   "execution_count": 62,
   "id": "b4dd42f5",
   "metadata": {},
   "outputs": [
    {
     "data": {
      "image/png": "[encoded data removed]",
      "text/plain": [
       "<Figure size 567.813x183.944 with 1 Axes>"
      ]
     },
     "execution_count": 62,
     "metadata": {},
     "output_type": "execute_result"
    }
   ],
   "source": [
    "remove = []\n",
    "circuit_right = QuantumCircuit(control)\n",
    "circuit_right.data = circuit_left.data\n",
    "circuit_right.data = list(circuit_right.data)\n",
    "for i in range(len(circuit_right.data)):\n",
    "    if circuit_right.data[i].operation.name == 'x' or circuit_right.data[i].operation.name == 'z':\n",
    "        remove.append(i)\n",
    "\n",
    "for elem in sorted(remove, reverse = True):\n",
    "    del circuit_right.data[elem]\n",
    "\n",
    "circuit_right.draw('mpl', fold = -1 , plot_barriers = False, scale = 0.5)"
   ]
  },
  {
   "cell_type": "code",
   "execution_count": 63,
   "id": "a1d9300a",
   "metadata": {},
   "outputs": [
    {
     "data": {
      "image/png": "[encoded data removed]",
      "text/plain": [
       "<Figure size 1069.48x183.944 with 1 Axes>"
      ]
     },
     "execution_count": 63,
     "metadata": {},
     "output_type": "execute_result"
    }
   ],
   "source": [
    "from qiskit.tools.visualization import circuit_drawer\n",
    "\n",
    "circuit_right = circuit_right.inverse()\n",
    "merge = circuit_left.compose(circuit_right)\n",
    "\n",
    "circuit_drawer(merge, output='latex_source',filename = 'QFT_return_prob_multiple.tex', style={'backgroundcolor': '#EEEEEE'})\n",
    "merge.draw('mpl', fold = -1 , plot_barriers = False, scale = 0.5)"
   ]
  },
  {
   "cell_type": "code",
   "execution_count": 28,
   "id": "c9bcebdf",
   "metadata": {},
   "outputs": [
    {
     "name": "stdout",
     "output_type": "stream",
     "text": [
      "<IPython.core.display.Latex object>\n"
     ]
    },
    {
     "data": {
      "text/latex": [
       "$$\n",
       "\n",
       "\\begin{bmatrix}\n",
       "0 & 0 & 1 & 0 & \\cdots & 0 & 0 & 0  \\\\\n",
       " 0 & 0 & 0 & -1 & \\cdots & 0 & 0 & 0  \\\\\n",
       " 1 & 0 & 0 & 0 & \\cdots & 0 & 0 & 0  \\\\\n",
       " 0 & -1 & 0 & 0 & \\cdots & 0 & 0 & 0  \\\\\n",
       " \\vdots & \\vdots & \\vdots & \\vdots & \\ddots & \\vdots & \\vdots & \\vdots \\\\\n",
       " 0 & 0 & 0 & 0 & \\cdots & 0 & 0 & -1  \\\\\n",
       " 0 & 0 & 0 & 0 & \\cdots & 0 & 0 & 0  \\\\\n",
       " 0 & 0 & 0 & 0 & \\cdots & -1 & 0 & 0  \\\\\n",
       " \\end{bmatrix}\n",
       "$$"
      ],
      "text/plain": [
       "<IPython.core.display.Latex object>"
      ]
     },
     "execution_count": 28,
     "metadata": {},
     "output_type": "execute_result"
    }
   ],
   "source": [
    "amplitudes = np.empty(2**n)\n",
    "\n",
    "backend = Aer.get_backend('unitary_simulator')\n",
    "job = execute(merge, backend, shots = 8192)\n",
    "result = job.result()\n",
    "UeU = result.get_unitary(merge,3)\n",
    "print(array_to_latex(UeU))\n",
    "\n",
    "for iii in range(2**n):   \n",
    "\n",
    "    label = bin(iii).lstrip('-0b').zfill(n)\n",
    "    if case == 0:\n",
    "        x.append(label)\n",
    "\n",
    "    state = Statevector.from_label(label)\n",
    "    amplitudes[iii] = (state.evolve(UeU)[label]**2).real\n",
    "    state = 0\n",
    "\n",
    "#print(amplitudes)\n",
    "array_to_latex(UeU)"
   ]
  },
  {
   "cell_type": "code",
   "execution_count": 32,
   "id": "cd1f34af",
   "metadata": {},
   "outputs": [
    {
     "data": {
      "text/plain": [
       "[<matplotlib.lines.Line2D at 0x1a7a23f4be0>]"
      ]
     },
     "execution_count": 32,
     "metadata": {},
     "output_type": "execute_result"
    },
    {
     "data": {
      "image/png": "[encoded data removed]",
      "text/plain": [
       "<Figure size 600x400 with 1 Axes>"
      ]
     },
     "metadata": {},
     "output_type": "display_data"
    }
   ],
   "source": [
    "import matplotlib.pyplot as plt\n",
    "plt.rc('figure', figsize=(6, 4))\n",
    "plt.xlabel('States')\n",
    "plt.ylabel('Mean Amplitudes')\n",
    "plt.plot(amplitudes)"
   ]
  },
  {
   "cell_type": "code",
   "execution_count": null,
   "id": "02f723da",
   "metadata": {},
   "outputs": [],
   "source": []
  }
 ],
 "metadata": {
  "kernelspec": {
   "display_name": "Python 3 (ipykernel)",
   "language": "python",
   "name": "python3"
  },
  "language_info": {
   "codemirror_mode": {
    "name": "ipython",
    "version": 3
   },
   "file_extension": ".py",
   "mimetype": "text/x-python",
   "name": "python",
   "nbconvert_exporter": "python",
   "pygments_lexer": "ipython3",
   "version": "3.10.6"
  }
 },
 "nbformat": 4,
 "nbformat_minor": 5
}
