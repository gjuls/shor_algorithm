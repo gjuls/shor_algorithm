{
 "cells": [
  {
   "attachments": {},
   "cell_type": "markdown",
   "id": "82353880",
   "metadata": {},
   "source": [
    "# Heatmap\n",
    "Result probability for each case and base state."
   ]
  },
  {
   "cell_type": "code",
   "execution_count": 8,
   "id": "b2738943",
   "metadata": {},
   "outputs": [
    {
     "name": "stdout",
     "output_type": "stream",
     "text": [
      "Import Succesfully\n"
     ]
    }
   ],
   "source": [
    "from qiskit import QuantumCircuit, QuantumRegister, ClassicalRegister\n",
    "from qiskit.quantum_info import Statevector\n",
    "from qiskit import QuantumCircuit, execute\n",
    "from qiskit.providers.aer import QasmSimulator\n",
    "from qiskit.extensions import UnitaryGate\n",
    "from qiskit.quantum_info.operators import Operator\n",
    "from qiskit import execute, transpile, assemble\n",
    "from qiskit import Aer\n",
    "from qiskit.visualization import plot_state_city\n",
    "from qiskit.visualization import plot_histogram\n",
    "import qiskit.quantum_info as qi\n",
    "from qiskit.visualization import array_to_latex\n",
    "from qiskit.providers.aer.library import SaveDensityMatrix\n",
    "from qiskit.quantum_info import Statevector\n",
    "from sympy import factorint\n",
    "from fractions import Fraction\n",
    "import matplotlib.pyplot as plt\n",
    "import pandas as pd\n",
    "import numpy as np\n",
    "from numpy import pi\n",
    "from sympy import *\n",
    "import random\n",
    "import math\n",
    "print('Import Succesfully')"
   ]
  },
  {
   "cell_type": "code",
   "execution_count": 9,
   "id": "77655bc8",
   "metadata": {},
   "outputs": [],
   "source": [
    "def swap_registers(circuit, n):\n",
    "    \n",
    "    for qubit in range(n//2):\n",
    "        circuit.swap(qubit, n-qubit-1)"
   ]
  },
  {
   "attachments": {},
   "cell_type": "markdown",
   "id": "4a3c92cf",
   "metadata": {},
   "source": [
    "Error routine: 50% X, 50% Z"
   ]
  },
  {
   "cell_type": "code",
   "execution_count": 10,
   "id": "331c9f2a",
   "metadata": {},
   "outputs": [],
   "source": [
    "def errori(circuit, n):\n",
    "    epsilon = 0.5                                                       \n",
    "    extracted = random.uniform(0, 1)\n",
    "    position = random.randint(0, n - 1)    #to have random positions for each error\n",
    "\n",
    "    if (extracted < epsilon):  \n",
    "        circuit.x(position)   \n",
    "    else:\n",
    "        circuit.z(position)\n",
    "    return circuit"
   ]
  },
  {
   "cell_type": "code",
   "execution_count": 18,
   "id": "df05fff2",
   "metadata": {},
   "outputs": [],
   "source": [
    "def qft_rotations(circuit, n, n_max,  case):\n",
    "    position = random.randint(0, n_max - 1)\n",
    "    tmp = n_max - case \n",
    "    if n == 0:\n",
    "        return circuit\n",
    "    n -= 1    \n",
    "\n",
    "    if n  >=  tmp:   \n",
    "        errori(circuit, n_max) \n",
    "        if n == tmp: \n",
    "            circuit.id(position)    \n",
    "    circuit.h(n)   \n",
    "    \n",
    "    for qubit in range(n):\n",
    "        circuit.cp(np.pi/2**(n-qubit), qubit, n)\n",
    "\n",
    "    qft_rotations(circuit, n, n_max, case)"
   ]
  },
  {
   "cell_type": "code",
   "execution_count": 12,
   "id": "70a4d53f",
   "metadata": {},
   "outputs": [],
   "source": [
    "def qft(circuit, n, n_max, case):\n",
    "    position = random.randint(0, n - 1)\n",
    "    qft_rotations(circuit, n, n_max, case)\n",
    "\n",
    "    if case >= n + 1:\n",
    "        errori(circuit, n_max)\n",
    "        if case == n + 1:\n",
    "            circuit.id(position)\n",
    "        \n",
    "    swap_registers(circuit, n)    \n",
    "\n",
    "    if case >= n + 2:\n",
    "        errori(circuit , n_max)\n",
    "        if case == n + 2:\n",
    "            circuit.id(position)\n",
    "            \n",
    "    if case >= 0:\n",
    "        pass\n",
    "        \n",
    "    if case > n + 2:\n",
    "        print('Error: case value incorrect')\n",
    "    return circuit"
   ]
  },
  {
   "cell_type": "code",
   "execution_count": 13,
   "id": "d7f5f26e",
   "metadata": {},
   "outputs": [],
   "source": [
    "def split_circuit_by_id(circuit):\n",
    "    qasm = circuit.qasm()\n",
    "    prelude = []\n",
    "    circuits = [[]]\n",
    "    for line in qasm.splitlines():\n",
    "        if any([line.startswith(t) for t in ['OPENQASM', 'include', 'qreg', 'creg']]):\n",
    "            prelude.append(line)\n",
    "        elif line.startswith('id'):\n",
    "            break\n",
    "            circuits.append([])\n",
    "        else:\n",
    "            circuits[-1].append(line)\n",
    "    circuits_with_prelude = [prelude+circuit for circuit in circuits]\n",
    "    for circuit_with_prelude in circuits_with_prelude:\n",
    "        yield QuantumCircuit.from_qasm_str('\\n'.join(circuit_with_prelude))"
   ]
  },
  {
   "attachments": {},
   "cell_type": "markdown",
   "id": "a438827c",
   "metadata": {},
   "source": [
    "Main:\n",
    "- fixed number of qubits;\n",
    "- error in random position;\n",
    "- mean over reps;"
   ]
  },
  {
   "cell_type": "code",
   "execution_count": 29,
   "id": "c9bcebdf",
   "metadata": {},
   "outputs": [],
   "source": [
    "n = 4\n",
    "reps = 50\n",
    "\n",
    "somma =  [0]*(2**n)\n",
    "x = []\n",
    "matrix = np.empty([n + 2, 2**n])\n",
    "\n",
    "for line in range(n + 2):\n",
    "\n",
    "    for ripetizioni in range(reps):\n",
    "\n",
    "        case = line\n",
    "        amplitudes =  [0]*(2**n) \n",
    "        position = random.randint(0, n - 1)    #all the errors in the same random position\n",
    "        control = QuantumRegister(n, 'r1')\n",
    "        circuit = QuantumCircuit(control)\n",
    "        qft(circuit, n, n, case)  \n",
    "\n",
    "        for subcircuit in (split_circuit_by_id(circuit)):\n",
    "            circuit_left = subcircuit\n",
    "\n",
    "        remove = []\n",
    "        circuit_right = QuantumCircuit(control)\n",
    "        circuit_right.data = circuit_left.data\n",
    "\n",
    "        circuit_right.data = list(circuit_right.data)\n",
    "        for i in range(len(circuit_right.data)):\n",
    "            if circuit_right.data[i].operation.name == 'x' or circuit_right.data[i].operation.name == 'z':\n",
    "                remove.append(i)\n",
    "\n",
    "        for elem in sorted(remove, reverse = True):\n",
    "            del circuit_right.data[elem]\n",
    "\n",
    "        circuit_right = circuit_right.inverse()\n",
    "        merge = circuit_left.compose(circuit_right)\n",
    "\n",
    "        backend = Aer.get_backend('unitary_simulator')\n",
    "        job = execute(merge, backend, shots = 8192)\n",
    "        result = job.result()\n",
    "        UeU = result.get_unitary(merge,3)\n",
    "\n",
    "        for iii in range(2**n):   \n",
    "\n",
    "            label = bin(iii).lstrip('-0b').zfill(n)\n",
    "            state = Statevector.from_label(label)\n",
    "            amplitudes[iii] = (state.evolve(UeU)[label]**2).real\n",
    "            state = 0\n",
    "\n",
    "        for l in range(2**n):\n",
    "            somma[l]  = somma[l] + amplitudes[l]\n",
    "\n",
    "    for i in range(2**n):\n",
    "        somma[i] = somma[i]/reps \n",
    "\n",
    "    matrix[line] = somma\n",
    "\n",
    "#prova = merge\n",
    "merge = 0\n",
    "result = 0\n",
    "UeU = 0"
   ]
  },
  {
   "cell_type": "code",
   "execution_count": 31,
   "id": "02f723da",
   "metadata": {},
   "outputs": [
    {
     "data": {
      "image/png": "[encoded data removed]",
      "text/plain": [
       "<Figure size 1800x600 with 2 Axes>"
      ]
     },
     "metadata": {},
     "output_type": "display_data"
    }
   ],
   "source": [
    "from matplotlib.colors import LogNorm\n",
    "import pickle\n",
    "\n",
    "params = {'text.usetex' : True, 'font.size' : 20, 'font.family' : 'serif'}\n",
    "plt.rcParams.update(params)\n",
    "plt.rc('figure', figsize=(18, 6))  #18, 6 for n = 4\n",
    "\n",
    "plt.imshow(matrix, cmap = 'binary', interpolation ='nearest')\n",
    "plt.colorbar(label = 'Return Probability', location = 'right')\n",
    "\n",
    "plt.xlabel('States')\n",
    "plt.ylabel('Number of errors', rotation = 90)\n",
    "plt.tight_layout()\n",
    "\n",
    "row = []\n",
    "xs = []\n",
    "for i in range(2**n):\n",
    "    tmp = '{0:0b}'.format(i)\n",
    "    tmp_list = [int(x) for x in tmp]\n",
    "    while len(tmp_list) != n:\n",
    "        tmp_list.insert(0, 0)\n",
    "    tmp_final = ''.join(map(str, tmp_list))\n",
    "    row.append(tmp_final)\n",
    "    xs.append(i)\n",
    "\n",
    "row_labels = row\n",
    "plt.xticks(xs, row_labels)\n",
    "#'''\n",
    "#pickle.dump(matrix, open('QFT_return_probability_heatmap.pkl', 'wb'))\n",
    "plt.savefig('QFT_return_probability_heatmap_n4BIS.pdf', format = 'pdf') \n",
    "#'''"
   ]
  }
 ],
 "metadata": {
  "kernelspec": {
   "display_name": "Python 3 (ipykernel)",
   "language": "python",
   "name": "python3"
  },
  "language_info": {
   "codemirror_mode": {
    "name": "ipython",
    "version": 3
   },
   "file_extension": ".py",
   "mimetype": "text/x-python",
   "name": "python",
   "nbconvert_exporter": "python",
   "pygments_lexer": "ipython3",
   "version": "3.10.6"
  }
 },
 "nbformat": 4,
 "nbformat_minor": 5
}
