{
 "cells": [
  {
   "attachments": {},
   "cell_type": "markdown",
   "id": "7b4dd77f",
   "metadata": {},
   "source": [
    "# Average Entanglement Entropy in the QFT"
   ]
  },
  {
   "cell_type": "code",
   "execution_count": 2,
   "id": "b2738943",
   "metadata": {},
   "outputs": [
    {
     "name": "stdout",
     "output_type": "stream",
     "text": [
      "Import Successfully\n"
     ]
    }
   ],
   "source": [
    "from qiskit import QuantumCircuit, QuantumRegister, ClassicalRegister\n",
    "from qiskit.extensions import UnitaryGate\n",
    "from qiskit.providers.aer.library import SaveDensityMatrix\n",
    "from qiskit.visualization import array_to_latex\n",
    "from qiskit.quantum_info.operators import Operator\n",
    "from qiskit import execute, transpile, assemble\n",
    "from qiskit.visualization import plot_histogram\n",
    "import qiskit.quantum_info as qi\n",
    "from qiskit import Aer\n",
    "from sympy import factorint\n",
    "from numpy import linalg\n",
    "import matplotlib.pyplot as plt\n",
    "import matplotlib as mpl\n",
    "import numpy as np\n",
    "from numpy import pi\n",
    "from sympy import *\n",
    "import random\n",
    "from random import sample\n",
    "import pandas as pd\n",
    "import math\n",
    "\n",
    "\n",
    "from qiskit.providers.aer.noise import NoiseModel\n",
    "from qiskit.providers.aer.noise import QuantumError, ReadoutError\n",
    "from qiskit.providers.aer.noise import pauli_error\n",
    "from qiskit.providers.aer import AerSimulator\n",
    "from qiskit import Aer\n",
    "from numpy import pi\n",
    "import numpy as np\n",
    "import matplotlib as mpl\n",
    "import matplotlib.pyplot as plt\n",
    "import random\n",
    "print(\"Import Successfully\")"
   ]
  },
  {
   "cell_type": "code",
   "execution_count": 11,
   "id": "df05fff2",
   "metadata": {},
   "outputs": [],
   "source": [
    "def qft_dagger(n, qubits):\n",
    "    qc = QuantumCircuit(n)\n",
    "\n",
    "    size = len(qubits)\n",
    "    label = 0\n",
    "    qc.append(SaveDensityMatrix(size, label = f'pho_%.1f' % (label)), [i for i in qubits])\n",
    "\n",
    "        \n",
    "    for j in range(n):\n",
    "        for m in range(j):\n",
    "            label += 1\n",
    "            qc.cp(-np.pi/float(2**(j-m)), m, j)\n",
    "            qc.append(SaveDensityMatrix(size, label = f'pho_%.1f' % (label)), [i for i in qubits])\n",
    "        qc.h(j)\n",
    "        label +=1\n",
    "        qc.append(SaveDensityMatrix(size, label = f'pho_%.1f' % (label)), [i for i in qubits])\n",
    "\n",
    "    for qubit in range(n//2):\n",
    "        qc.swap(qubit, n-qubit-1)\n",
    "        label += 1\n",
    "        qc.append(SaveDensityMatrix(size, label = f'pho_%.1f' % (label)), [i for i in qubits])\n",
    "        #qc.barrier(n - 1)\n",
    "    return qc"
   ]
  },
  {
   "cell_type": "code",
   "execution_count": 14,
   "id": "989a1cd2",
   "metadata": {
    "scrolled": true
   },
   "outputs": [],
   "source": [
    "runs = 5\n",
    "n = 4\n",
    "\n",
    "tmp = 0\n",
    "for i in range(n - 2 + 1 ):\n",
    "    tmp = tmp + n - i\n",
    "\n",
    "rho_step = int(n/2 + tmp + 1)                #number of rhos to consider +1!\n",
    "somma = np.zeros(rho_step)\n",
    "\n",
    "for j in range(runs): \n",
    "\n",
    "    partition = random.randint(2, n)\n",
    "    qubit = random.sample(range(0, n), partition)\n",
    "    qc=qft_dagger(n, qubit)\n",
    "    qc = qc.inverse()\n",
    "    qc.measure_all()\n",
    "    \n",
    "    aer_sim = Aer.get_backend('aer_simulator')\n",
    "    t_qc = transpile(qc, aer_sim)\n",
    "    qobj = assemble(t_qc)                                \n",
    "    results = aer_sim.run(qobj, shots = 1).result()\n",
    "    counts = results.get_counts()\n",
    "\n",
    "    labels = []\n",
    "    for i in range(len(counts)):\n",
    "        labels.append(int(list(counts.keys())[i], 2))\n",
    "\n",
    "    negativities = []\n",
    "    for i in reversed(range(rho_step)):\n",
    "        density_matrix = results.data()['pho_%.1f' % (i)]\n",
    "\n",
    "        #conjugate = density_matrix.transpose()#_op\n",
    "        #product = np.matmul(conjugate, density_matrix) #_op\n",
    "        #root = np.sqrt(product)\n",
    "        #norm = root.trace()\n",
    "        #negativities.append((norm- 1)/2)\n",
    "        negativities.append(qi.entropy(density_matrix))\n",
    "        #density_matrix_op = density_matrix.to_operator()\n",
    "        #density_matrix_tr = density_matrix_op.transpose()\n",
    "        #negativities.append( (linalg.norm(density_matrix_tr, 1) - 1)/2 )\n",
    "        \n",
    "    #print(j, negativities)\n",
    "    for i in range(len(negativities)):\n",
    "        somma[i] = somma[i] + negativities[i]\n",
    "    \n",
    "    qc_prova = qc\n",
    "    negativities = 0\n",
    "    qc = 0\n",
    "    counts = 0\n",
    "    results = 0\n",
    "    density_matrix = 0\n",
    "    t_qc = 0\n",
    "    qobj = 0\n",
    "     \n",
    "j += 1\n",
    "\n",
    "media = np.zeros(rho_step)\n",
    "for i in range(rho_step):\n",
    "    media[i] =  somma[i]/ runs"
   ]
  },
  {
   "cell_type": "code",
   "execution_count": 15,
   "id": "fe902fd9",
   "metadata": {},
   "outputs": [
    {
     "data": {
      "text/html": [
       "<pre style=\"word-wrap: normal;white-space: pre;background: #fff0;line-height: 1.1;font-family: &quot;Courier New&quot;,Courier,monospace\">            ░            ░            ░              ░                 ░                 ░                 ░             ░                 ░                 ░             ░                 ░    ┌───┐    ░     ░ ┌─┐         \n",
       "   q_0: ────░────────────░──────X─────░──────────────░─────────────────░─────────────────░─────■───────────░─────────────░─────────────────░─────■───────────░─────────────░─────■───────────░────┤ H ├────░─────░─┤M├─────────\n",
       "         pho_12.0     pho_11.0  │  pho_10.0       pho_9.0           pho_8.0           pho_7.0  │        pho_6.0       pho_5.0           pho_4.0  │        pho_3.0 ┌───┐ pho_2.0  │P(π/2)  pho_1.0 └───┘ pho_0.0  ░ └╥┘┌─┐      \n",
       "   q_1: ────░──────X─────░──────┼─────░──────────────░─────────────────░─────■───────────░─────┼───────────░─────────────░─────■───────────░─────┼───────────░────┤ H ├────░─────■───────────░─────────────░─────░──╫─┤M├──────\n",
       "            ░      │     ░      │     ░              ░                 ░     │           ░     │           ░    ┌───┐    ░     │P(π/2)     ░     │P(π/4)     ░    └───┘    ░                 ░             ░     ░  ║ └╥┘┌─┐   \n",
       "   q_2: ────░──────X─────░──────┼─────░──────────────░─────■───────────░─────┼───────────░─────┼───────────░────┤ H ├────░─────■───────────░─────■───────────░─────────────░─────────────────░─────────────░─────░──╫──╫─┤M├───\n",
       "            ░            ░      │     ░     ┌───┐    ░     │P(π/2)     ░     │P(π/4)     ░     │P(π/8)     ░    └───┘    ░                 ░                 ░             ░                 ░             ░     ░  ║  ║ └╥┘┌─┐\n",
       "   q_3: ────░────────────░──────X─────░─────┤ H ├────░─────■───────────░─────■───────────░─────■───────────░─────────────░─────────────────░─────────────────░─────────────░─────────────────░─────────────░─────░──╫──╫──╫─┤M├\n",
       "            ░            ░            ░     └───┘    ░                 ░                 ░                 ░             ░                 ░                 ░             ░                 ░             ░     ░  ║  ║  ║ └╥┘\n",
       "meas_0: ════════════════════════════════════════════════════════════════════════════════════════════════════════════════════════════════════════════════════════════════════════════════════════════════════════════╩══╬══╬══╬═\n",
       "                                                                                                                                                                                                                       ║  ║  ║ \n",
       "meas_1: ═══════════════════════════════════════════════════════════════════════════════════════════════════════════════════════════════════════════════════════════════════════════════════════════════════════════════╩══╬══╬═\n",
       "                                                                                                                                                                                                                          ║  ║ \n",
       "meas_2: ══════════════════════════════════════════════════════════════════════════════════════════════════════════════════════════════════════════════════════════════════════════════════════════════════════════════════╩══╬═\n",
       "                                                                                                                                                                                                                             ║ \n",
       "meas_3: ═════════════════════════════════════════════════════════════════════════════════════════════════════════════════════════════════════════════════════════════════════════════════════════════════════════════════════╩═\n",
       "                                                                                                                                                                                                                               </pre>"
      ],
      "text/plain": [
       "            ░            ░            ░              ░                 ░                 ░                 ░             ░                 ░                 ░             ░                 ░    ┌───┐    ░     ░ ┌─┐         \n",
       "   q_0: ────░────────────░──────X─────░──────────────░─────────────────░─────────────────░─────■───────────░─────────────░─────────────────░─────■───────────░─────────────░─────■───────────░────┤ H ├────░─────░─┤M├─────────\n",
       "         pho_12.0     pho_11.0  │  pho_10.0       pho_9.0           pho_8.0           pho_7.0  │        pho_6.0       pho_5.0           pho_4.0  │        pho_3.0 ┌───┐ pho_2.0  │P(π/2)  pho_1.0 └───┘ pho_0.0  ░ └╥┘┌─┐      \n",
       "   q_1: ────░──────X─────░──────┼─────░──────────────░─────────────────░─────■───────────░─────┼───────────░─────────────░─────■───────────░─────┼───────────░────┤ H ├────░─────■───────────░─────────────░─────░──╫─┤M├──────\n",
       "            ░      │     ░      │     ░              ░                 ░     │           ░     │           ░    ┌───┐    ░     │P(π/2)     ░     │P(π/4)     ░    └───┘    ░                 ░             ░     ░  ║ └╥┘┌─┐   \n",
       "   q_2: ────░──────X─────░──────┼─────░──────────────░─────■───────────░─────┼───────────░─────┼───────────░────┤ H ├────░─────■───────────░─────■───────────░─────────────░─────────────────░─────────────░─────░──╫──╫─┤M├───\n",
       "            ░            ░      │     ░     ┌───┐    ░     │P(π/2)     ░     │P(π/4)     ░     │P(π/8)     ░    └───┘    ░                 ░                 ░             ░                 ░             ░     ░  ║  ║ └╥┘┌─┐\n",
       "   q_3: ────░────────────░──────X─────░─────┤ H ├────░─────■───────────░─────■───────────░─────■───────────░─────────────░─────────────────░─────────────────░─────────────░─────────────────░─────────────░─────░──╫──╫──╫─┤M├\n",
       "            ░            ░            ░     └───┘    ░                 ░                 ░                 ░             ░                 ░                 ░             ░                 ░             ░     ░  ║  ║  ║ └╥┘\n",
       "meas_0: ════════════════════════════════════════════════════════════════════════════════════════════════════════════════════════════════════════════════════════════════════════════════════════════════════════════╩══╬══╬══╬═\n",
       "                                                                                                                                                                                                                       ║  ║  ║ \n",
       "meas_1: ═══════════════════════════════════════════════════════════════════════════════════════════════════════════════════════════════════════════════════════════════════════════════════════════════════════════════╩══╬══╬═\n",
       "                                                                                                                                                                                                                          ║  ║ \n",
       "meas_2: ══════════════════════════════════════════════════════════════════════════════════════════════════════════════════════════════════════════════════════════════════════════════════════════════════════════════════╩══╬═\n",
       "                                                                                                                                                                                                                             ║ \n",
       "meas_3: ═════════════════════════════════════════════════════════════════════════════════════════════════════════════════════════════════════════════════════════════════════════════════════════════════════════════════════╩═\n",
       "                                                                                                                                                                                                                               "
      ]
     },
     "execution_count": 15,
     "metadata": {},
     "output_type": "execute_result"
    }
   ],
   "source": [
    "qc_prova.draw(fold =- 1)"
   ]
  },
  {
   "cell_type": "code",
   "execution_count": 16,
   "id": "e69920e2",
   "metadata": {},
   "outputs": [
    {
     "data": {
      "text/plain": [
       "[<matplotlib.lines.Line2D at 0x2849edda980>]"
      ]
     },
     "execution_count": 16,
     "metadata": {},
     "output_type": "execute_result"
    },
    {
     "data": {
      "image/png": "[encoded data removed]",
      "text/plain": [
       "<Figure size 1800x600 with 1 Axes>"
      ]
     },
     "metadata": {},
     "output_type": "display_data"
    }
   ],
   "source": [
    "import matplotlib.pyplot as plt\n",
    "plt.rc('figure', figsize=(18, 6))\n",
    "params = {'text.usetex' : True, 'font.size' : 12, 'font.family' : 'serif'}\n",
    "plt.rcParams.update(params)\n",
    "\n",
    "xs = []\n",
    "for i in range(len(media)):\n",
    "    xs.append(i)\n",
    "\n",
    "plt.xticks(xs)\n",
    "plt.xlabel('Circuit Step')\n",
    "plt.ylabel(r\"$N(\\rho)$\")\n",
    "plt.plot(media, color = '#4C495A')\n",
    "#plt.savefig('qft_ent_partitionsRAND.pdf', format = 'pdf')\n"
   ]
  }
 ],
 "metadata": {
  "kernelspec": {
   "display_name": "quiskit",
   "language": "python",
   "name": "python3"
  },
  "language_info": {
   "codemirror_mode": {
    "name": "ipython",
    "version": 3
   },
   "file_extension": ".py",
   "mimetype": "text/x-python",
   "name": "python",
   "nbconvert_exporter": "python",
   "pygments_lexer": "ipython3",
   "version": "3.10.6"
  },
  "vscode": {
   "interpreter": {
    "hash": "84f9208bcd2cdd37fa427a1d8ac59408d93773082155f4ec266fa8edec84db81"
   }
  }
 },
 "nbformat": 4,
 "nbformat_minor": 5
}
