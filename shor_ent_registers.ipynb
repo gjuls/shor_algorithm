{
 "cells": [
  {
   "cell_type": "code",
   "execution_count": 1,
   "id": "b2738943",
   "metadata": {},
   "outputs": [],
   "source": [
    "from qiskit import QuantumCircuit, QuantumRegister, ClassicalRegister\n",
    "from qiskit.extensions import UnitaryGate\n",
    "from qiskit.quantum_info.operators import Operator\n",
    "from qiskit import execute, transpile, assemble\n",
    "from qiskit import Aer\n",
    "from qiskit.visualization import plot_histogram\n",
    "from sympy import factorint\n",
    "from numpy import linalg\n",
    "import numpy as np\n",
    "from numpy import pi\n",
    "from sympy import *\n",
    "import random\n",
    "from random import sample\n",
    "import math\n",
    "\n",
    "import qiskit.quantum_info as qi\n",
    "from qiskit.visualization import array_to_latex\n",
    "from qiskit.providers.aer.library import SaveDensityMatrix"
   ]
  },
  {
   "cell_type": "code",
   "execution_count": 2,
   "id": "3bab5d18",
   "metadata": {},
   "outputs": [],
   "source": [
    "import matplotlib.pyplot as plt\n",
    "plt.rc('figure', figsize=(16, 6))"
   ]
  },
  {
   "cell_type": "code",
   "execution_count": 3,
   "id": "b442ee69",
   "metadata": {},
   "outputs": [],
   "source": [
    "def check(number):\n",
    "    if number % 2 == 0:\n",
    "        print(\"Even, 2 is a divisor\")\n",
    "        return\n",
    "        \n",
    "    if isprime(number) == True:\n",
    "        print(\"Prime number\")\n",
    "        return\n",
    "    \n",
    "    factorization = factorint(number)\n",
    "    for i in range(len(factorization.keys())):\n",
    "        p = list(factorization)[i]\n",
    "        q = list(factorization.values())[i]\n",
    "        if isprime(p) and q != 1:\n",
    "            print(\"Prime Power: %i^%i, %i is a divisor\" % ( p, q, p))\n",
    "            return\n",
    "    \n",
    "    y = random.randrange(2, number - 1)\n",
    "    a = math.gcd(y, number)\n",
    "    if a > 1:\n",
    "        print(\"Divisor: a = %i\" %(a))\n",
    "        return y\n",
    "        \n",
    "    else:\n",
    "        print(\"y = %i and N = %i are coprime - r well defined\" %  (y, N))\n",
    "        return y\n",
    "    "
   ]
  },
  {
   "cell_type": "code",
   "execution_count": 4,
   "id": "66daa3c8",
   "metadata": {},
   "outputs": [],
   "source": [
    "def mod_exp(n, y, N, power):\n",
    "    dim = 2**n\n",
    "    matrix = np.zeros((dim, dim))\n",
    "    \n",
    "    for i in range(N):\n",
    "        j = (i*y)%N\n",
    "        matrix[j][i]=1\n",
    "             \n",
    "    for ii in range(N, dim):\n",
    "        matrix[ii][ii] = 1\n",
    "             \n",
    "    matrix = linalg.matrix_power(matrix, 2**power) #possibly dimezzare op. number\n",
    "        \n",
    "    U = UnitaryGate(matrix)\n",
    "    \n",
    "    U.name = \"%i^%i mod %i\" % ( y, 2**power, N)\n",
    "    c_U = U.control()\n",
    "    return c_U"
   ]
  },
  {
   "cell_type": "code",
   "execution_count": 5,
   "id": "df05fff2",
   "metadata": {},
   "outputs": [],
   "source": [
    "def qft_dagger(n):\n",
    "    qc = QuantumCircuit(n)\n",
    "\n",
    "    for qubit in range(n//2):\n",
    "        qc.swap(qubit, n-qubit-1)\n",
    "    for j in range(n):\n",
    "        for m in range(j):\n",
    "            qc.cp(-np.pi/float(2**(j-m)), m, j)\n",
    "        qc.h(j)\n",
    "    qc.name = \"QFT†\"\n",
    "    return qc"
   ]
  },
  {
   "cell_type": "code",
   "execution_count": 6,
   "id": "a2b6598f",
   "metadata": {},
   "outputs": [
    {
     "name": "stdout",
     "output_type": "stream",
     "text": [
      "Enter integer N = 15\n"
     ]
    }
   ],
   "source": [
    "N = int(input(\"Enter integer N = \"))"
   ]
  },
  {
   "cell_type": "code",
   "execution_count": 7,
   "id": "2fb92b5d",
   "metadata": {
    "scrolled": true
   },
   "outputs": [
    {
     "name": "stdout",
     "output_type": "stream",
     "text": [
      "Divisor: a = 5\n"
     ]
    },
    {
     "data": {
      "text/plain": [
       "10"
      ]
     },
     "execution_count": 7,
     "metadata": {},
     "output_type": "execute_result"
    }
   ],
   "source": [
    "check(N)"
   ]
  },
  {
   "cell_type": "code",
   "execution_count": 116,
   "id": "36be9acd",
   "metadata": {
    "scrolled": false
   },
   "outputs": [
    {
     "data": {
      "text/html": [
       "<pre style=\"word-wrap: normal;white-space: pre;background: #fff0;line-height: 1.1;font-family: &quot;Courier New&quot;,Courier,monospace\">       pho_0 ┌───┐ pho_1                 pho_2                 pho_3                 pho_4                 pho_5                  pho_6                  pho_7                  pho_8                   pho_9 ┌───────┐ pho_10  ░ ┌─┐                      ░  pho_11 \n",
       "r1_0: ───░───┤ H ├───░──────────■──────────░─────────────────────░─────────────────────░─────────────────────░──────────────────────░──────────────────────░──────────────────────░───────────────────────░───┤0      ├───░─────░─┤M├──────────────────────░────░────\n",
       "         ░   ├───┤   ░          │          ░                     ░                     ░                     ░                      ░                      ░                      ░                       ░   │       │   ░     ░ └╥┘┌─┐                   ░    ░    \n",
       "r1_1: ───░───┤ H ├───░──────────┼──────────░──────────■──────────░─────────────────────░─────────────────────░──────────────────────░──────────────────────░──────────────────────░───────────────────────░───┤1      ├───░─────░──╫─┤M├───────────────────░────░────\n",
       "         ░   ├───┤   ░          │          ░          │          ░                     ░                     ░                      ░                      ░                      ░                       ░   │       │   ░     ░  ║ └╥┘┌─┐                ░    ░    \n",
       "r1_2: ───░───┤ H ├───░──────────┼──────────░──────────┼──────────░──────────■──────────░─────────────────────░──────────────────────░──────────────────────░──────────────────────░───────────────────────░───┤2      ├───░─────░──╫──╫─┤M├────────────────░────░────\n",
       "         ░   ├───┤   ░          │          ░          │          ░          │          ░                     ░                      ░                      ░                      ░                       ░   │       │   ░     ░  ║  ║ └╥┘┌─┐             ░    ░    \n",
       "r1_3: ───░───┤ H ├───░──────────┼──────────░──────────┼──────────░──────────┼──────────░──────────■──────────░──────────────────────░──────────────────────░──────────────────────░───────────────────────░───┤3      ├───░─────░──╫──╫──╫─┤M├─────────────░────░────\n",
       "         ░   ├───┤   ░          │          ░          │          ░          │          ░          │          ░                      ░                      ░                      ░                       ░   │  QFT† │   ░     ░  ║  ║  ║ └╥┘┌─┐          ░    ░    \n",
       "r1_4: ───░───┤ H ├───░──────────┼──────────░──────────┼──────────░──────────┼──────────░──────────┼──────────░──────────■───────────░──────────────────────░──────────────────────░───────────────────────░───┤4      ├───░─────░──╫──╫──╫──╫─┤M├──────────░────░────\n",
       "         ░   ├───┤   ░          │          ░          │          ░          │          ░          │          ░          │           ░                      ░                      ░                       ░   │       │   ░     ░  ║  ║  ║  ║ └╥┘┌─┐       ░    ░    \n",
       "r1_5: ───░───┤ H ├───░──────────┼──────────░──────────┼──────────░──────────┼──────────░──────────┼──────────░──────────┼───────────░──────────■───────────░──────────────────────░───────────────────────░───┤5      ├───░─────░──╫──╫──╫──╫──╫─┤M├───────░────░────\n",
       "         ░   ├───┤   ░          │          ░          │          ░          │          ░          │          ░          │           ░          │           ░                      ░                       ░   │       │   ░     ░  ║  ║  ║  ║  ║ └╥┘┌─┐    ░    ░    \n",
       "r1_6: ───░───┤ H ├───░──────────┼──────────░──────────┼──────────░──────────┼──────────░──────────┼──────────░──────────┼───────────░──────────┼───────────░──────────■───────────░───────────────────────░───┤6      ├───░─────░──╫──╫──╫──╫──╫──╫─┤M├────░────░────\n",
       "         ░   ├───┤   ░          │          ░          │          ░          │          ░          │          ░          │           ░          │           ░          │           ░                       ░   │       │   ░     ░  ║  ║  ║  ║  ║  ║ └╥┘┌─┐ ░    ░    \n",
       "r1_7: ───░───┤ H ├───░──────────┼──────────░──────────┼──────────░──────────┼──────────░──────────┼──────────░──────────┼───────────░──────────┼───────────░──────────┼───────────░───────────■───────────░───┤7      ├───░─────░──╫──╫──╫──╫──╫──╫──╫─┤M├─░────░────\n",
       "         ░   └───┘   ░   ┌──────┴──────┐   ░   ┌──────┴──────┐   ░   ┌──────┴──────┐   ░   ┌──────┴──────┐   ░   ┌──────┴───────┐   ░   ┌──────┴───────┐   ░   ┌──────┴───────┐   ░   ┌───────┴───────┐   ░   └───────┘   ░     ░  ║  ║  ║  ║  ║  ║  ║ └╥┘ ░    ░    \n",
       "t1_0: ───────────────────┤0            ├───────┤0            ├───────┤0            ├───────┤0            ├───────┤0             ├───────┤0             ├───────┤0             ├───────┤0              ├────────────────────────────╫──╫──╫──╫──╫──╫──╫──╫────────────\n",
       "                         │             │       │             │       │             │       │             │       │              │       │              │       │              │       │               │                            ║  ║  ║  ║  ║  ║  ║  ║            \n",
       "t1_1: ───────────────────┤1            ├───────┤1            ├───────┤1            ├───────┤1            ├───────┤1             ├───────┤1             ├───────┤1             ├───────┤1              ├────────────────────────────╫──╫──╫──╫──╫──╫──╫──╫────────────\n",
       "                         │  8^1 mod 15 │       │  8^2 mod 15 │       │  8^4 mod 15 │       │  8^8 mod 15 │       │  8^16 mod 15 │       │  8^32 mod 15 │       │  8^64 mod 15 │       │  8^128 mod 15 │                            ║  ║  ║  ║  ║  ║  ║  ║            \n",
       "t1_2: ───────────────────┤2            ├───────┤2            ├───────┤2            ├───────┤2            ├───────┤2             ├───────┤2             ├───────┤2             ├───────┤2              ├────────────────────────────╫──╫──╫──╫──╫──╫──╫──╫────────────\n",
       "         ░   ┌───┐       │             │       │             │       │             │       │             │       │              │       │              │       │              │       │               │                            ║  ║  ║  ║  ║  ║  ║  ║            \n",
       "t1_3: ───░───┤ X ├───────┤3            ├───────┤3            ├───────┤3            ├───────┤3            ├───────┤3             ├───────┤3             ├───────┤3             ├───────┤3              ├────────────────────────────╫──╫──╫──╫──╫──╫──╫──╫────────────\n",
       "         ░   └───┘       └─────────────┘       └─────────────┘       └─────────────┘       └─────────────┘       └──────────────┘       └──────────────┘       └──────────────┘       └───────────────┘                            ║  ║  ║  ║  ║  ║  ║  ║            \n",
       " c_0: ═════════════════════════════════════════════════════════════════════════════════════════════════════════════════════════════════════════════════════════════════════════════════════════════════════════════════════════════╩══╬══╬══╬══╬══╬══╬══╬════════════\n",
       "                                                                                                                                                                                                                                      ║  ║  ║  ║  ║  ║  ║            \n",
       " c_1: ════════════════════════════════════════════════════════════════════════════════════════════════════════════════════════════════════════════════════════════════════════════════════════════════════════════════════════════════╩══╬══╬══╬══╬══╬══╬════════════\n",
       "                                                                                                                                                                                                                                         ║  ║  ║  ║  ║  ║            \n",
       " c_2: ═══════════════════════════════════════════════════════════════════════════════════════════════════════════════════════════════════════════════════════════════════════════════════════════════════════════════════════════════════╩══╬══╬══╬══╬══╬════════════\n",
       "                                                                                                                                                                                                                                            ║  ║  ║  ║  ║            \n",
       " c_3: ══════════════════════════════════════════════════════════════════════════════════════════════════════════════════════════════════════════════════════════════════════════════════════════════════════════════════════════════════════╩══╬══╬══╬══╬════════════\n",
       "                                                                                                                                                                                                                                               ║  ║  ║  ║            \n",
       " c_4: ═════════════════════════════════════════════════════════════════════════════════════════════════════════════════════════════════════════════════════════════════════════════════════════════════════════════════════════════════════════╩══╬══╬══╬════════════\n",
       "                                                                                                                                                                                                                                                  ║  ║  ║            \n",
       " c_5: ════════════════════════════════════════════════════════════════════════════════════════════════════════════════════════════════════════════════════════════════════════════════════════════════════════════════════════════════════════════╩══╬══╬════════════\n",
       "                                                                                                                                                                                                                                                     ║  ║            \n",
       " c_6: ═══════════════════════════════════════════════════════════════════════════════════════════════════════════════════════════════════════════════════════════════════════════════════════════════════════════════════════════════════════════════╩══╬════════════\n",
       "                                                                                                                                                                                                                                                        ║            \n",
       " c_7: ══════════════════════════════════════════════════════════════════════════════════════════════════════════════════════════════════════════════════════════════════════════════════════════════════════════════════════════════════════════════════╩════════════\n",
       "                                                                                                                                                                                                                                                                     </pre>"
      ],
      "text/plain": [
       "       pho_0 ┌───┐ pho_1                 pho_2                 pho_3                 pho_4                 pho_5                  pho_6                  pho_7                  pho_8                   pho_9 ┌───────┐ pho_10  ░ ┌─┐                      ░  pho_11 \n",
       "r1_0: ───░───┤ H ├───░──────────■──────────░─────────────────────░─────────────────────░─────────────────────░──────────────────────░──────────────────────░──────────────────────░───────────────────────░───┤0      ├───░─────░─┤M├──────────────────────░────░────\n",
       "         ░   ├───┤   ░          │          ░                     ░                     ░                     ░                      ░                      ░                      ░                       ░   │       │   ░     ░ └╥┘┌─┐                   ░    ░    \n",
       "r1_1: ───░───┤ H ├───░──────────┼──────────░──────────■──────────░─────────────────────░─────────────────────░──────────────────────░──────────────────────░──────────────────────░───────────────────────░───┤1      ├───░─────░──╫─┤M├───────────────────░────░────\n",
       "         ░   ├───┤   ░          │          ░          │          ░                     ░                     ░                      ░                      ░                      ░                       ░   │       │   ░     ░  ║ └╥┘┌─┐                ░    ░    \n",
       "r1_2: ───░───┤ H ├───░──────────┼──────────░──────────┼──────────░──────────■──────────░─────────────────────░──────────────────────░──────────────────────░──────────────────────░───────────────────────░───┤2      ├───░─────░──╫──╫─┤M├────────────────░────░────\n",
       "         ░   ├───┤   ░          │          ░          │          ░          │          ░                     ░                      ░                      ░                      ░                       ░   │       │   ░     ░  ║  ║ └╥┘┌─┐             ░    ░    \n",
       "r1_3: ───░───┤ H ├───░──────────┼──────────░──────────┼──────────░──────────┼──────────░──────────■──────────░──────────────────────░──────────────────────░──────────────────────░───────────────────────░───┤3      ├───░─────░──╫──╫──╫─┤M├─────────────░────░────\n",
       "         ░   ├───┤   ░          │          ░          │          ░          │          ░          │          ░                      ░                      ░                      ░                       ░   │  QFT† │   ░     ░  ║  ║  ║ └╥┘┌─┐          ░    ░    \n",
       "r1_4: ───░───┤ H ├───░──────────┼──────────░──────────┼──────────░──────────┼──────────░──────────┼──────────░──────────■───────────░──────────────────────░──────────────────────░───────────────────────░───┤4      ├───░─────░──╫──╫──╫──╫─┤M├──────────░────░────\n",
       "         ░   ├───┤   ░          │          ░          │          ░          │          ░          │          ░          │           ░                      ░                      ░                       ░   │       │   ░     ░  ║  ║  ║  ║ └╥┘┌─┐       ░    ░    \n",
       "r1_5: ───░───┤ H ├───░──────────┼──────────░──────────┼──────────░──────────┼──────────░──────────┼──────────░──────────┼───────────░──────────■───────────░──────────────────────░───────────────────────░───┤5      ├───░─────░──╫──╫──╫──╫──╫─┤M├───────░────░────\n",
       "         ░   ├───┤   ░          │          ░          │          ░          │          ░          │          ░          │           ░          │           ░                      ░                       ░   │       │   ░     ░  ║  ║  ║  ║  ║ └╥┘┌─┐    ░    ░    \n",
       "r1_6: ───░───┤ H ├───░──────────┼──────────░──────────┼──────────░──────────┼──────────░──────────┼──────────░──────────┼───────────░──────────┼───────────░──────────■───────────░───────────────────────░───┤6      ├───░─────░──╫──╫──╫──╫──╫──╫─┤M├────░────░────\n",
       "         ░   ├───┤   ░          │          ░          │          ░          │          ░          │          ░          │           ░          │           ░          │           ░                       ░   │       │   ░     ░  ║  ║  ║  ║  ║  ║ └╥┘┌─┐ ░    ░    \n",
       "r1_7: ───░───┤ H ├───░──────────┼──────────░──────────┼──────────░──────────┼──────────░──────────┼──────────░──────────┼───────────░──────────┼───────────░──────────┼───────────░───────────■───────────░───┤7      ├───░─────░──╫──╫──╫──╫──╫──╫──╫─┤M├─░────░────\n",
       "         ░   └───┘   ░   ┌──────┴──────┐   ░   ┌──────┴──────┐   ░   ┌──────┴──────┐   ░   ┌──────┴──────┐   ░   ┌──────┴───────┐   ░   ┌──────┴───────┐   ░   ┌──────┴───────┐   ░   ┌───────┴───────┐   ░   └───────┘   ░     ░  ║  ║  ║  ║  ║  ║  ║ └╥┘ ░    ░    \n",
       "t1_0: ───────────────────┤0            ├───────┤0            ├───────┤0            ├───────┤0            ├───────┤0             ├───────┤0             ├───────┤0             ├───────┤0              ├────────────────────────────╫──╫──╫──╫──╫──╫──╫──╫────────────\n",
       "                         │             │       │             │       │             │       │             │       │              │       │              │       │              │       │               │                            ║  ║  ║  ║  ║  ║  ║  ║            \n",
       "t1_1: ───────────────────┤1            ├───────┤1            ├───────┤1            ├───────┤1            ├───────┤1             ├───────┤1             ├───────┤1             ├───────┤1              ├────────────────────────────╫──╫──╫──╫──╫──╫──╫──╫────────────\n",
       "                         │  8^1 mod 15 │       │  8^2 mod 15 │       │  8^4 mod 15 │       │  8^8 mod 15 │       │  8^16 mod 15 │       │  8^32 mod 15 │       │  8^64 mod 15 │       │  8^128 mod 15 │                            ║  ║  ║  ║  ║  ║  ║  ║            \n",
       "t1_2: ───────────────────┤2            ├───────┤2            ├───────┤2            ├───────┤2            ├───────┤2             ├───────┤2             ├───────┤2             ├───────┤2              ├────────────────────────────╫──╫──╫──╫──╫──╫──╫──╫────────────\n",
       "         ░   ┌───┐       │             │       │             │       │             │       │             │       │              │       │              │       │              │       │               │                            ║  ║  ║  ║  ║  ║  ║  ║            \n",
       "t1_3: ───░───┤ X ├───────┤3            ├───────┤3            ├───────┤3            ├───────┤3            ├───────┤3             ├───────┤3             ├───────┤3             ├───────┤3              ├────────────────────────────╫──╫──╫──╫──╫──╫──╫──╫────────────\n",
       "         ░   └───┘       └─────────────┘       └─────────────┘       └─────────────┘       └─────────────┘       └──────────────┘       └──────────────┘       └──────────────┘       └───────────────┘                            ║  ║  ║  ║  ║  ║  ║  ║            \n",
       " c_0: ═════════════════════════════════════════════════════════════════════════════════════════════════════════════════════════════════════════════════════════════════════════════════════════════════════════════════════════════╩══╬══╬══╬══╬══╬══╬══╬════════════\n",
       "                                                                                                                                                                                                                                      ║  ║  ║  ║  ║  ║  ║            \n",
       " c_1: ════════════════════════════════════════════════════════════════════════════════════════════════════════════════════════════════════════════════════════════════════════════════════════════════════════════════════════════════╩══╬══╬══╬══╬══╬══╬════════════\n",
       "                                                                                                                                                                                                                                         ║  ║  ║  ║  ║  ║            \n",
       " c_2: ═══════════════════════════════════════════════════════════════════════════════════════════════════════════════════════════════════════════════════════════════════════════════════════════════════════════════════════════════════╩══╬══╬══╬══╬══╬════════════\n",
       "                                                                                                                                                                                                                                            ║  ║  ║  ║  ║            \n",
       " c_3: ══════════════════════════════════════════════════════════════════════════════════════════════════════════════════════════════════════════════════════════════════════════════════════════════════════════════════════════════════════╩══╬══╬══╬══╬════════════\n",
       "                                                                                                                                                                                                                                               ║  ║  ║  ║            \n",
       " c_4: ═════════════════════════════════════════════════════════════════════════════════════════════════════════════════════════════════════════════════════════════════════════════════════════════════════════════════════════════════════════╩══╬══╬══╬════════════\n",
       "                                                                                                                                                                                                                                                  ║  ║  ║            \n",
       " c_5: ════════════════════════════════════════════════════════════════════════════════════════════════════════════════════════════════════════════════════════════════════════════════════════════════════════════════════════════════════════════╩══╬══╬════════════\n",
       "                                                                                                                                                                                                                                                     ║  ║            \n",
       " c_6: ═══════════════════════════════════════════════════════════════════════════════════════════════════════════════════════════════════════════════════════════════════════════════════════════════════════════════════════════════════════════════╩══╬════════════\n",
       "                                                                                                                                                                                                                                                        ║            \n",
       " c_7: ══════════════════════════════════════════════════════════════════════════════════════════════════════════════════════════════════════════════════════════════════════════════════════════════════════════════════════════════════════════════════╩════════════\n",
       "                                                                                                                                                                                                                                                                     "
      ]
     },
     "execution_count": 116,
     "metadata": {},
     "output_type": "execute_result"
    }
   ],
   "source": [
    "y = 8\n",
    "n = math.ceil(math.log(N,2))\n",
    "\n",
    "control = QuantumRegister(2*n, 'r1')\n",
    "target  = QuantumRegister(n, 't1')\n",
    "classic = ClassicalRegister(2*n, 'c')\n",
    "\n",
    "circuit = QuantumCircuit(control, target, classic)\n",
    "qubits = control\n",
    "label = 0\n",
    "circuit.append(SaveDensityMatrix(size, label = f'pho_%i' % (label)), [i for i in qubits])\n",
    "circuit.barrier(3*n - 1)\n",
    "\n",
    "circuit.h(range(2*n))\n",
    "circuit.x(2*n + n -1)\n",
    "\n",
    "label += 1\n",
    "size = len(qubits)\n",
    "circuit.append(SaveDensityMatrix(size, label = f'pho_%i' % (label)), [i for i in qubits])\n",
    "\n",
    "for q in range(2*n):\n",
    "    label += 1\n",
    "    circuit.append(mod_exp(n, y, N, q), [q] + [i+2*n for i in range(n)]) \n",
    "    circuit.append(SaveDensityMatrix(size, label = f'pho_%i' % (label)), [i for i in qubits])\n",
    "  \n",
    "circuit.append(qft_dagger(2*n), range(2*n)) \n",
    "label += 1\n",
    "circuit.append(SaveDensityMatrix(size, label = f'pho_%i' % (label)), [i for i in qubits])\n",
    "\n",
    "circuit.barrier(control)\n",
    "circuit.measure(range(2*n), range(2*n))\n",
    "circuit.barrier(control)\n",
    "label += 1\n",
    "circuit.append(SaveDensityMatrix(size, label = f'pho_%i' % (label)), [i for i in qubits])\n",
    "\n",
    "circuit.draw(fold = -1, scale = 0.5)        "
   ]
  },
  {
   "cell_type": "code",
   "execution_count": 107,
   "id": "337a58e5",
   "metadata": {},
   "outputs": [
    {
     "data": {
      "image/png": "[encoded data removed]",
      "text/plain": [
       "<Figure size 700x500 with 1 Axes>"
      ]
     },
     "execution_count": 107,
     "metadata": {},
     "output_type": "execute_result"
    }
   ],
   "source": [
    "aer_sim = Aer.get_backend('aer_simulator')\n",
    "t_qc = transpile(circuit, aer_sim)\n",
    "qobj = assemble(t_qc)                             #1024 shots\n",
    "results = aer_sim.run(qobj).result()\n",
    "\n",
    "counts = results.get_counts()\n",
    "\n",
    "labels = []\n",
    "for i in range(len(counts)):\n",
    "    labels.append(   int(list(counts.keys())[i], 2 )   )\n",
    "    \n",
    "\n",
    "new_counts = dict(zip(labels,list(counts.values()) ))\n",
    "plot_histogram(new_counts)"
   ]
  },
  {
   "cell_type": "code",
   "execution_count": 108,
   "id": "d7a4875c",
   "metadata": {},
   "outputs": [],
   "source": [
    "entropies = []\n",
    "for i in range (label):\n",
    "    density_matrix = density_matrix = results.data()['pho_%i' % (i)]\n",
    "    entropies.append(qi.entropy(density_matrix))"
   ]
  },
  {
   "cell_type": "code",
   "execution_count": 109,
   "id": "2e683c24",
   "metadata": {},
   "outputs": [
    {
     "data": {
      "text/plain": [
       "[<matplotlib.lines.Line2D at 0x14ccc8739d0>]"
      ]
     },
     "execution_count": 109,
     "metadata": {},
     "output_type": "execute_result"
    },
    {
     "data": {
      "image/png": "[encoded data removed]",
      "text/plain": [
       "<Figure size 1600x600 with 1 Axes>"
      ]
     },
     "metadata": {},
     "output_type": "display_data"
    }
   ],
   "source": [
    "plt.plot(entropies)"
   ]
  },
  {
   "cell_type": "code",
   "execution_count": 110,
   "id": "a4b63570",
   "metadata": {},
   "outputs": [
    {
     "data": {
      "text/plain": [
       "[1.6017132519074586e-16,\n",
       " 1.6017132520549657e-16,\n",
       " 0.9999999999999262,\n",
       " 2.000000000000216,\n",
       " 2.000000000000216,\n",
       " 2.000000000000216,\n",
       " 2.000000000000216,\n",
       " 2.000000000000216,\n",
       " 2.000000000000216,\n",
       " 2.000000000000216,\n",
       " 2.000000000000214]"
      ]
     },
     "execution_count": 110,
     "metadata": {},
     "output_type": "execute_result"
    }
   ],
   "source": [
    "entropies"
   ]
  },
  {
   "cell_type": "code",
   "execution_count": 111,
   "id": "adde8772",
   "metadata": {},
   "outputs": [
    {
     "name": "stdout",
     "output_type": "stream",
     "text": [
      "            Register Output           Phase\n",
      "0  01000000(bin) =  64(dec)   64/256 = 0.25\n",
      "1  00000000(bin) =   0(dec)    0/256 = 0.00\n",
      "2  11000000(bin) = 192(dec)  192/256 = 0.75\n",
      "3  10000000(bin) = 128(dec)  128/256 = 0.50\n"
     ]
    }
   ],
   "source": [
    "import pandas as pd\n",
    "\n",
    "n_count = 2*n\n",
    "rows, measured_phases = [], []\n",
    "\n",
    "for output in counts:\n",
    "    decimal = int(output, 2)                       # Convert (base 2) string to decimal\n",
    "    phase = decimal/(2**n_count)                   # Find corresponding eigenvalue\n",
    "    measured_phases.append(phase)\n",
    "                                                   # Add these values to the rows in our table:\n",
    "    rows.append([f\"{output}(bin) = {decimal:>3}(dec)\", \n",
    "                 f\"{decimal}/{2**n_count} = {phase:.2f}\"])\n",
    "                                                   # Print the rows in a table\n",
    "headers=[\"Register Output\", \"Phase\"]\n",
    "df = pd.DataFrame(rows, columns=headers)\n",
    "print(df)"
   ]
  },
  {
   "cell_type": "code",
   "execution_count": 112,
   "id": "23fa3866",
   "metadata": {},
   "outputs": [
    {
     "name": "stdout",
     "output_type": "stream",
     "text": [
      "   Phase Fraction  Guess for r\n",
      "0   0.25      1/4            4\n",
      "1   0.00      0/1            1\n",
      "2   0.75      3/4            4\n",
      "3   0.50      1/2            2\n"
     ]
    }
   ],
   "source": [
    "from fractions import Fraction\n",
    "\n",
    "rows = []\n",
    "period = []\n",
    "\n",
    "for phase in measured_phases:\n",
    "    frac = Fraction(phase).limit_denominator(15)\n",
    "    rows.append([phase, f\"{frac.numerator}/{frac.denominator}\", frac.denominator])\n",
    "    period.append(frac.denominator)\n",
    "\n",
    "headers=[\"Phase\", \"Fraction\", \"Guess for r\"]\n",
    "df = pd.DataFrame(rows, columns=headers)\n",
    "print(df)"
   ]
  },
  {
   "cell_type": "code",
   "execution_count": 113,
   "id": "c9be79c5",
   "metadata": {},
   "outputs": [
    {
     "name": "stdout",
     "output_type": "stream",
     "text": [
      "[3, 5]\n"
     ]
    }
   ],
   "source": [
    "r = max(period)\n",
    "\n",
    "guesses = [gcd(y**(r//2)-1, N), gcd(y**(r//2)+1, N)]\n",
    "print(guesses)"
   ]
  },
  {
   "cell_type": "markdown",
   "id": "f4ed77f9",
   "metadata": {},
   "source": [
    " "
   ]
  }
 ],
 "metadata": {
  "kernelspec": {
   "display_name": "Python 3 (ipykernel)",
   "language": "python",
   "name": "python3"
  },
  "language_info": {
   "codemirror_mode": {
    "name": "ipython",
    "version": 3
   },
   "file_extension": ".py",
   "mimetype": "text/x-python",
   "name": "python",
   "nbconvert_exporter": "python",
   "pygments_lexer": "ipython3",
   "version": "3.10.6"
  }
 },
 "nbformat": 4,
 "nbformat_minor": 5
}
