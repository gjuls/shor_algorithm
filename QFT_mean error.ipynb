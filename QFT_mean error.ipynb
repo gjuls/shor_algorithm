{
 "cells": [
  {
   "cell_type": "code",
   "execution_count": 1,
   "id": "182ec3ef",
   "metadata": {},
   "outputs": [
    {
     "name": "stdout",
     "output_type": "stream",
     "text": [
      "Import Successfully\n"
     ]
    }
   ],
   "source": [
    "from qiskit import QuantumCircuit, QuantumRegister, ClassicalRegister\n",
    "import qiskit.quantum_info as qi\n",
    "from qiskit.visualization import plot_state_qsphere\n",
    "from qiskit.quantum_info import Statevector, random_statevector\n",
    "from qiskit.visualization import plot_histogram\n",
    "from qiskit import execute, transpile, assemble\n",
    "from qiskit import Aer\n",
    "from numpy import pi\n",
    "import numpy as np\n",
    "import matplotlib as mpl\n",
    "import matplotlib.pyplot as plt\n",
    "import random\n",
    "print(\"Import Successfully\")"
   ]
  },
  {
   "cell_type": "code",
   "execution_count": 2,
   "id": "900414c2",
   "metadata": {},
   "outputs": [
    {
     "name": "stdout",
     "output_type": "stream",
     "text": [
      "Import Successfully\n"
     ]
    }
   ],
   "source": [
    "# Import from Qiskit Aer noise module\n",
    "from qiskit.providers.aer.noise import NoiseModel\n",
    "from qiskit.providers.aer.noise import QuantumError, ReadoutError\n",
    "from qiskit.providers.aer.noise import pauli_error\n",
    "from qiskit.providers.aer import AerSimulator\n",
    "print(\"Import Successfully\")"
   ]
  },
  {
   "cell_type": "code",
   "execution_count": 63,
   "id": "3343567f",
   "metadata": {},
   "outputs": [
    {
     "name": "stdout",
     "output_type": "stream",
     "text": [
      "[1, 0, 0, 0, 0, 0, 0, 0, 0, 0, 0, 0, 0, 0, 0, 0] [0j]\n",
      "[0, 1, 0, 0, 0, 0, 0, 0, 0, 0, 0, 0, 0, 0, 0, 0] [0j]\n",
      "[0, 0, 1, 0, 0, 0, 0, 0, 0, 0, 0, 0, 0, 0, 0, 0] [0j]\n",
      "[0, 0, 0, 1, 0, 0, 0, 0, 0, 0, 0, 0, 0, 0, 0, 0] [0j]\n",
      "[0, 0, 0, 0, 1, 0, 0, 0, 0, 0, 0, 0, 0, 0, 0, 0] [0j]\n",
      "[0, 0, 0, 0, 0, 1, 0, 0, 0, 0, 0, 0, 0, 0, 0, 0] [0j]\n",
      "[0, 0, 0, 0, 0, 0, 1, 0, 0, 0, 0, 0, 0, 0, 0, 0] [0j]\n",
      "[0, 0, 0, 0, 0, 0, 0, 1, 0, 0, 0, 0, 0, 0, 0, 0] [0j]\n",
      "[0, 0, 0, 0, 0, 0, 0, 0, 1, 0, 0, 0, 0, 0, 0, 0] [0j]\n",
      "[0, 0, 0, 0, 0, 0, 0, 0, 0, 1, 0, 0, 0, 0, 0, 0] [(1.0511568605261929e-16+1.0957876066553449e-17j)]\n",
      "[0, 0, 0, 0, 0, 0, 0, 0, 0, 0, 1, 0, 0, 0, 0, 0] [(2.0328590409779595e-16+6.206335383118183e-17j)]\n",
      "[0, 0, 0, 0, 0, 0, 0, 0, 0, 0, 0, 1, 0, 0, 0, 0] [(3.669457523441067e-17+4.35617990813359e-17j)]\n",
      "[0, 0, 0, 0, 0, 0, 0, 0, 0, 0, 0, 0, 1, 0, 0, 0] [(3.486305596842099e-32+0j)]\n",
      "[0, 0, 0, 0, 0, 0, 0, 0, 0, 0, 0, 0, 0, 1, 0, 0] [(1.1940618843967757e-16+1.3175604708418898e-17j)]\n",
      "[0, 0, 0, 0, 0, 0, 0, 0, 0, 0, 0, 0, 0, 0, 1, 0] [(9.614813431917819e-17+0j)]\n",
      "[0, 0, 0, 0, 0, 0, 0, 0, 0, 0, 0, 0, 0, 0, 0, 1] [(8.405883619086323e-17+2.6427798870820556e-17j)]\n",
      "\n",
      "\n",
      "Distanza media = (4.029433277090905e-17+9.761652034894413e-18j)\n"
     ]
    },
    {
     "data": {
      "image/png": "[encoded data removed]",
      "text/plain": [
       "<Figure size 640x480 with 1 Axes>"
      ]
     },
     "metadata": {},
     "output_type": "display_data"
    }
   ],
   "source": [
    "#FUNZIONI PER CIRCUITO IDEALE\n",
    "def qft_rotations_ideal(circuit, n):\n",
    "    if n == 0:\n",
    "        return circuit\n",
    "    n -= 1\n",
    "    circuit.h(n)\n",
    "    \n",
    "    for qubit in range(n):\n",
    "        circuit.cp(pi/2**(n-qubit), qubit, n)\n",
    "    qft_rotations_ideal(circuit, n)\n",
    "\n",
    "def swap_registers_ideal(circuit, n):\n",
    "    for qubit in range(n//2):\n",
    "        circuit.swap(qubit, n-qubit-1)\n",
    "    return circuit\n",
    "\n",
    "def qft_ideal(circuit, n):\n",
    "    qft_rotations_ideal(circuit, n)\n",
    "    swap_registers_ideal(circuit, n)\n",
    "    return circuit\n",
    "\n",
    "#FUNZIONI PER CIRCUITO NOISY\n",
    "def qft_rotations(circuit, n):\n",
    "    if n == 0:\n",
    "        return circuit\n",
    "    n -= 1\n",
    "    circuit.h(n)     \n",
    "\n",
    "    for qubit in range(n):\n",
    "        circuit.cp(pi/2**(n-qubit), qubit, n)\n",
    "    qft_rotations(circuit, n)\n",
    "\n",
    "def swap_registers(circuit, n):\n",
    "    \n",
    "    for qubit in range(n//2):\n",
    "        circuit.swap(qubit, n-qubit-1)\n",
    "        \n",
    "def qft(circuit, n):\n",
    "\n",
    "    epsilon = 1                          #--------------------------------------------NOISE\n",
    "    extracted = random.uniform(0, 1)\n",
    "    if (extracted < epsilon):    \n",
    "        circuit.z(3) \n",
    "    #return circuit \n",
    "\n",
    "    qft_rotations(circuit, n)\n",
    "    swap_registers(circuit, n)        \n",
    "    return circuit\n",
    "\n",
    "###########################################################\n",
    "\n",
    "\n",
    "qubits = 4                      #dimensione sistema\n",
    "label = [0]*(2**qubits)\n",
    "register = QuantumRegister(qubits)\n",
    "risultato = []\n",
    "distanze = []\n",
    "\n",
    "\n",
    "for iii in range(len(label)):   #ciclo sugli stati iniziali\n",
    "    label[iii] = 1\n",
    "    state = Statevector(label)\n",
    "    \n",
    "    # circuito ideale\n",
    "    qc_ideal = QuantumCircuit(register) \n",
    "    qc_ideal.initialize(state.data, register)\n",
    "    qft_ideal(qc_ideal,qubits)\n",
    "    qc_ideal.save_density_matrix()\n",
    "    #qc_ideal.measure_all()\n",
    "    \n",
    "    #simulazione ideale\n",
    "    aer_sim = Aer.get_backend('aer_simulator')\n",
    "    t_qc = transpile(qc_ideal, aer_sim)\n",
    "    qobj = assemble(t_qc)                                \n",
    "    results = aer_sim.run(qobj, shots = 1).result()\n",
    "    \n",
    "    density_matrix_ideal = 0\n",
    "    density_matrix_ideal = results.data().get('density_matrix')\n",
    "    density_matrix_ideal = np.asarray(density_matrix_ideal)\n",
    "    #print(density_matrix_ideal)\n",
    "\n",
    "    runs = 1\n",
    "    for i in range(runs):         \n",
    "        \n",
    "        #circuito noisy\n",
    "        qc_noisy = QuantumCircuit(register)\n",
    "        qc_noisy.initialize(state, register)\n",
    "        qft(qc_noisy,qubits)\n",
    "        qc_noisy.save_density_matrix()\n",
    "        #qc_ideal.measure_all()\n",
    "        \n",
    "        #simulazione noisy\n",
    "        aer_sim = Aer.get_backend('aer_simulator')\n",
    "        t_qc = transpile(qc_noisy, aer_sim)\n",
    "        qobj = assemble(t_qc)                                \n",
    "        results = aer_sim.run(qobj, shots = 1).result()\n",
    "\n",
    "        #estrazione matrice densità\n",
    "        density_matrix = 0\n",
    "        density_matrix = results.data().get('density_matrix')\n",
    "        density_matrix = np.asarray(density_matrix)\n",
    "\n",
    "        #calcolo della distanza\n",
    "        diff = density_matrix - density_matrix_ideal\n",
    "        mult = np.matmul(np.transpose(diff), diff)\n",
    "        rad = np.sqrt(mult)\n",
    "        distanze.append(rad.trace()/2)\n",
    "\n",
    "        print(label, distanze)\n",
    "        risultato.append(distanze[0])\n",
    "        label[iii] = 0\n",
    "        distanze = []\n",
    "        \n",
    "plt.plot(risultato)\n",
    "\n",
    "media = sum(risultato)/(2**qubits)\n",
    "print('\\n')\n",
    "print('Distanza media =',  media)"
   ]
  }
 ],
 "metadata": {
  "kernelspec": {
   "display_name": "Python 3 (ipykernel)",
   "language": "python",
   "name": "python3"
  },
  "language_info": {
   "codemirror_mode": {
    "name": "ipython",
    "version": 3
   },
   "file_extension": ".py",
   "mimetype": "text/x-python",
   "name": "python",
   "nbconvert_exporter": "python",
   "pygments_lexer": "ipython3",
   "version": "3.10.6"
  }
 },
 "nbformat": 4,
 "nbformat_minor": 5
}
