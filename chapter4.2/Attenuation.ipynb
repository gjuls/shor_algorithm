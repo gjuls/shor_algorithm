{
 "cells": [
  {
   "attachments": {},
   "cell_type": "markdown",
   "id": "6e03ef41",
   "metadata": {},
   "source": [
    " # Attenuation (media dei logaritmi delle ampiezze)\n",
    " "
   ]
  },
  {
   "cell_type": "code",
   "execution_count": 1,
   "id": "b2738943",
   "metadata": {},
   "outputs": [],
   "source": [
    "from qiskit import QuantumCircuit, QuantumRegister, ClassicalRegister\n",
    "from qiskit.quantum_info import Statevector\n",
    "from qiskit import QuantumCircuit, execute\n",
    "from qiskit.providers.aer import QasmSimulator\n",
    "from qiskit.extensions import UnitaryGate\n",
    "from qiskit.quantum_info.operators import Operator\n",
    "from qiskit import execute, transpile, assemble\n",
    "from qiskit import Aer\n",
    "from qiskit.visualization import plot_state_city\n",
    "from qiskit.visualization import plot_histogram\n",
    "from sympy import factorint\n",
    "from fractions import Fraction\n",
    "from numpy import linalg\n",
    "import pandas as pd\n",
    "import numpy as np\n",
    "from numpy import pi\n",
    "from sympy import *\n",
    "import random\n",
    "import math\n",
    "import pickle\n",
    "import qiskit.quantum_info as qi\n",
    "from qiskit.visualization import array_to_latex\n",
    "from qiskit.providers.aer.library import SaveDensityMatrix\n",
    "\n",
    "from qiskit.quantum_info import Statevector"
   ]
  },
  {
   "cell_type": "code",
   "execution_count": 2,
   "id": "3bab5d18",
   "metadata": {},
   "outputs": [],
   "source": [
    "import matplotlib.pyplot as plt\n",
    "plt.rc('figure', figsize=(10, 6))"
   ]
  },
  {
   "cell_type": "code",
   "execution_count": 3,
   "id": "df05fff2",
   "metadata": {},
   "outputs": [],
   "source": [
    "def qft_rotations(circuit, n, n_max,  case, position):\n",
    "    tmp = n_max - case\n",
    "    \n",
    "    if n == 0:\n",
    "        return circuit\n",
    "    n -= 1    \n",
    "\n",
    "    if n  == tmp:\n",
    "        errori(circuit, position, n)  \n",
    "    \n",
    "    circuit.h(n)   \n",
    "    \n",
    "    for qubit in range(n):\n",
    "        circuit.cp(np.pi/2**(n-qubit), qubit, n)\n",
    "\n",
    "    qft_rotations(circuit, n, n_max, case, position)"
   ]
  },
  {
   "cell_type": "code",
   "execution_count": 4,
   "id": "77655bc8",
   "metadata": {},
   "outputs": [],
   "source": [
    "def swap_registers(circuit, n):\n",
    "    \n",
    "    for qubit in range(n//2):\n",
    "        circuit.swap(qubit, n-qubit-1)"
   ]
  },
  {
   "cell_type": "code",
   "execution_count": 5,
   "id": "331c9f2a",
   "metadata": {},
   "outputs": [],
   "source": [
    "def errori(circuit, position, n):\n",
    "    epsilon = 0.5                                #probability p of x error, 1-p prob. of z error                         \n",
    "    extracted = random.uniform(0, 1)\n",
    "    \n",
    "    if (extracted < epsilon):    \n",
    "        circuit.x(position)   \n",
    "        #flag = 0\n",
    "        circuit.barrier(range(n))\n",
    "    else:\n",
    "        circuit.z(position)\n",
    "        #flag = 1\n",
    "        circuit.barrier(range(n))\n",
    "    return circuit"
   ]
  },
  {
   "cell_type": "code",
   "execution_count": 6,
   "id": "70a4d53f",
   "metadata": {},
   "outputs": [],
   "source": [
    "def qft(circuit, n, n_max, case, position):\n",
    "    if case == 1:\n",
    "        errori(circuit, position, n) \n",
    "\n",
    "    qft_rotations(circuit, n, n_max, case, position)\n",
    "\n",
    "    if case == n + 1:\n",
    "        errori(circuit, position, n)\n",
    "    \n",
    "    swap_registers(circuit, n)    \n",
    "\n",
    "    if case == n + 2:\n",
    "        errori(circuit, position , n)\n",
    "        \n",
    "    if case == 0:\n",
    "        pass\n",
    "        \n",
    "    if case > n + 2:\n",
    "        print('Error: case value incorrect')\n",
    "    return circuit"
   ]
  },
  {
   "cell_type": "code",
   "execution_count": 7,
   "id": "d7f5f26e",
   "metadata": {},
   "outputs": [],
   "source": [
    "def split_circuit_by_barrier(circuit):\n",
    "    qasm = circuit.qasm()\n",
    "    prelude = []\n",
    "    circuits = [[]]\n",
    "    for line in qasm.splitlines():\n",
    "        if any([line.startswith(t) for t in ['OPENQASM', 'include', 'qreg', 'creg']]):\n",
    "            prelude.append(line)\n",
    "        elif line.startswith('barrier'):\n",
    "            break\n",
    "            circuits.append([])\n",
    "        else:\n",
    "            circuits[-1].append(line)\n",
    "    circuits_with_prelude = [prelude+circuit for circuit in circuits]\n",
    "    for circuit_with_prelude in circuits_with_prelude:\n",
    "        yield QuantumCircuit.from_qasm_str('\\n'.join(circuit_with_prelude))"
   ]
  },
  {
   "cell_type": "code",
   "execution_count": 8,
   "id": "d750b7bc",
   "metadata": {},
   "outputs": [],
   "source": [
    "def split_circuit_by_error(circuit):\n",
    "    qasm = circuit.qasm()\n",
    "    prelude = []\n",
    "    circuits = [[]]\n",
    "    \n",
    "    for line in qasm.splitlines():\n",
    "        if any([line.startswith(t) for t in ['OPENQASM', 'include', 'qreg', 'creg']]):\n",
    "            prelude.append(line)\n",
    "        elif line.startswith('z'):\n",
    "            break\n",
    "        elif line.startswith('x'):\n",
    "            break\n",
    "            circuits.append([])\n",
    "        else:\n",
    "            circuits[-1].append(line)\n",
    "    circuits_with_prelude = [prelude+circuit for circuit in circuits]\n",
    "    for circuit_with_prelude in circuits_with_prelude:\n",
    "        yield QuantumCircuit.from_qasm_str('\\n'.join(circuit_with_prelude))\n"
   ]
  },
  {
   "attachments": {},
   "cell_type": "markdown",
   "id": "4bc6d275",
   "metadata": {},
   "source": [
    "Main:\n",
    "- Fixed max number of qubits (qubits);"
   ]
  },
  {
   "cell_type": "code",
   "execution_count": 9,
   "id": "8d4d1b24",
   "metadata": {},
   "outputs": [
    {
     "ename": "KeyboardInterrupt",
     "evalue": "",
     "output_type": "error",
     "traceback": [
      "\u001b[1;31m---------------------------------------------------------------------------\u001b[0m",
      "\u001b[1;31mKeyboardInterrupt\u001b[0m                         Traceback (most recent call last)",
      "\u001b[1;32mc:\\Users\\giuli\\Desktop\\tesi\\PYTHON\\ch7\\Attenuation.ipynb Cell 11\u001b[0m in \u001b[0;36m<cell line: 6>\u001b[1;34m()\u001b[0m\n\u001b[0;32m     <a href='vscode-notebook-cell:/c%3A/Users/giuli/Desktop/tesi/PYTHON/ch7/Attenuation.ipynb#X13sZmlsZQ%3D%3D?line=16'>17</a>\u001b[0m circuit \u001b[39m=\u001b[39m QuantumCircuit(control)\n\u001b[0;32m     <a href='vscode-notebook-cell:/c%3A/Users/giuli/Desktop/tesi/PYTHON/ch7/Attenuation.ipynb#X13sZmlsZQ%3D%3D?line=18'>19</a>\u001b[0m qft(circuit, n, n, case, position) \n\u001b[1;32m---> <a href='vscode-notebook-cell:/c%3A/Users/giuli/Desktop/tesi/PYTHON/ch7/Attenuation.ipynb#X13sZmlsZQ%3D%3D?line=20'>21</a>\u001b[0m \u001b[39mfor\u001b[39;00m subcircuit \u001b[39min\u001b[39;00m (split_circuit_by_barrier(circuit)):\n\u001b[0;32m     <a href='vscode-notebook-cell:/c%3A/Users/giuli/Desktop/tesi/PYTHON/ch7/Attenuation.ipynb#X13sZmlsZQ%3D%3D?line=21'>22</a>\u001b[0m     circuit_right \u001b[39m=\u001b[39m subcircuit\n\u001b[0;32m     <a href='vscode-notebook-cell:/c%3A/Users/giuli/Desktop/tesi/PYTHON/ch7/Attenuation.ipynb#X13sZmlsZQ%3D%3D?line=23'>24</a>\u001b[0m \u001b[39mfor\u001b[39;00m subcircuit \u001b[39min\u001b[39;00m (split_circuit_by_error(circuit)):\n",
      "\u001b[1;32mc:\\Users\\giuli\\Desktop\\tesi\\PYTHON\\ch7\\Attenuation.ipynb Cell 11\u001b[0m in \u001b[0;36msplit_circuit_by_barrier\u001b[1;34m(circuit)\u001b[0m\n\u001b[0;32m     <a href='vscode-notebook-cell:/c%3A/Users/giuli/Desktop/tesi/PYTHON/ch7/Attenuation.ipynb#X13sZmlsZQ%3D%3D?line=12'>13</a>\u001b[0m circuits_with_prelude \u001b[39m=\u001b[39m [prelude\u001b[39m+\u001b[39mcircuit \u001b[39mfor\u001b[39;00m circuit \u001b[39min\u001b[39;00m circuits]\n\u001b[0;32m     <a href='vscode-notebook-cell:/c%3A/Users/giuli/Desktop/tesi/PYTHON/ch7/Attenuation.ipynb#X13sZmlsZQ%3D%3D?line=13'>14</a>\u001b[0m \u001b[39mfor\u001b[39;00m circuit_with_prelude \u001b[39min\u001b[39;00m circuits_with_prelude:\n\u001b[1;32m---> <a href='vscode-notebook-cell:/c%3A/Users/giuli/Desktop/tesi/PYTHON/ch7/Attenuation.ipynb#X13sZmlsZQ%3D%3D?line=14'>15</a>\u001b[0m     \u001b[39myield\u001b[39;00m QuantumCircuit\u001b[39m.\u001b[39;49mfrom_qasm_str(\u001b[39m'\u001b[39;49m\u001b[39m\\n\u001b[39;49;00m\u001b[39m'\u001b[39;49m\u001b[39m.\u001b[39;49mjoin(circuit_with_prelude))\n",
      "File \u001b[1;32mc:\\Users\\giuli\\anaconda3\\envs\\quiskit\\lib\\site-packages\\qiskit\\circuit\\quantumcircuit.py:2500\u001b[0m, in \u001b[0;36mQuantumCircuit.from_qasm_str\u001b[1;34m(qasm_str)\u001b[0m\n\u001b[0;32m   2492\u001b[0m \u001b[39m\"\"\"Take in a QASM string and generate a QuantumCircuit object.\u001b[39;00m\n\u001b[0;32m   2493\u001b[0m \n\u001b[0;32m   2494\u001b[0m \u001b[39mArgs:\u001b[39;00m\n\u001b[1;32m   (...)\u001b[0m\n\u001b[0;32m   2497\u001b[0m \u001b[39m  QuantumCircuit: The QuantumCircuit object for the input QASM\u001b[39;00m\n\u001b[0;32m   2498\u001b[0m \u001b[39m\"\"\"\u001b[39;00m\n\u001b[0;32m   2499\u001b[0m qasm \u001b[39m=\u001b[39m Qasm(data\u001b[39m=\u001b[39mqasm_str)\n\u001b[1;32m-> 2500\u001b[0m \u001b[39mreturn\u001b[39;00m _circuit_from_qasm(qasm)\n",
      "File \u001b[1;32mc:\\Users\\giuli\\anaconda3\\envs\\quiskit\\lib\\site-packages\\qiskit\\circuit\\quantumcircuit.py:4984\u001b[0m, in \u001b[0;36m_circuit_from_qasm\u001b[1;34m(qasm)\u001b[0m\n\u001b[0;32m   4981\u001b[0m \u001b[39mfrom\u001b[39;00m \u001b[39mqiskit\u001b[39;00m\u001b[39m.\u001b[39;00m\u001b[39mconverters\u001b[39;00m \u001b[39mimport\u001b[39;00m ast_to_dag\n\u001b[0;32m   4982\u001b[0m \u001b[39mfrom\u001b[39;00m \u001b[39mqiskit\u001b[39;00m\u001b[39m.\u001b[39;00m\u001b[39mconverters\u001b[39;00m \u001b[39mimport\u001b[39;00m dag_to_circuit\n\u001b[1;32m-> 4984\u001b[0m ast \u001b[39m=\u001b[39m qasm\u001b[39m.\u001b[39;49mparse()\n\u001b[0;32m   4985\u001b[0m dag \u001b[39m=\u001b[39m ast_to_dag(ast)\n\u001b[0;32m   4986\u001b[0m \u001b[39mreturn\u001b[39;00m dag_to_circuit(dag)\n",
      "File \u001b[1;32mc:\\Users\\giuli\\anaconda3\\envs\\quiskit\\lib\\site-packages\\qiskit\\qasm\\qasm.py:53\u001b[0m, in \u001b[0;36mQasm.parse\u001b[1;34m(self)\u001b[0m\n\u001b[0;32m     51\u001b[0m \u001b[39mwith\u001b[39;00m QasmParser(\u001b[39mself\u001b[39m\u001b[39m.\u001b[39m_filename) \u001b[39mas\u001b[39;00m qasm_p:\n\u001b[0;32m     52\u001b[0m     qasm_p\u001b[39m.\u001b[39mparse_debug(\u001b[39mFalse\u001b[39;00m)\n\u001b[1;32m---> 53\u001b[0m     \u001b[39mreturn\u001b[39;00m qasm_p\u001b[39m.\u001b[39;49mparse(\u001b[39mself\u001b[39;49m\u001b[39m.\u001b[39;49m_data)\n",
      "File \u001b[1;32mc:\\Users\\giuli\\anaconda3\\envs\\quiskit\\lib\\site-packages\\qiskit\\qasm\\qasmparser.py:1137\u001b[0m, in \u001b[0;36mQasmParser.parse\u001b[1;34m(self, data)\u001b[0m\n\u001b[0;32m   1135\u001b[0m \u001b[39mdef\u001b[39;00m \u001b[39mparse\u001b[39m(\u001b[39mself\u001b[39m, data):\n\u001b[0;32m   1136\u001b[0m     \u001b[39m\"\"\"Parse some data.\"\"\"\u001b[39;00m\n\u001b[1;32m-> 1137\u001b[0m     \u001b[39mself\u001b[39;49m\u001b[39m.\u001b[39;49mparser\u001b[39m.\u001b[39;49mparse(data, lexer\u001b[39m=\u001b[39;49m\u001b[39mself\u001b[39;49m\u001b[39m.\u001b[39;49mlexer, debug\u001b[39m=\u001b[39;49m\u001b[39mself\u001b[39;49m\u001b[39m.\u001b[39;49mparse_deb)\n\u001b[0;32m   1138\u001b[0m     \u001b[39mif\u001b[39;00m \u001b[39mself\u001b[39m\u001b[39m.\u001b[39mqasm \u001b[39mis\u001b[39;00m \u001b[39mNone\u001b[39;00m:\n\u001b[0;32m   1139\u001b[0m         \u001b[39mraise\u001b[39;00m QasmError(\u001b[39m\"\u001b[39m\u001b[39mUncaught exception in parser; \u001b[39m\u001b[39m\"\u001b[39m \u001b[39m+\u001b[39m \u001b[39m\"\u001b[39m\u001b[39msee previous messages for details.\u001b[39m\u001b[39m\"\u001b[39m)\n",
      "File \u001b[1;32mc:\\Users\\giuli\\anaconda3\\envs\\quiskit\\lib\\site-packages\\ply\\yacc.py:333\u001b[0m, in \u001b[0;36mLRParser.parse\u001b[1;34m(self, input, lexer, debug, tracking, tokenfunc)\u001b[0m\n\u001b[0;32m    331\u001b[0m     \u001b[39mreturn\u001b[39;00m \u001b[39mself\u001b[39m\u001b[39m.\u001b[39mparseopt(\u001b[39minput\u001b[39m, lexer, debug, tracking, tokenfunc)\n\u001b[0;32m    332\u001b[0m \u001b[39melse\u001b[39;00m:\n\u001b[1;32m--> 333\u001b[0m     \u001b[39mreturn\u001b[39;00m \u001b[39mself\u001b[39;49m\u001b[39m.\u001b[39;49mparseopt_notrack(\u001b[39minput\u001b[39;49m, lexer, debug, tracking, tokenfunc)\n",
      "File \u001b[1;32mc:\\Users\\giuli\\anaconda3\\envs\\quiskit\\lib\\site-packages\\ply\\yacc.py:1120\u001b[0m, in \u001b[0;36mLRParser.parseopt_notrack\u001b[1;34m(self, input, lexer, debug, tracking, tokenfunc)\u001b[0m\n\u001b[0;32m   1118\u001b[0m \u001b[39mdel\u001b[39;00m symstack[\u001b[39m-\u001b[39mplen:]\n\u001b[0;32m   1119\u001b[0m \u001b[39mself\u001b[39m\u001b[39m.\u001b[39mstate \u001b[39m=\u001b[39m state\n\u001b[1;32m-> 1120\u001b[0m p\u001b[39m.\u001b[39;49mcallable(pslice)\n\u001b[0;32m   1121\u001b[0m \u001b[39mdel\u001b[39;00m statestack[\u001b[39m-\u001b[39mplen:]\n\u001b[0;32m   1122\u001b[0m symstack\u001b[39m.\u001b[39mappend(sym)\n",
      "File \u001b[1;32mc:\\Users\\giuli\\anaconda3\\envs\\quiskit\\lib\\site-packages\\qiskit\\qasm\\qasmparser.py:819\u001b[0m, in \u001b[0;36mQasmParser.p_gate_op_4\u001b[1;34m(self, program)\u001b[0m\n\u001b[0;32m    815\u001b[0m \u001b[39mdef\u001b[39;00m \u001b[39mp_gate_op_4\u001b[39m(\u001b[39mself\u001b[39m, program):\n\u001b[0;32m    816\u001b[0m     \u001b[39m\"\"\"\u001b[39;00m\n\u001b[0;32m    817\u001b[0m \u001b[39m    gate_op : id '(' exp_list ')' id_list ';'\u001b[39;00m\n\u001b[0;32m    818\u001b[0m \u001b[39m    \"\"\"\u001b[39;00m\n\u001b[1;32m--> 819\u001b[0m     program[\u001b[39m0\u001b[39m] \u001b[39m=\u001b[39m node\u001b[39m.\u001b[39;49mCustomUnitary([program[\u001b[39m1\u001b[39;49m], program[\u001b[39m3\u001b[39;49m], program[\u001b[39m5\u001b[39;49m]])\n\u001b[0;32m    820\u001b[0m     \u001b[39mself\u001b[39m\u001b[39m.\u001b[39mverify_as_gate(program[\u001b[39m1\u001b[39m], program[\u001b[39m5\u001b[39m], arglist\u001b[39m=\u001b[39mprogram[\u001b[39m3\u001b[39m])\n\u001b[0;32m    821\u001b[0m     \u001b[39mself\u001b[39m\u001b[39m.\u001b[39mverify_bit_list(program[\u001b[39m5\u001b[39m])\n",
      "File \u001b[1;32mc:\\Users\\giuli\\anaconda3\\envs\\quiskit\\lib\\site-packages\\qiskit\\qasm\\node\\customunitary.py:33\u001b[0m, in \u001b[0;36mCustomUnitary.__init__\u001b[1;34m(self, children)\u001b[0m\n\u001b[0;32m     31\u001b[0m \u001b[39mdef\u001b[39;00m \u001b[39m__init__\u001b[39m(\u001b[39mself\u001b[39m, children):\n\u001b[0;32m     32\u001b[0m     \u001b[39m\"\"\"Create the custom gate node.\"\"\"\u001b[39;00m\n\u001b[1;32m---> 33\u001b[0m     \u001b[39msuper\u001b[39;49m()\u001b[39m.\u001b[39;49m\u001b[39m__init__\u001b[39;49m(\u001b[39m\"\u001b[39;49m\u001b[39mcustom_unitary\u001b[39;49m\u001b[39m\"\u001b[39;49m, children, \u001b[39mNone\u001b[39;49;00m)\n\u001b[0;32m     34\u001b[0m     \u001b[39mself\u001b[39m\u001b[39m.\u001b[39mid \u001b[39m=\u001b[39m children[\u001b[39m0\u001b[39m]  \u001b[39m# pylint: disable=invalid-name\u001b[39;00m\n\u001b[0;32m     35\u001b[0m     \u001b[39mself\u001b[39m\u001b[39m.\u001b[39mname \u001b[39m=\u001b[39m \u001b[39mself\u001b[39m\u001b[39m.\u001b[39mid\u001b[39m.\u001b[39mname\n",
      "\u001b[1;31mKeyboardInterrupt\u001b[0m: "
     ]
    }
   ],
   "source": [
    "qubits = 8\n",
    "repetitions = 500\n",
    "\n",
    "matrix = []\n",
    "\n",
    "for n in range(1, qubits + 1):\n",
    "    amplitudes = np.empty(n + 3)\n",
    "    x = []\n",
    "    \n",
    "    for case in range(n + 3):\n",
    "        summa = 0\n",
    "        \n",
    "        for reps in range(repetitions):\n",
    "            position = random.randint(0, n - 1)\n",
    "\n",
    "            control = QuantumRegister(n, 'r1')\n",
    "            circuit = QuantumCircuit(control)\n",
    "\n",
    "            qft(circuit, n, n, case, position) \n",
    "\n",
    "            for subcircuit in (split_circuit_by_barrier(circuit)):\n",
    "                circuit_right = subcircuit\n",
    "\n",
    "            for subcircuit in (split_circuit_by_error(circuit)):\n",
    "                circuit_left = subcircuit\n",
    "\n",
    "            circuit_right = circuit_right.inverse()\n",
    "            merge = circuit_left.compose(circuit_right)\n",
    "\n",
    "            backend = Aer.get_backend('unitary_simulator')\n",
    "            job = execute(merge, backend, shots = 4096)\n",
    "            result = job.result()\n",
    "            UeU = result.get_unitary(merge,3)\n",
    "\n",
    "            for i in range(2**n):   \n",
    "\n",
    "                label = bin(i).lstrip('-0b').zfill(n)\n",
    "                if case == 0:\n",
    "                    x.append(label)\n",
    "\n",
    "                state = Statevector.from_label(label)\n",
    "                tmp = (((state.evolve(UeU)[label])**2).real)\n",
    "                if tmp != 0:\n",
    "                    summa = summa + math.log(tmp, 2)\n",
    "                \n",
    "                #i += 1\n",
    "                state = 0\n",
    "\n",
    "            merge = 0\n",
    "            result = 0\n",
    "            UeU = 0\n",
    "\n",
    "        amplitudes[case] = summa/(repetitions*(2**n))\n",
    "        #reps += 1\n",
    "        \n",
    "    for ii in range(0, n + 3):\n",
    "        amplitudes[ii] = - amplitudes[ii] / n\n",
    "    #n += 1\n",
    "    matrix.append(amplitudes)"
   ]
  },
  {
   "cell_type": "code",
   "execution_count": 10,
   "id": "54283f90",
   "metadata": {},
   "outputs": [
    {
     "ename": "IndexError",
     "evalue": "list index out of range",
     "output_type": "error",
     "traceback": [
      "\u001b[1;31m---------------------------------------------------------------------------\u001b[0m",
      "\u001b[1;31mIndexError\u001b[0m                                Traceback (most recent call last)",
      "\u001b[1;32mc:\\Users\\giuli\\Desktop\\tesi\\PYTHON\\ch7\\Attenuation.ipynb Cell 12\u001b[0m in \u001b[0;36m<cell line: 14>\u001b[1;34m()\u001b[0m\n\u001b[0;32m     <a href='vscode-notebook-cell:/c%3A/Users/giuli/Desktop/tesi/PYTHON/ch7/Attenuation.ipynb#X14sZmlsZQ%3D%3D?line=17'>18</a>\u001b[0m         plt\u001b[39m.\u001b[39mplot(xs[i], matrix[i], label\u001b[39m=\u001b[39m\u001b[39mf\u001b[39m\u001b[39m'\u001b[39m\u001b[39m{\u001b[39;00mlabel\u001b[39m}\u001b[39;00m\u001b[39m'\u001b[39m, color\u001b[39m=\u001b[39mcolor, linestyle \u001b[39m=\u001b[39m \u001b[39m'\u001b[39m\u001b[39mdashed\u001b[39m\u001b[39m'\u001b[39m)\n\u001b[0;32m     <a href='vscode-notebook-cell:/c%3A/Users/giuli/Desktop/tesi/PYTHON/ch7/Attenuation.ipynb#X14sZmlsZQ%3D%3D?line=18'>19</a>\u001b[0m     \u001b[39melse\u001b[39;00m: \n\u001b[1;32m---> <a href='vscode-notebook-cell:/c%3A/Users/giuli/Desktop/tesi/PYTHON/ch7/Attenuation.ipynb#X14sZmlsZQ%3D%3D?line=19'>20</a>\u001b[0m         plt\u001b[39m.\u001b[39mplot(xs[i], matrix[i], label\u001b[39m=\u001b[39m\u001b[39mf\u001b[39m\u001b[39m'\u001b[39m\u001b[39m{\u001b[39;00mlabel\u001b[39m}\u001b[39;00m\u001b[39m'\u001b[39m, color\u001b[39m=\u001b[39mcolor)\n\u001b[0;32m     <a href='vscode-notebook-cell:/c%3A/Users/giuli/Desktop/tesi/PYTHON/ch7/Attenuation.ipynb#X14sZmlsZQ%3D%3D?line=21'>22</a>\u001b[0m plt\u001b[39m.\u001b[39mxlabel(\u001b[39mr\u001b[39m\u001b[39m\"\u001b[39m\u001b[39m$\u001b[39m\u001b[39m{\u001b[39m\u001b[39mn_\u001b[39m\u001b[39m{errors}\u001b[39;00m\u001b[39m}/\u001b[39m\u001b[39m{\u001b[39m\u001b[39mn_\u001b[39m\u001b[39m{max}\u001b[39;00m\u001b[39m}$\u001b[39m\u001b[39m\"\u001b[39m)\n\u001b[0;32m     <a href='vscode-notebook-cell:/c%3A/Users/giuli/Desktop/tesi/PYTHON/ch7/Attenuation.ipynb#X14sZmlsZQ%3D%3D?line=22'>23</a>\u001b[0m plt\u001b[39m.\u001b[39mylabel(\u001b[39mr\u001b[39m\u001b[39m\"\u001b[39m\u001b[39m$- <\u001b[39m\u001b[39m{\u001b[39m\u001b[39mlog_2 \u001b[39m\u001b[39m\\\u001b[39m\u001b[39mvarepsilon>/ n }$\u001b[39m\u001b[39m\"\u001b[39m, rotation \u001b[39m=\u001b[39m \u001b[39m90\u001b[39m)\n",
      "\u001b[1;31mIndexError\u001b[0m: list index out of range"
     ]
    },
    {
     "data": {
      "image/png": "[encoded data removed]",
      "text/plain": [
       "<Figure size 1000x600 with 1 Axes>"
      ]
     },
     "metadata": {},
     "output_type": "display_data"
    }
   ],
   "source": [
    "params = {'text.usetex' : True, 'font.size' : 20, 'font.family' : 'serif'}\n",
    "plt.rcParams.update(params)\n",
    "xs = []\n",
    "for n in range(1, qubits + 1):\n",
    "    lista = []\n",
    "    for i in range(n + 3):\n",
    "        lista.append(i/ (n + 2))\n",
    "    xs.append(lista)\n",
    "    \n",
    "labels = [1,2,3,4,5,6,7,8]\n",
    "cmap = plt.get_cmap('twilight')\n",
    "\n",
    "plt.figure()\n",
    "for i in range(qubits):\n",
    "    label = labels[i] \n",
    "    color = cmap( i/(qubits-1))  \n",
    "    if i%2 == 1:\n",
    "        plt.plot(xs[i], matrix[i], label=f'{label}', color=color, linestyle = 'dashed')\n",
    "    else: \n",
    "        plt.plot(xs[i], matrix[i], label=f'{label}', color=color)\n",
    "\n",
    "plt.xlabel(r\"${n_{errors}}/{n_{max}}$\")\n",
    "plt.ylabel(r\"$- <{log_2 \\varepsilon>/ n }$\", rotation = 90)\n",
    "plt.tight_layout()\n",
    "plt.legend(fontsize=17, frameon=False, title = 'Value of n:', bbox_to_anchor=(1.04, 1))\n",
    "plt.savefig('attenuation.pdf', format = 'pdf') \n",
    "pickle.dump(matrix, open('attenuation.pkl', 'wb'))"
   ]
  }
 ],
 "metadata": {
  "kernelspec": {
   "display_name": "quiskit",
   "language": "python",
   "name": "python3"
  },
  "language_info": {
   "codemirror_mode": {
    "name": "ipython",
    "version": 3
   },
   "file_extension": ".py",
   "mimetype": "text/x-python",
   "name": "python",
   "nbconvert_exporter": "python",
   "pygments_lexer": "ipython3",
   "version": "3.10.6"
  },
  "vscode": {
   "interpreter": {
    "hash": "84f9208bcd2cdd37fa427a1d8ac59408d93773082155f4ec266fa8edec84db81"
   }
  }
 },
 "nbformat": 4,
 "nbformat_minor": 5
}
