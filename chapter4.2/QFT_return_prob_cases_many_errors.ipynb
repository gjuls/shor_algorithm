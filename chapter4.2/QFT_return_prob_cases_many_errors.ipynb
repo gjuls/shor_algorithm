{
 "cells": [
  {
   "cell_type": "markdown",
   "id": "82353880",
   "metadata": {},
   "source": [
    "# Stability of each CASE with mean ore different single errors"
   ]
  },
  {
   "cell_type": "code",
   "execution_count": 1,
   "id": "b2738943",
   "metadata": {},
   "outputs": [],
   "source": [
    "from qiskit import QuantumCircuit, QuantumRegister, ClassicalRegister\n",
    "from qiskit.quantum_info import Statevector\n",
    "from qiskit import QuantumCircuit, execute\n",
    "from qiskit.providers.aer import QasmSimulator\n",
    "from qiskit.extensions import UnitaryGate\n",
    "from qiskit.quantum_info.operators import Operator\n",
    "from qiskit import execute, transpile, assemble\n",
    "from qiskit import Aer\n",
    "from qiskit.visualization import plot_state_city\n",
    "from qiskit.visualization import plot_histogram\n",
    "from sympy import factorint\n",
    "from fractions import Fraction\n",
    "from numpy import linalg\n",
    "import pandas as pd\n",
    "import numpy as np\n",
    "from numpy import pi\n",
    "from sympy import *\n",
    "import random\n",
    "import math\n",
    "\n",
    "import qiskit.quantum_info as qi\n",
    "from qiskit.visualization import array_to_latex\n",
    "from qiskit.providers.aer.library import SaveDensityMatrix\n",
    "from qiskit.quantum_info import Statevector"
   ]
  },
  {
   "cell_type": "code",
   "execution_count": 2,
   "id": "331c9f2a",
   "metadata": {},
   "outputs": [],
   "source": [
    "def errori(circuit, position, n):\n",
    "    epsilon = 0.5                                                      \n",
    "    extracted = random.uniform(0, 1)\n",
    "    \n",
    "    if (extracted < epsilon):    \n",
    "        circuit.x(position)   \n",
    "        circuit.barrier(range(n))\n",
    "    else:\n",
    "        circuit.z(position)\n",
    "        circuit.barrier(range(n))\n",
    "    return circuit"
   ]
  },
  {
   "cell_type": "code",
   "execution_count": 3,
   "id": "df05fff2",
   "metadata": {},
   "outputs": [],
   "source": [
    "def qft_rotations(circuit, n, n_max,  case, position):\n",
    "    tmp = n_max - case\n",
    "    \n",
    "    if n == 0:\n",
    "        return circuit\n",
    "    n -= 1    \n",
    "\n",
    "    if n  == tmp:\n",
    "        errori(circuit, position, n)  \n",
    "    \n",
    "    circuit.h(n)   \n",
    "    \n",
    "    for qubit in range(n):\n",
    "        circuit.cp(np.pi/2**(n-qubit), qubit, n)\n",
    "\n",
    "    qft_rotations(circuit, n, n_max, case, position)"
   ]
  },
  {
   "cell_type": "code",
   "execution_count": 4,
   "id": "77655bc8",
   "metadata": {},
   "outputs": [],
   "source": [
    "def swap_registers(circuit, n):\n",
    "    \n",
    "    for qubit in range(n//2):\n",
    "        circuit.swap(qubit, n-qubit-1)"
   ]
  },
  {
   "cell_type": "code",
   "execution_count": 5,
   "id": "70a4d53f",
   "metadata": {},
   "outputs": [],
   "source": [
    "def qft(circuit, n, n_max, case, position):\n",
    "    if case == 1:\n",
    "        errori(circuit, position, n) \n",
    "\n",
    "    qft_rotations(circuit, n, n_max, case, position)\n",
    "\n",
    "    if case == n + 1:\n",
    "        errori(circuit, position, n)\n",
    "    \n",
    "    swap_registers(circuit, n)    \n",
    "\n",
    "    if case == n + 2:\n",
    "        errori(circuit, position , n)\n",
    "        \n",
    "    if case == 0:\n",
    "        pass\n",
    "        \n",
    "    if case > n + 2:\n",
    "        print('Error: case value incorrect')\n",
    "    return circuit"
   ]
  },
  {
   "cell_type": "code",
   "execution_count": 6,
   "id": "d7f5f26e",
   "metadata": {},
   "outputs": [],
   "source": [
    "def split_circuit_by_barrier(circuit):\n",
    "    qasm = circuit.qasm()\n",
    "    prelude = []\n",
    "    circuits = [[]]\n",
    "    for line in qasm.splitlines():\n",
    "        if any([line.startswith(t) for t in ['OPENQASM', 'include', 'qreg', 'creg']]):\n",
    "            prelude.append(line)\n",
    "        elif line.startswith('barrier'):\n",
    "            break\n",
    "            circuits.append([])\n",
    "        else:\n",
    "            circuits[-1].append(line)\n",
    "    circuits_with_prelude = [prelude+circuit for circuit in circuits]\n",
    "    for circuit_with_prelude in circuits_with_prelude:\n",
    "        yield QuantumCircuit.from_qasm_str('\\n'.join(circuit_with_prelude))"
   ]
  },
  {
   "cell_type": "code",
   "execution_count": 7,
   "id": "d750b7bc",
   "metadata": {},
   "outputs": [],
   "source": [
    "def split_circuit_by_error(circuit):\n",
    "    qasm = circuit.qasm()\n",
    "    prelude = []\n",
    "    circuits = [[]]\n",
    "    \n",
    "    for line in qasm.splitlines():\n",
    "        if any([line.startswith(t) for t in ['OPENQASM', 'include', 'qreg', 'creg']]):\n",
    "            prelude.append(line)\n",
    "        elif line.startswith('z'):\n",
    "            break\n",
    "        elif line.startswith('x'):\n",
    "            break\n",
    "            circuits.append([])\n",
    "        else:\n",
    "            circuits[-1].append(line)\n",
    "    circuits_with_prelude = [prelude+circuit for circuit in circuits]\n",
    "    for circuit_with_prelude in circuits_with_prelude:\n",
    "        yield QuantumCircuit.from_qasm_str('\\n'.join(circuit_with_prelude))\n"
   ]
  },
  {
   "cell_type": "code",
   "execution_count": 8,
   "id": "8d4d1b24",
   "metadata": {},
   "outputs": [],
   "source": [
    "n = 3\n",
    "repetitions = 50\n",
    "\n",
    "amplitudes = np.empty(n + 3)\n",
    "summa = 0\n",
    "\n",
    "for case in range(0, n + 3):\n",
    "\n",
    "    for reps in range(repetitions):\n",
    "\n",
    "        for position in range(n):\n",
    "\n",
    "            control = QuantumRegister(n, 'r1')\n",
    "            circuit = QuantumCircuit(control)\n",
    "            qft(circuit, n, n, case, position) \n",
    "            for subcircuit in (split_circuit_by_barrier(circuit)):\n",
    "                circuit_right = subcircuit\n",
    "            for subcircuit in (split_circuit_by_error(circuit)):\n",
    "                circuit_left = subcircuit\n",
    "            circuit_right = circuit_right.inverse()\n",
    "            merge = circuit_left.compose(circuit_right)\n",
    "\n",
    "            backend = Aer.get_backend('unitary_simulator')\n",
    "            job = execute(merge, backend, shots = 8192)\n",
    "            result = job.result()\n",
    "            UeU = result.get_unitary(merge,3)\n",
    "\n",
    "            summa_states = 0\n",
    "            for iii in range(2**n):   \n",
    "                label = bin(iii).lstrip('-0b').zfill(n)\n",
    "                state = Statevector.from_label(label)\n",
    "                summa_states = summa_states + (state.evolve(UeU)[label]**2).real\n",
    "                state = 0\n",
    "            summa = summa + summa_states\n",
    "            merge = 0\n",
    "            result = 0\n",
    "            circuit = 0\n",
    "            UeU = 0\n",
    "    amplitudes[case] = amplitudes[case] + summa\n",
    "    summa = 0\n",
    "    \n",
    "    #plot.append(amplitudes.sum(axis = 1)/(n*(2**n)))\n",
    "    #reps += 1"
   ]
  },
  {
   "cell_type": "code",
   "execution_count": 9,
   "id": "118b269a",
   "metadata": {},
   "outputs": [],
   "source": [
    "for i in range(0, n + 3):\n",
    "    amplitudes[i] = amplitudes[i]/(repetitions*n*(2**n))"
   ]
  },
  {
   "cell_type": "code",
   "execution_count": 10,
   "id": "7b6d4140",
   "metadata": {},
   "outputs": [
    {
     "data": {
      "image/png": "[encoded data removed]",
      "text/plain": [
       "<Figure size 1200x600 with 1 Axes>"
      ]
     },
     "metadata": {},
     "output_type": "display_data"
    }
   ],
   "source": [
    "import matplotlib.pyplot as plt\n",
    "plt.rc('figure', figsize=(12, 6))\n",
    "params = {'text.usetex' : True, 'font.size' : 20, 'font.family' : 'serif'}\n",
    "plt.rcParams.update(params)\n",
    "plt.xlabel('Depth')\n",
    "plt.ylabel('Amplitudes')\n",
    "\n",
    "plt.plot(amplitudes, color = '#4C495A')             \n",
    "plt.axhline(y=0.5, linestyle='--', color = 'grey')\n",
    "plt.savefig('QFT_return_prob_cases_many_errors.pdf', format = 'pdf')       "
   ]
  },
  {
   "cell_type": "code",
   "execution_count": null,
   "id": "fa8ff544",
   "metadata": {},
   "outputs": [],
   "source": []
  }
 ],
 "metadata": {
  "kernelspec": {
   "display_name": "Python 3 (ipykernel)",
   "language": "python",
   "name": "python3"
  },
  "language_info": {
   "codemirror_mode": {
    "name": "ipython",
    "version": 3
   },
   "file_extension": ".py",
   "mimetype": "text/x-python",
   "name": "python",
   "nbconvert_exporter": "python",
   "pygments_lexer": "ipython3",
   "version": "3.10.6"
  }
 },
 "nbformat": 4,
 "nbformat_minor": 5
}
