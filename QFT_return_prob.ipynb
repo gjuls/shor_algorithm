{
 "cells": [
  {
   "attachments": {},
   "cell_type": "markdown",
   "id": "82353880",
   "metadata": {},
   "source": [
    "# First prompt of single error return probability"
   ]
  },
  {
   "cell_type": "code",
   "execution_count": 3,
   "id": "b2738943",
   "metadata": {},
   "outputs": [],
   "source": [
    "from qiskit import QuantumCircuit, QuantumRegister, ClassicalRegister\n",
    "from qiskit.quantum_info import Statevector\n",
    "from qiskit import QuantumCircuit, execute\n",
    "from qiskit.providers.aer import QasmSimulator\n",
    "from qiskit.extensions import UnitaryGate\n",
    "from qiskit.quantum_info.operators import Operator\n",
    "from qiskit import execute, transpile, assemble\n",
    "from qiskit import Aer\n",
    "from qiskit.visualization import plot_state_city\n",
    "from qiskit.visualization import plot_histogram\n",
    "from sympy import factorint\n",
    "from fractions import Fraction\n",
    "from numpy import linalg\n",
    "import pandas as pd\n",
    "import numpy as np\n",
    "from numpy import pi\n",
    "from sympy import *\n",
    "import random\n",
    "import math\n",
    "\n",
    "import qiskit.quantum_info as qi\n",
    "from qiskit.visualization import array_to_latex\n",
    "from qiskit.providers.aer.library import SaveDensityMatrix\n",
    "from qiskit.quantum_info import Statevector"
   ]
  },
  {
   "cell_type": "code",
   "execution_count": 5,
   "id": "77655bc8",
   "metadata": {},
   "outputs": [],
   "source": [
    "def swap_registers(circuit, n):\n",
    "    \n",
    "    for qubit in range(n//2):\n",
    "        circuit.swap(qubit, n-qubit-1)"
   ]
  },
  {
   "cell_type": "code",
   "execution_count": 6,
   "id": "331c9f2a",
   "metadata": {},
   "outputs": [],
   "source": [
    "def errori(circuit, position, n):\n",
    "    epsilon = 1                          \n",
    "    extracted = random.uniform(0, 1)\n",
    "    \n",
    "    if (extracted < epsilon):    \n",
    "        circuit.x(position)          #--------------------error type choice\n",
    "    circuit.barrier(range(n))\n",
    "    return circuit"
   ]
  },
  {
   "cell_type": "code",
   "execution_count": 7,
   "id": "df05fff2",
   "metadata": {},
   "outputs": [],
   "source": [
    "def qft_rotations(circuit, n, n_max,  case, position):\n",
    "    tmp = n_max - case\n",
    "    \n",
    "    if n == 0:\n",
    "        return circuit\n",
    "    n -= 1    \n",
    "\n",
    "    if n  == tmp:\n",
    "        errori(circuit, position, n)  \n",
    "        \n",
    "    circuit.h(n)   \n",
    "    \n",
    "    for qubit in range(n):\n",
    "        circuit.cp(np.pi/2**(n-qubit), qubit, n)\n",
    "\n",
    "    qft_rotations(circuit, n, n_max, case, position)"
   ]
  },
  {
   "cell_type": "code",
   "execution_count": 8,
   "id": "70a4d53f",
   "metadata": {},
   "outputs": [],
   "source": [
    "def qft(circuit, n, n_max, case, position):\n",
    "    if case == 1:\n",
    "        errori(circuit, position, n) \n",
    "\n",
    "    qft_rotations(circuit, n, n_max, case, position)\n",
    "\n",
    "    if case == n + 1:\n",
    "        errori(circuit, position, n)\n",
    "    swap_registers(circuit, n)    \n",
    "\n",
    "    if case == n + 2:\n",
    "        errori(circuit, position , n)\n",
    "        \n",
    "    if case == 0:\n",
    "        print('qui')\n",
    "        \n",
    "    if case > n + 2:\n",
    "        print('Error: case value incorrect')\n",
    "    return circuit"
   ]
  },
  {
   "cell_type": "code",
   "execution_count": 9,
   "id": "d7f5f26e",
   "metadata": {},
   "outputs": [],
   "source": [
    "def split_circuit_by_barrier(circuit):\n",
    "    qasm = circuit.qasm()\n",
    "    prelude = []\n",
    "    circuits = [[]]\n",
    "    for line in qasm.splitlines():\n",
    "        if any([line.startswith(t) for t in ['OPENQASM', 'include', 'qreg', 'creg']]):\n",
    "            prelude.append(line)\n",
    "        elif line.startswith('barrier'):\n",
    "            break\n",
    "            circuits.append([])\n",
    "        else:\n",
    "            circuits[-1].append(line)\n",
    "    circuits_with_prelude = [prelude+circuit for circuit in circuits]\n",
    "    for circuit_with_prelude in circuits_with_prelude:\n",
    "        yield QuantumCircuit.from_qasm_str('\\n'.join(circuit_with_prelude))"
   ]
  },
  {
   "cell_type": "code",
   "execution_count": 10,
   "id": "d750b7bc",
   "metadata": {},
   "outputs": [],
   "source": [
    "def split_circuit_by_error(circuit):\n",
    "    qasm = circuit.qasm()\n",
    "    prelude = []\n",
    "    circuits = [[]]\n",
    "    for line in qasm.splitlines():\n",
    "        if any([line.startswith(t) for t in ['OPENQASM', 'include', 'qreg', 'creg']]):\n",
    "            prelude.append(line)\n",
    "        elif line.startswith('x'):\n",
    "            break\n",
    "            circuits.append([])\n",
    "        else:\n",
    "            circuits[-1].append(line)\n",
    "    circuits_with_prelude = [prelude+circuit for circuit in circuits]\n",
    "    for circuit_with_prelude in circuits_with_prelude:\n",
    "        yield QuantumCircuit.from_qasm_str('\\n'.join(circuit_with_prelude))\n",
    "        "
   ]
  },
  {
   "attachments": {},
   "cell_type": "markdown",
   "id": "bf4a2ffa",
   "metadata": {},
   "source": [
    "Main:\n",
    "- Choose number of qubits;\n",
    "- Choose number of error (case);\n",
    "- Choose error position;\n",
    "- Choose error type (UP)."
   ]
  },
  {
   "cell_type": "code",
   "execution_count": 16,
   "id": "8d4d1b24",
   "metadata": {},
   "outputs": [
    {
     "name": "stdout",
     "output_type": "stream",
     "text": [
      "Dim. Matrice Unitaria: 256\n"
     ]
    },
    {
     "data": {
      "text/latex": [
       "$$\n",
       "\n",
       "\\begin{bmatrix}\n",
       "0 & 0 & \\tfrac{1}{4} + 0.604i & 0 & \\cdots & 0 & \\tfrac{1}{4} - 0.604i & 0  \\\\\n",
       " 0 & 0 & 0 & \\tfrac{1}{4} + 0.604i & \\cdots & 0 & 0 & \\tfrac{1}{4} - 0.604i  \\\\\n",
       " \\tfrac{1}{4} - 0.604i & 0 & 0 & 0 & \\cdots & 0 & 0 & 0  \\\\\n",
       " 0 & \\tfrac{1}{4} - 0.604i & 0 & 0 & \\cdots & \\tfrac{1}{4} - 0.104i & 0 & 0  \\\\\n",
       " \\vdots & \\vdots & \\vdots & \\vdots & \\ddots & \\vdots & \\vdots & \\vdots \\\\\n",
       " 0 & 0 & 0 & \\tfrac{1}{4} + 0.104i & \\cdots & 0 & 0 & \\tfrac{1}{4} + 0.604i  \\\\\n",
       " \\tfrac{1}{4} + 0.604i & 0 & 0 & 0 & \\cdots & 0 & 0 & 0  \\\\\n",
       " 0 & \\tfrac{1}{4} + 0.604i & 0 & 0 & \\cdots & \\tfrac{1}{4} - 0.604i & 0 & 0  \\\\\n",
       " \\end{bmatrix}\n",
       "$$"
      ],
      "text/plain": [
       "<IPython.core.display.Latex object>"
      ]
     },
     "execution_count": 16,
     "metadata": {},
     "output_type": "execute_result"
    }
   ],
   "source": [
    "n = 4\n",
    "case = 3\n",
    "position = 1\n",
    "\n",
    "control = QuantumRegister(n, 'r1')\n",
    "circuit = QuantumCircuit(control)\n",
    "qft(circuit, n, n, case, position) \n",
    "circuit.draw(fold = -1, scale = 0.5) \n",
    "\n",
    "for subcircuit in (split_circuit_by_barrier(circuit)):\n",
    "    circuit_right = subcircuit\n",
    "for subcircuit in (split_circuit_by_error(circuit)):\n",
    "    circuit_left = subcircuit\n",
    "\n",
    "circuit_right = circuit_right.inverse()\n",
    "\n",
    "merge = circuit_left.compose(circuit_right)\n",
    "merge.draw(fold = -1, scale = 0.5)\n",
    "\n",
    "backend = Aer.get_backend('unitary_simulator')\n",
    "job = execute(merge, backend, shots = 8192)\n",
    "result = job.result()\n",
    "UeU = result.get_unitary(merge,3)\n",
    "print('Dim. Matrice Unitaria:', np.size(UeU))\n",
    "\n",
    "array_to_latex(UeU)"
   ]
  },
  {
   "cell_type": "code",
   "execution_count": 17,
   "id": "b5e2813e",
   "metadata": {},
   "outputs": [
    {
     "data": {
      "image/png": "[encoded data removed]",
      "text/plain": [
       "<Figure size 818.647x183.944 with 1 Axes>"
      ]
     },
     "execution_count": 17,
     "metadata": {},
     "output_type": "execute_result"
    }
   ],
   "source": [
    "#Circuito iniziale con errore\n",
    "circuit.draw('mpl', fold = -1, scale = 0.5) "
   ]
  },
  {
   "cell_type": "code",
   "execution_count": 22,
   "id": "bab01a13",
   "metadata": {},
   "outputs": [
    {
     "data": {
      "image/png": "[encoded data removed]",
      "text/plain": [
       "<Figure size 1111.29x183.944 with 1 Axes>"
      ]
     },
     "execution_count": 22,
     "metadata": {},
     "output_type": "execute_result"
    }
   ],
   "source": [
    "#Circuito andata e ritorno con blocco\n",
    "from qiskit.tools.visualization import circuit_drawer\n",
    "import matplotlib.pyplot as plt\n",
    "plt.rc('figure', figsize=(16, 6))\n",
    "\n",
    "circuit_drawer(merge, output='latex_source',filename = 'QFT_return_prob.tex', style={'backgroundcolor': '#EEEEEE'})\n",
    "merge.draw('mpl', fold = -1, scale = 0.5)"
   ]
  },
  {
   "cell_type": "code",
   "execution_count": null,
   "id": "2f04da30",
   "metadata": {},
   "outputs": [],
   "source": []
  }
 ],
 "metadata": {
  "kernelspec": {
   "display_name": "Python 3 (ipykernel)",
   "language": "python",
   "name": "python3"
  },
  "language_info": {
   "codemirror_mode": {
    "name": "ipython",
    "version": 3
   },
   "file_extension": ".py",
   "mimetype": "text/x-python",
   "name": "python",
   "nbconvert_exporter": "python",
   "pygments_lexer": "ipython3",
   "version": "3.10.6"
  }
 },
 "nbformat": 4,
 "nbformat_minor": 5
}
