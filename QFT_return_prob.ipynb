{
 "cells": [
  {
   "cell_type": "code",
   "execution_count": 1,
   "id": "82353880",
   "metadata": {},
   "outputs": [],
   "source": [
    "###########################\n",
    "#Noise QFT\n",
    "# serach for the return probabilities\n",
    "###########################"
   ]
  },
  {
   "cell_type": "code",
   "execution_count": 43,
   "id": "b2738943",
   "metadata": {},
   "outputs": [],
   "source": [
    "from qiskit import QuantumCircuit, QuantumRegister, ClassicalRegister\n",
    "from qiskit.quantum_info import Statevector\n",
    "from qiskit import QuantumCircuit, execute\n",
    "from qiskit.providers.aer import QasmSimulator\n",
    "from qiskit.extensions import UnitaryGate\n",
    "from qiskit.quantum_info.operators import Operator\n",
    "from qiskit import execute, transpile, assemble\n",
    "from qiskit import Aer\n",
    "from qiskit.visualization import plot_state_city\n",
    "from qiskit.visualization import plot_histogram\n",
    "from sympy import factorint\n",
    "from fractions import Fraction\n",
    "from numpy import linalg\n",
    "import pandas as pd\n",
    "import numpy as np\n",
    "from numpy import pi\n",
    "from sympy import *\n",
    "import random\n",
    "import math\n",
    "\n",
    "import qiskit.quantum_info as qi\n",
    "from qiskit.visualization import array_to_latex\n",
    "from qiskit.providers.aer.library import SaveDensityMatrix\n",
    "\n",
    "from qiskit.quantum_info import Statevector"
   ]
  },
  {
   "cell_type": "code",
   "execution_count": 2,
   "id": "3bab5d18",
   "metadata": {},
   "outputs": [],
   "source": [
    "import matplotlib.pyplot as plt\n",
    "plt.rc('figure', figsize=(16, 6))"
   ]
  },
  {
   "cell_type": "code",
   "execution_count": 3,
   "id": "df05fff2",
   "metadata": {},
   "outputs": [],
   "source": [
    "def qft_rotations(circuit, n, n_max,  case, position):\n",
    "    tmp = n_max - case\n",
    "    \n",
    "    if n == 0:\n",
    "        return circuit\n",
    "    n -= 1    \n",
    "\n",
    "    if n  == tmp:\n",
    "        errori(circuit, position, n)  \n",
    "        \n",
    "    circuit.h(n)   \n",
    "    \n",
    "    for qubit in range(n):\n",
    "        circuit.cp(np.pi/2**(n-qubit), qubit, n)\n",
    "\n",
    "    qft_rotations(circuit, n, n_max, case, position)"
   ]
  },
  {
   "cell_type": "code",
   "execution_count": 4,
   "id": "77655bc8",
   "metadata": {},
   "outputs": [],
   "source": [
    "def swap_registers(circuit, n):\n",
    "    \n",
    "    for qubit in range(n//2):\n",
    "        circuit.swap(qubit, n-qubit-1)"
   ]
  },
  {
   "cell_type": "code",
   "execution_count": 5,
   "id": "331c9f2a",
   "metadata": {},
   "outputs": [],
   "source": [
    "def errori(circuit, position, n):\n",
    "    epsilon = 1                          \n",
    "    extracted = random.uniform(0, 1)\n",
    "    \n",
    "    if (extracted < epsilon):    \n",
    "        circuit.z(position)          #--------------------error type choice\n",
    "    circuit.barrier(range(n))\n",
    "    return circuit"
   ]
  },
  {
   "cell_type": "code",
   "execution_count": 6,
   "id": "70a4d53f",
   "metadata": {},
   "outputs": [],
   "source": [
    "def qft(circuit, n, n_max, case, position):\n",
    "    if case == 1:\n",
    "        errori(circuit, position, n) \n",
    "\n",
    "    qft_rotations(circuit, n, n_max, case, position)\n",
    "\n",
    "    if case == n + 1:\n",
    "        errori(circuit, position, n)\n",
    "    #circuit.barrier(range(n))\n",
    "    swap_registers(circuit, n)    \n",
    "\n",
    "    if case == n + 2:\n",
    "        errori(circuit, position , n)\n",
    "        \n",
    "    if case == 0:\n",
    "        print('qui')\n",
    "        \n",
    "    if case > n + 2:\n",
    "        print('Error: case value incorrect')\n",
    "    return circuit"
   ]
  },
  {
   "cell_type": "code",
   "execution_count": 7,
   "id": "d7f5f26e",
   "metadata": {},
   "outputs": [],
   "source": [
    "def split_circuit_by_barrier(circuit):\n",
    "    qasm = circuit.qasm()\n",
    "    prelude = []\n",
    "    circuits = [[]]\n",
    "    for line in qasm.splitlines():\n",
    "        if any([line.startswith(t) for t in ['OPENQASM', 'include', 'qreg', 'creg']]):\n",
    "            prelude.append(line)\n",
    "        elif line.startswith('barrier'):\n",
    "            break\n",
    "            circuits.append([])\n",
    "        else:\n",
    "            circuits[-1].append(line)\n",
    "    circuits_with_prelude = [prelude+circuit for circuit in circuits]\n",
    "    for circuit_with_prelude in circuits_with_prelude:\n",
    "        yield QuantumCircuit.from_qasm_str('\\n'.join(circuit_with_prelude))"
   ]
  },
  {
   "cell_type": "code",
   "execution_count": 8,
   "id": "d750b7bc",
   "metadata": {},
   "outputs": [],
   "source": [
    "def split_circuit_by_error(circuit):\n",
    "    qasm = circuit.qasm()\n",
    "    prelude = []\n",
    "    circuits = [[]]\n",
    "    for line in qasm.splitlines():\n",
    "        if any([line.startswith(t) for t in ['OPENQASM', 'include', 'qreg', 'creg']]):\n",
    "            prelude.append(line)\n",
    "        elif line.startswith('z'):\n",
    "            break\n",
    "            circuits.append([])\n",
    "        else:\n",
    "            circuits[-1].append(line)\n",
    "    circuits_with_prelude = [prelude+circuit for circuit in circuits]\n",
    "    for circuit_with_prelude in circuits_with_prelude:\n",
    "        yield QuantumCircuit.from_qasm_str('\\n'.join(circuit_with_prelude))\n",
    "        "
   ]
  },
  {
   "cell_type": "code",
   "execution_count": 140,
   "id": "8d4d1b24",
   "metadata": {},
   "outputs": [
    {
     "name": "stdout",
     "output_type": "stream",
     "text": [
      "Dim. Matrice Unitaria: 256\n"
     ]
    }
   ],
   "source": [
    "n = 4\n",
    "#change case (0, n + 2) and position (0,n - 1), case = 0 mean no errors\n",
    "case = 4\n",
    "position = 2\n",
    "\n",
    "control = QuantumRegister(n, 'r1')\n",
    "circuit = QuantumCircuit(control)\n",
    "\n",
    "qft(circuit, n, n, case, position) \n",
    "circuit.draw(fold = -1, scale = 0.5) \n",
    "\n",
    "for subcircuit in (split_circuit_by_barrier(circuit)):\n",
    "    circuit_right = subcircuit\n",
    "    #print(circuit_right)\n",
    "for subcircuit in (split_circuit_by_error(circuit)):\n",
    "    circuit_left = subcircuit\n",
    "    #print(circuit_left)\n",
    "\n",
    "circuit_right = circuit_right.inverse()\n",
    "\n",
    "merge = circuit_left.compose(circuit_right)\n",
    "merge.draw(fold = -1, scale = 0.5)\n",
    "\n",
    "backend = Aer.get_backend('unitary_simulator')\n",
    "job = execute(merge, backend, shots = 8192)\n",
    "result = job.result()\n",
    "UeU = result.get_unitary(merge,3)\n",
    "print('Dim. Matrice Unitaria:', np.size(UeU))\n",
    "\n"
   ]
  },
  {
   "cell_type": "code",
   "execution_count": 151,
   "id": "b5e2813e",
   "metadata": {},
   "outputs": [
    {
     "data": {
      "image/png": "[encoded data removed]",
      "text/plain": [
       "<Figure size 776.841x183.944 with 1 Axes>"
      ]
     },
     "execution_count": 151,
     "metadata": {},
     "output_type": "execute_result"
    }
   ],
   "source": [
    "#Circuito iniziale con error\n",
    "circuit.draw('mpl', fold = -1, scale = 0.5) "
   ]
  },
  {
   "cell_type": "code",
   "execution_count": 150,
   "id": "bab01a13",
   "metadata": {},
   "outputs": [
    {
     "data": {
      "image/png": "[encoded data removed]",
      "text/plain": [
       "<Figure size 1320.31x183.944 with 1 Axes>"
      ]
     },
     "execution_count": 150,
     "metadata": {},
     "output_type": "execute_result"
    }
   ],
   "source": [
    "#Circuito andata e ritorno con blocco\n",
    "merge.draw('mpl', fold = -1, scale = 0.5)"
   ]
  },
  {
   "cell_type": "code",
   "execution_count": 144,
   "id": "0449215e",
   "metadata": {},
   "outputs": [],
   "source": [
    "#Circuito integrale inizializzato \n",
    "for iii in range(2**n-1, 2**n):   #ciclo sugli stati iniziali\n",
    "    \n",
    "    label = bin(iii).lstrip('-0b').zfill(n)\n",
    "    state = Statevector.from_label(label)\n",
    "    iii += 1"
   ]
  },
  {
   "cell_type": "code",
   "execution_count": 148,
   "id": "604b481a",
   "metadata": {},
   "outputs": [
    {
     "data": {
      "image/png": "[encoded data removed]",
      "text/plain": [
       "<Figure size 2807.85x367.889 with 1 Axes>"
      ]
     },
     "execution_count": 148,
     "metadata": {},
     "output_type": "execute_result"
    }
   ],
   "source": [
    "n = 4\n",
    "control = QuantumRegister(n, 'r1')\n",
    "initial = QuantumCircuit(control)\n",
    "initial.initialize('0000')\n",
    "initial.compose(merge).draw('mpl', fold = -1)"
   ]
  },
  {
   "cell_type": "code",
   "execution_count": 147,
   "id": "1000c926",
   "metadata": {},
   "outputs": [],
   "source": [
    "merge.draw('mpl',style={'displaycolor': {'x': ('#05BAB6', '#043813')}}, fold = -1).savefig('circuit_returnP.pdf', format = 'pdf') \n"
   ]
  },
  {
   "cell_type": "code",
   "execution_count": 141,
   "id": "9ce23c78",
   "metadata": {},
   "outputs": [
    {
     "data": {
      "text/latex": [
       "$$\n",
       "\n",
       "\\begin{bmatrix}\n",
       "0 & 0 & 0 & 0 & \\cdots & 0 & 0 & 0  \\\\\n",
       " 0 & 0 & 0 & 0 & \\cdots & \\tfrac{1}{2}(1 - i) & 0 & 0  \\\\\n",
       " 0 & 0 & 0 & 0 & \\cdots & 0 & \\tfrac{1}{2}(1 - i) & 0  \\\\\n",
       " 0 & 0 & 0 & 0 & \\cdots & 0 & 0 & \\tfrac{1}{2}(1 - i)  \\\\\n",
       " \\vdots & \\vdots & \\vdots & \\vdots & \\ddots & \\vdots & \\vdots & \\vdots \\\\\n",
       " 0 & \\tfrac{1}{2}(1 + i) & 0 & 0 & \\cdots & 0 & 0 & 0  \\\\\n",
       " 0 & 0 & \\tfrac{1}{2}(1 + i) & 0 & \\cdots & 0 & 0 & 0  \\\\\n",
       " 0 & 0 & 0 & \\tfrac{1}{2}(1 + i) & \\cdots & 0 & 0 & 0  \\\\\n",
       " \\end{bmatrix}\n",
       "$$"
      ],
      "text/plain": [
       "<IPython.core.display.Latex object>"
      ]
     },
     "execution_count": 141,
     "metadata": {},
     "output_type": "execute_result"
    }
   ],
   "source": [
    "#Matrice Unitaria del circuito UeU\n",
    "array_to_latex(UeU)"
   ]
  },
  {
   "cell_type": "code",
   "execution_count": 159,
   "id": "db199901",
   "metadata": {},
   "outputs": [
    {
     "data": {
      "text/latex": [
       "$$\n",
       "\n",
       "\\begin{bmatrix}\n",
       "0 & 0 & 0 & 0 & \\cdots & 0 & 0 & 0  \\\\\n",
       " 0 & 0 & 0 & 0 & \\cdots & 0 & 0 & 0  \\\\\n",
       " 0 & 0 & 0 & 0 & \\cdots & 0 & 0 & 0  \\\\\n",
       " 0 & 0 & 0 & 0 & \\cdots & 0 & 0 & \\tfrac{1}{2}(1 - i)  \\\\\n",
       " \\vdots & \\vdots & \\vdots & \\vdots & \\ddots & \\vdots & \\vdots & \\vdots \\\\\n",
       " 0 & 0 & 0 & 0 & \\cdots & 0 & 0 & 0  \\\\\n",
       " 0 & 0 & 0 & 0 & \\cdots & 0 & 0 & 0  \\\\\n",
       " 0 & 0 & 0 & 0 & \\cdots & 0 & 0 & 0  \\\\\n",
       " \\end{bmatrix}\n",
       "$$"
      ],
      "text/plain": [
       "<IPython.core.display.Latex object>"
      ]
     },
     "execution_count": 159,
     "metadata": {},
     "output_type": "execute_result"
    }
   ],
   "source": [
    "array_to_latex(np.multiply(state, UeU))"
   ]
  }
 ],
 "metadata": {
  "kernelspec": {
   "display_name": "Python 3 (ipykernel)",
   "language": "python",
   "name": "python3"
  },
  "language_info": {
   "codemirror_mode": {
    "name": "ipython",
    "version": 3
   },
   "file_extension": ".py",
   "mimetype": "text/x-python",
   "name": "python",
   "nbconvert_exporter": "python",
   "pygments_lexer": "ipython3",
   "version": "3.10.6"
  }
 },
 "nbformat": 4,
 "nbformat_minor": 5
}
