{
 "cells": [
  {
   "attachments": {},
   "cell_type": "markdown",
   "id": "d4f20b1b",
   "metadata": {},
   "source": [
    "# Entanglement within the two registers"
   ]
  },
  {
   "cell_type": "code",
   "execution_count": 2,
   "id": "b2738943",
   "metadata": {},
   "outputs": [],
   "source": [
    "from qiskit import QuantumCircuit, QuantumRegister, ClassicalRegister\n",
    "from qiskit.providers.aer.library import SaveDensityMatrix\n",
    "from qiskit.visualization import array_to_latex\n",
    "import qiskit.quantum_info as qi\n",
    "from qiskit.extensions import UnitaryGate\n",
    "from qiskit.quantum_info.operators import Operator\n",
    "from qiskit import execute, transpile, assemble\n",
    "from qiskit import Aer\n",
    "from qiskit.visualization import plot_histogram\n",
    "from sympy import factorint\n",
    "from numpy import linalg\n",
    "import matplotlib.pyplot as plt\n",
    "import numpy as np\n",
    "from numpy import pi\n",
    "from sympy import *\n",
    "import random\n",
    "from random import sample\n",
    "import math"
   ]
  },
  {
   "cell_type": "code",
   "execution_count": 3,
   "id": "b442ee69",
   "metadata": {},
   "outputs": [],
   "source": [
    "def check(number):\n",
    "    if number % 2 == 0:\n",
    "        print(\"Even, 2 is a divisor\")\n",
    "        return\n",
    "        \n",
    "    if isprime(number) == True:\n",
    "        print(\"Prime number\")\n",
    "        return\n",
    "    \n",
    "    factorization = factorint(number)\n",
    "    for i in range(len(factorization.keys())):\n",
    "        p = list(factorization)[i]\n",
    "        q = list(factorization.values())[i]\n",
    "        if isprime(p) and q != 1:\n",
    "            print(\"Prime Power: %i^%i, %i is a divisor\" % ( p, q, p))\n",
    "            return\n",
    "    \n",
    "    y = random.randrange(2, number - 1)\n",
    "    a = math.gcd(y, number)\n",
    "    if a > 1:\n",
    "        print(\"Divisor: a = %i\" %(a))\n",
    "        return y\n",
    "        \n",
    "    else:\n",
    "        print(\"y = %i and N = %i are coprime - r well defined\" %  (y, N))\n",
    "        return "
   ]
  },
  {
   "cell_type": "code",
   "execution_count": 4,
   "id": "66daa3c8",
   "metadata": {},
   "outputs": [],
   "source": [
    "def mod_exp(n, y, N, power):\n",
    "    dim = 2**n\n",
    "    matrix = np.zeros((dim, dim))\n",
    "    \n",
    "    for i in range(N):\n",
    "        j = (i*y)%N\n",
    "        matrix[j][i]=1\n",
    "             \n",
    "    for ii in range(N, dim):\n",
    "        matrix[ii][ii] = 1\n",
    "             \n",
    "    matrix = linalg.matrix_power(matrix, 2**power) \n",
    "        \n",
    "    U = UnitaryGate(matrix)\n",
    "    \n",
    "    U.name = \"%i^%i mod %i\" % ( y, 2**power, N)\n",
    "    c_U = U.control()\n",
    "    return c_U"
   ]
  },
  {
   "cell_type": "code",
   "execution_count": 5,
   "id": "df05fff2",
   "metadata": {},
   "outputs": [],
   "source": [
    "def qft_dagger(n):\n",
    "    qc = QuantumCircuit(n)\n",
    "\n",
    "    for qubit in range(n//2):\n",
    "        qc.swap(qubit, n-qubit-1)\n",
    "    for j in range(n):\n",
    "        for m in range(j):\n",
    "            qc.cp(-np.pi/float(2**(j-m)), m, j)\n",
    "        qc.h(j)\n",
    "    qc.name = \"QFT†\"\n",
    "    return qc"
   ]
  },
  {
   "cell_type": "code",
   "execution_count": 6,
   "id": "36be9acd",
   "metadata": {},
   "outputs": [
    {
     "name": "stdout",
     "output_type": "stream",
     "text": [
      "[5, 4, 1, 2, 0]\n",
      "0 [0.0, 5.544388994727084e-16, 0.9999999999999302, 2.000000000000181, 2.000000000000181, 2.000000000000181, 2.000000000000181, 2.000000000000181, 2.000000000000181, 2.000000000000181, 1.753709652981076e-30, 0.0]\n"
     ]
    }
   ],
   "source": [
    "y = 2  \n",
    "N = 15 \n",
    "\n",
    "runs = 1\n",
    "#partition = 7\n",
    "\n",
    "n = math.ceil(math.log(N,2))\n",
    "control = QuantumRegister(2*n, 'r1')\n",
    "target  = QuantumRegister(n, 't1')\n",
    "classic = ClassicalRegister(2*n, 'c')\n",
    "\n",
    "rho_step = 12 \n",
    "somma = np.zeros(rho_step)\n",
    "\n",
    "for j in range(runs):\n",
    "    circuit = QuantumCircuit(control, target, classic)\n",
    "    partition = random.randint(1, 2*n)\n",
    "    qubits = random.sample(range(0, 2*n), partition)\n",
    "    print(qubits)\n",
    "\n",
    "    size = len(qubits)\n",
    "    label = 0\n",
    "    circuit.append(SaveDensityMatrix(size, label = f'pho_%.1f' % (label)), [i for i in qubits])\n",
    "    circuit.barrier(3*n - 1)\n",
    "    circuit.h(range(2*n))\n",
    "    circuit.x(2*n + n -1)\n",
    "    label += 1\n",
    "    circuit.append(SaveDensityMatrix(size, label = f'pho_%.1f' % (label)), [i for i in qubits])\n",
    "\n",
    "    for q in range(2*n):\n",
    "        label += 1\n",
    "        circuit.append(mod_exp(n, y, N, q), [q] + [i+2*n for i in range(n)]) \n",
    "        circuit.append(SaveDensityMatrix(size, label = f'pho_%.1f' % (label)), [i for i in qubits])\n",
    "        \n",
    "    circuit.append(qft_dagger(2*n), range(2*n)) \n",
    "    label += 1\n",
    "    circuit.append(SaveDensityMatrix(size, label = f'pho_%.1f' % (label)), [i for i in qubits])\n",
    "\n",
    "    circuit.measure(control, classic)\n",
    "    label += 1\n",
    "    circuit.append(SaveDensityMatrix(size, label = f'pho_%.1f' % (label)), [i for i in qubits])\n",
    "\n",
    "    aer_sim = Aer.get_backend('aer_simulator')\n",
    "    t_qc = transpile(circuit, aer_sim)\n",
    "    qobj = assemble(t_qc)\n",
    "    results = aer_sim.run(qobj, shots = 1).result()\n",
    "    counts = results.get_counts()\n",
    "\n",
    "    labels = []\n",
    "    for i in range(len(counts)):\n",
    "        labels.append(int(list(counts.keys())[i], 2))\n",
    "\n",
    "    negativities = []\n",
    "    for i in range(rho_step):\n",
    "        density_matrix = results.data()['pho_%.1f' % (i)]\n",
    "        #conjugate = density_matrix.transpose()#_op\n",
    "        #product = np.matmul(conjugate, density_matrix) #_op\n",
    "        #root = np.sqrt(product)\n",
    "        #norm = root.trace()\n",
    "        #negativities.append((norm- 1)/2)\n",
    "        negativities.append(qi.entropy(density_matrix))        \n",
    "        #density_matrix_op = density_matrix.to_operator()\n",
    "        #density_matrix_tr = density_matrix_op.transpose()\n",
    "        #negativities.append( linalg.norm(density_matrix_tr, 1) - 1 )\n",
    "        \n",
    "    print(j, negativities)\n",
    "    for i in range(len(negativities)):\n",
    "        somma[i] = somma[i] + negativities[i]\n",
    "\n",
    "    negativities = 0\n",
    "    counts = 0\n",
    "    results = 0\n",
    "    density_matrix = 0\n",
    "    circuit = 0\n",
    "    t_qc = 0\n",
    "    qobj = 0\n",
    "    j += 1"
   ]
  },
  {
   "cell_type": "code",
   "execution_count": 7,
   "id": "f7559d7f",
   "metadata": {},
   "outputs": [],
   "source": [
    "media = np.zeros(rho_step)\n",
    "for i in range(rho_step):\n",
    "    media[i] =  somma[i]/ runs"
   ]
  },
  {
   "cell_type": "code",
   "execution_count": 8,
   "id": "4a26e31f",
   "metadata": {
    "scrolled": false
   },
   "outputs": [
    {
     "data": {
      "text/plain": [
       "[<matplotlib.lines.Line2D at 0x21fffcd0b80>]"
      ]
     },
     "execution_count": 8,
     "metadata": {},
     "output_type": "execute_result"
    },
    {
     "data": {
      "image/png": "[encoded data removed]",
      "text/plain": [
       "<Figure size 1200x600 with 1 Axes>"
      ]
     },
     "metadata": {},
     "output_type": "display_data"
    }
   ],
   "source": [
    "import matplotlib.pyplot as plt\n",
    "plt.rc('figure', figsize=(12, 6))\n",
    "params = {'text.usetex' : True, 'font.size' : 12, 'font.family' : 'serif'}\n",
    "plt.rcParams.update(params)\n",
    "\n",
    "xs = []\n",
    "for i in range(len(media)):\n",
    "    xs.append(i)\n",
    "\n",
    "plt.xticks(xs)\n",
    "plt.xlabel('Circuit Step')\n",
    "plt.ylabel(r\"$N(\\rho)$\")\n",
    "plt.plot(media, color = '#4C495A')\n",
    "#plt.savefig('shor_ent_within.pdf', format = 'pdf')\n"
   ]
  },
  {
   "cell_type": "code",
   "execution_count": null,
   "id": "1b5210d7",
   "metadata": {},
   "outputs": [
    {
     "data": {
      "text/plain": [
       "array([0. , 0. , 1. , 1.5, 1.5, 1.5, 1.5, 1.5, 1.5, 1.5, 1.5, 1.5])"
      ]
     },
     "execution_count": 33,
     "metadata": {},
     "output_type": "execute_result"
    }
   ],
   "source": [
    "media"
   ]
  }
 ],
 "metadata": {
  "kernelspec": {
   "display_name": "quiskit",
   "language": "python",
   "name": "python3"
  },
  "language_info": {
   "codemirror_mode": {
    "name": "ipython",
    "version": 3
   },
   "file_extension": ".py",
   "mimetype": "text/x-python",
   "name": "python",
   "nbconvert_exporter": "python",
   "pygments_lexer": "ipython3",
   "version": "3.10.6"
  },
  "vscode": {
   "interpreter": {
    "hash": "84f9208bcd2cdd37fa427a1d8ac59408d93773082155f4ec266fa8edec84db81"
   }
  }
 },
 "nbformat": 4,
 "nbformat_minor": 5
}
