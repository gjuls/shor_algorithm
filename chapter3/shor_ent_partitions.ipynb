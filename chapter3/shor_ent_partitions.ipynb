{
 "cells": [
  {
   "cell_type": "markdown",
   "id": "7b4dd77f",
   "metadata": {},
   "source": [
    "# Average Entanglement Entropy"
   ]
  },
  {
   "cell_type": "code",
   "execution_count": 2,
   "id": "b2738943",
   "metadata": {},
   "outputs": [],
   "source": [
    "from qiskit import QuantumCircuit, QuantumRegister, ClassicalRegister\n",
    "from qiskit.extensions import UnitaryGate\n",
    "from qiskit.providers.aer.library import SaveDensityMatrix\n",
    "from qiskit.visualization import array_to_latex\n",
    "from qiskit.quantum_info.operators import Operator\n",
    "from qiskit import execute, transpile, assemble\n",
    "from qiskit.visualization import plot_histogram\n",
    "import qiskit.quantum_info as qi\n",
    "from qiskit import Aer\n",
    "from sympy import factorint\n",
    "from numpy import linalg\n",
    "import matplotlib.pyplot as plt\n",
    "import matplotlib as mpl\n",
    "import numpy as np\n",
    "from numpy import pi\n",
    "from sympy import *\n",
    "import random\n",
    "from random import sample\n",
    "import pandas as pd\n",
    "import math"
   ]
  },
  {
   "cell_type": "code",
   "execution_count": 3,
   "id": "b442ee69",
   "metadata": {},
   "outputs": [],
   "source": [
    "def check(number):\n",
    "    if number % 2 == 0:\n",
    "        print(\"Even, 2 is a divisor\")\n",
    "        return\n",
    "        \n",
    "    if isprime(number) == True:\n",
    "        print(\"Prime number\")\n",
    "        return\n",
    "    \n",
    "    factorization = factorint(number)\n",
    "    for i in range(len(factorization.keys())):\n",
    "        p = list(factorization)[i]\n",
    "        q = list(factorization.values())[i]\n",
    "        if isprime(p) and q != 1:\n",
    "            print(\"Prime Power: %i^%i, %i is a divisor\" % ( p, q, p))\n",
    "            return\n",
    "    \n",
    "    y = random.randrange(2, number - 1)\n",
    "    a = math.gcd(y, number)\n",
    "    if a > 1:\n",
    "        print(\"Divisor: a = %i\" %(a))\n",
    "        return y\n",
    "        \n",
    "    else:\n",
    "        print(\"y = %i and N = %i are coprime - r well defined\" %  (y, N))\n",
    "        return "
   ]
  },
  {
   "cell_type": "code",
   "execution_count": 4,
   "id": "66daa3c8",
   "metadata": {},
   "outputs": [],
   "source": [
    "def mod_exp(n, y, N, power):\n",
    "    dim = 2**n\n",
    "    matrix_0 = np.zeros((dim, dim))\n",
    "    \n",
    "    for i in range(N):\n",
    "        j = (i*y)%N\n",
    "        matrix_0[j][i]=1\n",
    "             \n",
    "    for ii in range(N, dim):\n",
    "        matrix_0[ii][ii] = 1\n",
    "             \n",
    "    #matrix = linalg.matrix_power(matrix, 2**power) #possibly dimezzare op. number\n",
    "    temp = matrix_0\n",
    "    for iii in range(power):\n",
    "        matrix = np.dot(temp, temp)\n",
    "        temp = matrix\n",
    "        \n",
    "    U = UnitaryGate(temp)\n",
    "    \n",
    "    U.name = \"%i^%i mod %i\" % ( y, 2**power, N)\n",
    "    c_U = U.control()\n",
    "    return c_U"
   ]
  },
  {
   "cell_type": "code",
   "execution_count": 5,
   "id": "df05fff2",
   "metadata": {},
   "outputs": [],
   "source": [
    "def qft_dagger(n):\n",
    "    qc = QuantumCircuit(n)\n",
    "\n",
    "    for qubit in range(n//2):\n",
    "        qc.swap(qubit, n-qubit-1)\n",
    "    for j in range(n):\n",
    "        for m in range(j):\n",
    "            qc.cp(-np.pi/float(2**(j-m)), m, j)\n",
    "        qc.h(j)\n",
    "    qc.name = \"QFT†\"\n",
    "    return qc"
   ]
  },
  {
   "cell_type": "code",
   "execution_count": 6,
   "id": "36be9acd",
   "metadata": {},
   "outputs": [],
   "source": [
    "def structure(y, N, qubits):\n",
    "\n",
    "    n = math.ceil(math.log(N,2))\n",
    "    control = QuantumRegister(2*n, 'r1')\n",
    "    target  = QuantumRegister(n, 't1')\n",
    "    classic = ClassicalRegister(2*n, 'c')\n",
    "\n",
    "    circuit = QuantumCircuit(control, target, classic)\n",
    "\n",
    "    size = len(qubits)\n",
    "    label = 0\n",
    "    circuit.append(SaveDensityMatrix(size, label = f'pho_%.1f' % (label)), [i for i in qubits])\n",
    "    #circuit.barrier(3*n - 1)\n",
    "\n",
    "    circuit.h(range(2*n))\n",
    "    circuit.x(2*n + n -1)\n",
    "\n",
    "    label += 1\n",
    "\n",
    "    circuit.append(SaveDensityMatrix(size, label = f'pho_%.1f' % (label)), [i for i in qubits])\n",
    "\n",
    "    for q in range(2*n):\n",
    "        label += 1\n",
    "        circuit.append(mod_exp(n, y, N, q), [q] + [i+2*n for i in range(n)]) \n",
    "        circuit.append(SaveDensityMatrix(size, label = f'pho_%.1f' % (label)), [i for i in qubits])\n",
    "\n",
    "    circuit.append(qft_dagger(2*n), range(2*n)) \n",
    "    label += 1\n",
    "    circuit.append(SaveDensityMatrix(size, label = f'pho_%.1f' % (label)), [i for i in qubits])\n",
    "\n",
    "\n",
    "    circuit.measure(control, classic)\n",
    "    label += 1\n",
    "    circuit.append(SaveDensityMatrix(size, label = f'pho_%.1f' % (label)), [i for i in qubits])\n",
    "    \n",
    "    return circuit"
   ]
  },
  {
   "cell_type": "code",
   "execution_count": 12,
   "id": "989a1cd2",
   "metadata": {
    "scrolled": true
   },
   "outputs": [
    {
     "name": "stdout",
     "output_type": "stream",
     "text": [
      "0\n",
      "1\n",
      "2\n",
      "3\n",
      "4\n",
      "5\n",
      "6\n",
      "7\n",
      "8\n",
      "9\n",
      "10\n",
      "11\n",
      "12\n",
      "13\n",
      "14\n",
      "15\n",
      "16\n",
      "17\n",
      "18\n",
      "19\n",
      "20\n",
      "21\n",
      "22\n",
      "23\n",
      "24\n",
      "25\n",
      "26\n",
      "27\n",
      "28\n",
      "29\n",
      "30\n",
      "31\n",
      "32\n",
      "33\n",
      "34\n",
      "35\n",
      "36\n",
      "37\n",
      "38\n",
      "39\n",
      "40\n",
      "41\n",
      "42\n",
      "43\n",
      "44\n",
      "45\n",
      "46\n",
      "47\n",
      "48\n",
      "49\n"
     ]
    }
   ],
   "source": [
    "runs = 50\n",
    "partition = 4\n",
    "y = 8\n",
    "N = 15\n",
    "rho_step = 11\n",
    "\n",
    "somma = np.zeros(rho_step)\n",
    "n = math.ceil(math.log(N,2))\n",
    "\n",
    "for j in range(runs): \n",
    "    qubit = random.sample(range(0, 2*n), partition)\n",
    "    print(j)\n",
    "    circuit = structure(y, N, qubit)\n",
    "    \n",
    "    aer_sim = Aer.get_backend('aer_simulator')\n",
    "    t_qc = transpile(circuit, aer_sim)\n",
    "    qobj = assemble(t_qc)                                \n",
    "    results = aer_sim.run(qobj, shots = 1).result()\n",
    "    counts = results.get_counts()\n",
    "\n",
    "    labels = []\n",
    "    for i in range(len(counts)):\n",
    "        labels.append(int(list(counts.keys())[i], 2))\n",
    "\n",
    "    negativities = []\n",
    "    for i in range(rho_step):\n",
    "        density_matrix = results.data()['pho_%.1f' % (i)]\n",
    "        #density_matrix_op = density_matrix.to_operator()\n",
    "        \n",
    "        #conjugate = density_matrix.transpose()#_op\n",
    "        #product = np.matmul(conjugate, density_matrix) #_op\n",
    "        #root = np.sqrt(product)\n",
    "        #norm = root.trace()\n",
    "        #negativities.append((norm- 1)/2)\n",
    "        negativities.append(qi.entropy(density_matrix))\n",
    "        #density_matrix_tr = density_matrix.transpose()\n",
    "        #negativities.append( (linalg.norm(density_matrix_tr, 1) - 1)/2 )\n",
    "        #negativities.append(- np.trace( np.matmul(density_matrix, np.log(density_matrix))))\n",
    "   \n",
    "    for i in range(len(negativities)):\n",
    "        somma[i] = somma[i] + negativities[i]\n",
    "\n",
    "    density_matrix = 0\n",
    "    negativities = 0\n",
    "    counts = 0\n",
    "    results = 0\n",
    "    circuit = 0\n",
    "    t_qc = 0\n",
    "    qobj = 0\n",
    "     \n",
    "#j += 1\n",
    "\n"
   ]
  },
  {
   "cell_type": "code",
   "execution_count": 13,
   "id": "2050d331",
   "metadata": {},
   "outputs": [
    {
     "data": {
      "text/plain": [
       "[<matplotlib.lines.Line2D at 0x212982751e0>]"
      ]
     },
     "execution_count": 13,
     "metadata": {},
     "output_type": "execute_result"
    },
    {
     "data": {
      "image/png": "[encoded data removed]",
      "text/plain": [
       "<Figure size 640x480 with 1 Axes>"
      ]
     },
     "metadata": {},
     "output_type": "display_data"
    }
   ],
   "source": [
    "plt.plot(somma/runs)"
   ]
  },
  {
   "cell_type": "code",
   "execution_count": 5,
   "id": "e69920e2",
   "metadata": {},
   "outputs": [
    {
     "data": {
      "text/plain": [
       "[<matplotlib.lines.Line2D at 0x19eb80d08e0>]"
      ]
     },
     "execution_count": 5,
     "metadata": {},
     "output_type": "execute_result"
    },
    {
     "data": {
      "image/png": "[encoded data removed]",
      "text/plain": [
       "<Figure size 1200x600 with 1 Axes>"
      ]
     },
     "metadata": {},
     "output_type": "display_data"
    }
   ],
   "source": [
    "import matplotlib.pyplot as plt\n",
    "plt.rc('figure', figsize=(12, 6))\n",
    "params = {'text.usetex' : True, 'font.size' : 20, 'font.family' : 'serif'}\n",
    "plt.rcParams.update(params)\n",
    "\n",
    "reps = 20\n",
    "media = [-8.992806499463768e-15, -1.8762769116165146e-14, 6.249999999983573, 9.74999999996751, 12.374999999946318, 14.187499999926523, 14.999999999910552, 15.874999999898876, 16.53124999989106, 17.12499999987014, 17.546874999857998, 17.812499999845123]\n",
    "xs = []\n",
    "#media = []\n",
    "#for i in range(len(somma)):\n",
    "#    media.append(-somma[i]/2)\n",
    "\n",
    "for i in range(len(media)):\n",
    "    media[i] = media[i]/reps\n",
    "    xs.append(i)\n",
    "\n",
    "plt.xticks(xs)\n",
    "#plt.yscale('log')\n",
    "plt.xlabel('Circuit Step')\n",
    "plt.ylabel(r\"$|N(\\rho)|$\")\n",
    "plt.plot(media, color = '#4C495A')\n",
    "#plt.savefig('shor_ent_partitions4.pdf', format = 'pdf')\n"
   ]
  },
  {
   "cell_type": "code",
   "execution_count": 1,
   "id": "c5971a7e",
   "metadata": {},
   "outputs": [
    {
     "ename": "NameError",
     "evalue": "name 'plt' is not defined",
     "output_type": "error",
     "traceback": [
      "\u001b[1;31m---------------------------------------------------------------------------\u001b[0m",
      "\u001b[1;31mNameError\u001b[0m                                 Traceback (most recent call last)",
      "\u001b[1;32mc:\\Users\\giuli\\Desktop\\tesi\\PYTHON\\ch3\\shor_ent_partitions.ipynb Cell 10\u001b[0m in \u001b[0;36m<cell line: 1>\u001b[1;34m()\u001b[0m\n\u001b[1;32m----> <a href='vscode-notebook-cell:/c%3A/Users/giuli/Desktop/tesi/PYTHON/ch3/shor_ent_partitions.ipynb#X12sZmlsZQ%3D%3D?line=0'>1</a>\u001b[0m plt\u001b[39m.\u001b[39mrc(\u001b[39m'\u001b[39m\u001b[39mfigure\u001b[39m\u001b[39m'\u001b[39m, figsize\u001b[39m=\u001b[39m(\u001b[39m12\u001b[39m, \u001b[39m6\u001b[39m))\n\u001b[0;32m      <a href='vscode-notebook-cell:/c%3A/Users/giuli/Desktop/tesi/PYTHON/ch3/shor_ent_partitions.ipynb#X12sZmlsZQ%3D%3D?line=1'>2</a>\u001b[0m params \u001b[39m=\u001b[39m {\u001b[39m'\u001b[39m\u001b[39mtext.usetex\u001b[39m\u001b[39m'\u001b[39m : \u001b[39mTrue\u001b[39;00m, \u001b[39m'\u001b[39m\u001b[39mfont.size\u001b[39m\u001b[39m'\u001b[39m : \u001b[39m20\u001b[39m, \u001b[39m'\u001b[39m\u001b[39mfont.family\u001b[39m\u001b[39m'\u001b[39m : \u001b[39m'\u001b[39m\u001b[39mserif\u001b[39m\u001b[39m'\u001b[39m}\n\u001b[0;32m      <a href='vscode-notebook-cell:/c%3A/Users/giuli/Desktop/tesi/PYTHON/ch3/shor_ent_partitions.ipynb#X12sZmlsZQ%3D%3D?line=2'>3</a>\u001b[0m plt\u001b[39m.\u001b[39mrcParams\u001b[39m.\u001b[39mupdate(params)\n",
      "\u001b[1;31mNameError\u001b[0m: name 'plt' is not defined"
     ]
    }
   ],
   "source": [
    "plt.rc('figure', figsize=(12, 6))\n",
    "params = {'text.usetex' : True, 'font.size' : 20, 'font.family' : 'serif'}\n",
    "plt.rcParams.update(params)\n",
    "import seaborn as sns\n",
    "\n",
    "\n",
    "colors = ['#815355','#523249','#C3B299'  ]\n",
    "cmap = plt.get_cmap(\"twilight\")\n",
    "df = pd.DataFrame({\"media_20shots_N21_y4_size3\": [-8.992806499463768e-15, -1.8762769116165146e-14, 6.249999999983573, 9.74999999996751, 12.374999999946318, 14.187499999926523, 14.999999999910552, 15.874999999898876, 16.53124999989106, 17.12499999987014, 17.546874999857998, 17.812499999845123],\n",
    "                   \"media_20shots_N21_y4_size5\" : [-7.66053886991358e-15, -1.509903313490213e-14, 5.249999999986203, 8.74999999997014, 10.624999999953683, 12.187499999938273, 12.99999999992287, 13.812499999912593, 14.343749999907985, 14.812499999889386, 15.171874999877737, 15.312499999866038],\n",
    "                   \"media_20shots_N21_y4_size4\" : [-3.9968028886505635e-15, -9.2148511043888e-15, 2.999999999992106, 4.499999999985563, 5.749999999974862, 6.812499999964368, 7.24999999995721, 7.7499999999493445, 8.062499999946658, 8.499999999934833, 8.749999999929294, 8.749999999920806]\n",
    "                  })\n",
    "x = df.index\n",
    "for i, col in enumerate(df.columns):\n",
    "    plt.plot(x, df[col]/20, color=colors[i], label=col)\n",
    "\n",
    "plt.xticks(xs)\n",
    "plt.ylabel(r\"$|N(\\rho)|$\")\n",
    "plt.xlabel('Circuit Step')\n",
    "plt.yscale('log')\n",
    "legend = plt.legend(['m = 5','m = 4', 'm = 3'])\n",
    "cm = sns.light_palette(\"green\", as_cmap=True)\n",
    "s = df.style.background_gradient(cmap=cm)\n",
    "\n",
    "plt.savefig('shor_ent_partitions_sizes.pdf', format = 'pdf')\n",
    "\n"
   ]
  }
 ],
 "metadata": {
  "kernelspec": {
   "display_name": "Python 3 (ipykernel)",
   "language": "python",
   "name": "python3"
  },
  "language_info": {
   "codemirror_mode": {
    "name": "ipython",
    "version": 3
   },
   "file_extension": ".py",
   "mimetype": "text/x-python",
   "name": "python",
   "nbconvert_exporter": "python",
   "pygments_lexer": "ipython3",
   "version": "3.10.6"
  }
 },
 "nbformat": 4,
 "nbformat_minor": 5
}
