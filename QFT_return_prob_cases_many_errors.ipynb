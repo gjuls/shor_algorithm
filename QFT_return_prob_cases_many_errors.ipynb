{
 "cells": [
  {
   "cell_type": "code",
   "execution_count": null,
   "id": "82353880",
   "metadata": {},
   "outputs": [],
   "source": [
    "###########################\n",
    "#Noise QFT\n",
    "#search for the return probabilities, calculate stability of each case \n",
    "#with more than one error\n",
    "###########################"
   ]
  },
  {
   "cell_type": "code",
   "execution_count": 135,
   "id": "b2738943",
   "metadata": {},
   "outputs": [],
   "source": [
    "from qiskit import QuantumCircuit, QuantumRegister, ClassicalRegister\n",
    "from qiskit.quantum_info import Statevector\n",
    "from qiskit import QuantumCircuit, execute\n",
    "from qiskit.providers.aer import QasmSimulator\n",
    "from qiskit.extensions import UnitaryGate\n",
    "from qiskit.quantum_info.operators import Operator\n",
    "from qiskit import execute, transpile, assemble\n",
    "from qiskit import Aer\n",
    "from qiskit.visualization import plot_state_city\n",
    "from qiskit.visualization import plot_histogram\n",
    "from sympy import factorint\n",
    "from fractions import Fraction\n",
    "from numpy import linalg\n",
    "import pandas as pd\n",
    "import numpy as np\n",
    "from numpy import pi\n",
    "from sympy import *\n",
    "import random\n",
    "import math\n",
    "\n",
    "import qiskit.quantum_info as qi\n",
    "from qiskit.visualization import array_to_latex\n",
    "from qiskit.providers.aer.library import SaveDensityMatrix\n",
    "\n",
    "from qiskit.quantum_info import Statevector"
   ]
  },
  {
   "cell_type": "code",
   "execution_count": 136,
   "id": "3bab5d18",
   "metadata": {},
   "outputs": [],
   "source": [
    "import matplotlib.pyplot as plt\n",
    "plt.rc('figure', figsize=(16, 6))"
   ]
  },
  {
   "cell_type": "code",
   "execution_count": 137,
   "id": "df05fff2",
   "metadata": {},
   "outputs": [],
   "source": [
    "def qft_rotations(circuit, n, n_max,  case, position):\n",
    "    tmp = n_max - case\n",
    "    \n",
    "    if n == 0:\n",
    "        return circuit\n",
    "    n -= 1    \n",
    "\n",
    "    if n  == tmp:\n",
    "        errori(circuit, position, n)  \n",
    "    \n",
    "    circuit.h(n)   \n",
    "    \n",
    "    for qubit in range(n):\n",
    "        circuit.cp(np.pi/2**(n-qubit), qubit, n)\n",
    "\n",
    "    qft_rotations(circuit, n, n_max, case, position)"
   ]
  },
  {
   "cell_type": "code",
   "execution_count": 138,
   "id": "77655bc8",
   "metadata": {},
   "outputs": [],
   "source": [
    "def swap_registers(circuit, n):\n",
    "    \n",
    "    for qubit in range(n//2):\n",
    "        circuit.swap(qubit, n-qubit-1)"
   ]
  },
  {
   "cell_type": "code",
   "execution_count": 139,
   "id": "331c9f2a",
   "metadata": {},
   "outputs": [],
   "source": [
    "def errori(circuit, position, n):\n",
    "    epsilon = 0.5                                #probability p of x error, 1-p prob. of z error                         \n",
    "    extracted = random.uniform(0, 1)\n",
    "    \n",
    "    if (extracted < epsilon):    \n",
    "        circuit.x(position)   \n",
    "        #flag = 0\n",
    "        circuit.barrier(range(n))\n",
    "    else:\n",
    "        circuit.z(position)\n",
    "        #flag = 1\n",
    "        circuit.barrier(range(n))\n",
    "    return circuit"
   ]
  },
  {
   "cell_type": "code",
   "execution_count": 140,
   "id": "70a4d53f",
   "metadata": {},
   "outputs": [],
   "source": [
    "def qft(circuit, n, n_max, case, position):\n",
    "    if case == 1:\n",
    "        errori(circuit, position, n) \n",
    "\n",
    "    qft_rotations(circuit, n, n_max, case, position)\n",
    "\n",
    "    if case == n + 1:\n",
    "        errori(circuit, position, n)\n",
    "    \n",
    "    swap_registers(circuit, n)    \n",
    "\n",
    "    if case == n + 2:\n",
    "        errori(circuit, position , n)\n",
    "        \n",
    "    if case == 0:\n",
    "        pass\n",
    "        \n",
    "    if case > n + 2:\n",
    "        print('Error: case value incorrect')\n",
    "    return circuit"
   ]
  },
  {
   "cell_type": "code",
   "execution_count": 141,
   "id": "d7f5f26e",
   "metadata": {},
   "outputs": [],
   "source": [
    "def split_circuit_by_barrier(circuit):\n",
    "    qasm = circuit.qasm()\n",
    "    prelude = []\n",
    "    circuits = [[]]\n",
    "    for line in qasm.splitlines():\n",
    "        if any([line.startswith(t) for t in ['OPENQASM', 'include', 'qreg', 'creg']]):\n",
    "            prelude.append(line)\n",
    "        elif line.startswith('barrier'):\n",
    "            break\n",
    "            circuits.append([])\n",
    "        else:\n",
    "            circuits[-1].append(line)\n",
    "    circuits_with_prelude = [prelude+circuit for circuit in circuits]\n",
    "    for circuit_with_prelude in circuits_with_prelude:\n",
    "        yield QuantumCircuit.from_qasm_str('\\n'.join(circuit_with_prelude))"
   ]
  },
  {
   "cell_type": "code",
   "execution_count": 142,
   "id": "d750b7bc",
   "metadata": {},
   "outputs": [],
   "source": [
    "def split_circuit_by_error(circuit):\n",
    "    qasm = circuit.qasm()\n",
    "    prelude = []\n",
    "    circuits = [[]]\n",
    "    \n",
    "    for line in qasm.splitlines():\n",
    "        if any([line.startswith(t) for t in ['OPENQASM', 'include', 'qreg', 'creg']]):\n",
    "            prelude.append(line)\n",
    "        elif line.startswith('z'):\n",
    "            break\n",
    "        elif line.startswith('x'):\n",
    "            break\n",
    "            circuits.append([])\n",
    "        else:\n",
    "            circuits[-1].append(line)\n",
    "    circuits_with_prelude = [prelude+circuit for circuit in circuits]\n",
    "    for circuit_with_prelude in circuits_with_prelude:\n",
    "        yield QuantumCircuit.from_qasm_str('\\n'.join(circuit_with_prelude))\n"
   ]
  },
  {
   "cell_type": "code",
   "execution_count": 150,
   "id": "8d4d1b24",
   "metadata": {},
   "outputs": [],
   "source": [
    "n = 4\n",
    "\n",
    "#Each line contains the results of the aplitude for each state of the complete basis\n",
    "amplitudes = np.empty((n + 3, n))\n",
    "x = []\n",
    "plot = []\n",
    "#change case (0, n + 2) and position (0,n - 1), case = 0 means no errors\n",
    "\n",
    "for reps in range(25):\n",
    "    for case in range(0, n + 3):\n",
    "        for position in range(n):\n",
    "\n",
    "            #print(case, position)\n",
    "            control = QuantumRegister(n, 'r1')\n",
    "            circuit = QuantumCircuit(control)\n",
    "\n",
    "            qft(circuit, n, n, case, position) \n",
    "\n",
    "            for subcircuit in (split_circuit_by_barrier(circuit)):\n",
    "                circuit_right = subcircuit\n",
    "\n",
    "            for subcircuit in (split_circuit_by_error(circuit)):\n",
    "                circuit_left = subcircuit\n",
    "\n",
    "            circuit_right = circuit_right.inverse()\n",
    "\n",
    "\n",
    "            merge = circuit_left.compose(circuit_right)\n",
    "            #merge.draw('mpl',  fold = -1, scale = 0.5)\n",
    "\n",
    "            backend = Aer.get_backend('unitary_simulator')\n",
    "            job = execute(merge, backend, shots = 8192)\n",
    "            result = job.result()\n",
    "            UeU = result.get_unitary(merge,3)\n",
    "            #print(UeU)\n",
    "\n",
    "            #Ciclo sugli stati iniziali\n",
    "            summa_states = 0\n",
    "            for iii in range(2**n):   \n",
    "\n",
    "                label = bin(iii).lstrip('-0b').zfill(n)\n",
    "                #print(label)\n",
    "                #create list of label for plot\n",
    "                if case == 0:\n",
    "                    x.append(label)\n",
    "\n",
    "                state = Statevector.from_label(label)\n",
    "                summa_states = summa_states + (state.evolve(UeU)[label]**2).real\n",
    "                iii += 1\n",
    "                state = 0\n",
    "                amplitudes[case][position] = summa_states\n",
    "            merge = 0\n",
    "            result = 0\n",
    "            circuit = 0\n",
    "            UeU = 0\n",
    "\n",
    "    #print(amplitudes.sum(axis = 1)/(n*(2**n)))\n",
    "    plot.append(amplitudes.sum(axis = 1)/(n*(2**n)))\n",
    "    reps += 1"
   ]
  },
  {
   "cell_type": "code",
   "execution_count": 151,
   "id": "118b269a",
   "metadata": {},
   "outputs": [],
   "source": [
    "media = np.empty(n + 3)\n",
    "\n",
    "for i in range(0, n + 3):\n",
    "    for ii in range(reps):\n",
    "        media[i] = media[i] + plot[ii][i]\n",
    "    media[i] = media[i]/reps"
   ]
  },
  {
   "cell_type": "code",
   "execution_count": 152,
   "id": "10b12fd8",
   "metadata": {},
   "outputs": [
    {
     "data": {
      "text/plain": [
       "array([3.56      , 0.55      , 1.39506358, 0.99000539, 1.35005836,\n",
       "       0.91005444, 1.30500042])"
      ]
     },
     "execution_count": 152,
     "metadata": {},
     "output_type": "execute_result"
    }
   ],
   "source": [
    "media"
   ]
  },
  {
   "cell_type": "code",
   "execution_count": 154,
   "id": "7b6d4140",
   "metadata": {},
   "outputs": [
    {
     "data": {
      "image/png": "[encoded data removed]",
      "text/plain": [
       "<Figure size 1600x600 with 1 Axes>"
      ]
     },
     "metadata": {},
     "output_type": "display_data"
    }
   ],
   "source": [
    "plt.xlabel('Cases')\n",
    "plt.ylabel('Mean Amplitudes')\n",
    "plt.title('Mean amplitude for each case for single error')\n",
    "plt.plot(media)\n",
    "plt.savefig('cases_single_error.pdf', format = 'pdf') "
   ]
  },
  {
   "cell_type": "code",
   "execution_count": null,
   "id": "fa8ff544",
   "metadata": {},
   "outputs": [],
   "source": []
  }
 ],
 "metadata": {
  "kernelspec": {
   "display_name": "Python 3 (ipykernel)",
   "language": "python",
   "name": "python3"
  },
  "language_info": {
   "codemirror_mode": {
    "name": "ipython",
    "version": 3
   },
   "file_extension": ".py",
   "mimetype": "text/x-python",
   "name": "python",
   "nbconvert_exporter": "python",
   "pygments_lexer": "ipython3",
   "version": "3.10.6"
  }
 },
 "nbformat": 4,
 "nbformat_minor": 5
}
