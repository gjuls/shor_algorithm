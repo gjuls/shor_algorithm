{
 "cells": [
  {
   "cell_type": "code",
   "execution_count": 1,
   "id": "b2738943",
   "metadata": {},
   "outputs": [],
   "source": [
    "from qiskit import QuantumCircuit, QuantumRegister, ClassicalRegister\n",
    "from qiskit.extensions import UnitaryGate\n",
    "from qiskit.quantum_info.operators import Operator\n",
    "from qiskit import execute, transpile, assemble\n",
    "from qiskit import Aer\n",
    "from qiskit.visualization import plot_histogram\n",
    "from sympy import factorint\n",
    "from numpy import linalg\n",
    "import numpy as np\n",
    "from numpy import pi\n",
    "from sympy import *\n",
    "import random\n",
    "from random import sample\n",
    "import math\n",
    "\n",
    "import qiskit.quantum_info as qi\n",
    "from qiskit.visualization import array_to_latex\n",
    "from qiskit.providers.aer.library import SaveDensityMatrix"
   ]
  },
  {
   "cell_type": "code",
   "execution_count": 9,
   "id": "3bab5d18",
   "metadata": {},
   "outputs": [],
   "source": [
    "import matplotlib as mpl\n",
    "import matplotlib.pyplot as plt"
   ]
  },
  {
   "cell_type": "code",
   "execution_count": 2,
   "id": "b442ee69",
   "metadata": {},
   "outputs": [],
   "source": [
    "def check(number):\n",
    "    if number % 2 == 0:\n",
    "        print(\"Even, 2 is a divisor\")\n",
    "        return\n",
    "        \n",
    "    if isprime(number) == True:\n",
    "        print(\"Prime number\")\n",
    "        return\n",
    "    \n",
    "    factorization = factorint(number)\n",
    "    for i in range(len(factorization.keys())):\n",
    "        p = list(factorization)[i]\n",
    "        q = list(factorization.values())[i]\n",
    "        if isprime(p) and q != 1:\n",
    "            print(\"Prime Power: %i^%i, %i is a divisor\" % ( p, q, p))\n",
    "            return\n",
    "    \n",
    "    y = random.randrange(2, number - 1)\n",
    "    a = math.gcd(y, number)\n",
    "    if a > 1:\n",
    "        print(\"Divisor: a = %i\" %(a))\n",
    "        return y\n",
    "        \n",
    "    else:\n",
    "        print(\"y = %i and N = %i are coprime - r well defined\" %  (y, N))\n",
    "        return \n",
    "    "
   ]
  },
  {
   "cell_type": "code",
   "execution_count": 3,
   "id": "66daa3c8",
   "metadata": {},
   "outputs": [],
   "source": [
    "def mod_exp(n, y, N, power):\n",
    "    dim = 2**n\n",
    "    matrix = np.zeros((dim, dim))\n",
    "    \n",
    "    for i in range(N):\n",
    "        j = (i*y)%N\n",
    "        matrix[j][i]=1\n",
    "             \n",
    "    for ii in range(N, dim):\n",
    "        matrix[ii][ii] = 1\n",
    "             \n",
    "    matrix = linalg.matrix_power(matrix, 2**power) #possibly dimezzare op. number\n",
    "        \n",
    "    U = UnitaryGate(matrix)\n",
    "    \n",
    "    U.name = \"%i^%i mod %i\" % ( y, 2**power, N)\n",
    "    c_U = U.control()\n",
    "    return c_U"
   ]
  },
  {
   "cell_type": "code",
   "execution_count": 4,
   "id": "df05fff2",
   "metadata": {},
   "outputs": [],
   "source": [
    "def qft_dagger(n):\n",
    "    qc = QuantumCircuit(n)\n",
    "\n",
    "    for qubit in range(n//2):\n",
    "        qc.swap(qubit, n-qubit-1)\n",
    "    for j in range(n):\n",
    "        for m in range(j):\n",
    "            qc.cp(-np.pi/float(2**(j-m)), m, j)\n",
    "        qc.h(j)\n",
    "    qc.name = \"QFT†\"\n",
    "    return qc"
   ]
  },
  {
   "cell_type": "code",
   "execution_count": 6,
   "id": "36be9acd",
   "metadata": {},
   "outputs": [],
   "source": [
    "#CIRCUIT CONSTRUCTION\n",
    "def structure(y, N, qubits):\n",
    "\n",
    "    n = math.ceil(math.log(N,2))\n",
    "    control = QuantumRegister(2*n, 'r1')\n",
    "    target  = QuantumRegister(n, 't1')\n",
    "    classic = ClassicalRegister(2*n, 'c')\n",
    "\n",
    "    circuit = QuantumCircuit(control, target, classic)\n",
    "\n",
    "    size = len(qubits)\n",
    "    label = 0\n",
    "    circuit.append(SaveDensityMatrix(size, label = f'pho_%.1f' % (label)), [i for i in qubits])\n",
    "    circuit.barrier(3*n - 1)\n",
    "\n",
    "    circuit.h(range(2*n))\n",
    "    circuit.x(2*n + n -1)\n",
    "\n",
    "    label += 1\n",
    "\n",
    "    circuit.append(SaveDensityMatrix(size, label = f'pho_%.1f' % (label)), [i for i in qubits])\n",
    "\n",
    "    for q in range(2*n):\n",
    "        label += 1\n",
    "        circuit.append(mod_exp(n, y, N, q), [q] + [i+2*n for i in range(n)]) \n",
    "        circuit.append(SaveDensityMatrix(size, label = f'pho_%.1f' % (label)), [i for i in qubits])\n",
    "\n",
    "    circuit.append(qft_dagger(2*n), range(2*n)) \n",
    "    label += 1\n",
    "    circuit.append(SaveDensityMatrix(size, label = f'pho_%.1f' % (label)), [i for i in qubits])\n",
    "\n",
    "\n",
    "    circuit.measure(control, classic)\n",
    "    label += 1\n",
    "    circuit.append(SaveDensityMatrix(size, label = f'pho_%.1f' % (label)), [i for i in qubits])\n",
    "    return circuit"
   ]
  },
  {
   "cell_type": "code",
   "execution_count": 29,
   "id": "989a1cd2",
   "metadata": {
    "scrolled": false
   },
   "outputs": [
    {
     "name": "stdout",
     "output_type": "stream",
     "text": [
      "[6, 5, 3, 0]\n",
      "[2.220446049250313e-16, 4.440892098500626e-16, -0.4999999999997522, -0.4999999999997522, -0.4999999999997522, -0.4999999999997522, -0.4999999999997522, -0.4999999999997522, -0.4999999999997522, -0.4999999999997522, -0.4999999999997794, -2.220446049250313e-16]\n"
     ]
    }
   ],
   "source": [
    "#INDICATE HOW MANY SIMULATions\n",
    "runs = 1\n",
    "#INDICATE DIMENSION OF\n",
    "#PARTITION TO CONSIDER\n",
    "partition = 4\n",
    "#SET PARAMETERS\n",
    "#co-prime numbers\n",
    "y = 8\n",
    "N = 15\n",
    "#number of rhos to consider +1!\n",
    "rho_step = 12\n",
    "somma = [0]*int(rho_step)\n",
    "\n",
    "for j in range(runs):\n",
    "    n = math.ceil(math.log(N,2))\n",
    "    qubit = random.sample(range(0, 2*n), partition)\n",
    "    print(qubit)\n",
    "    circuit = structure(y, N, qubit)\n",
    "    \n",
    "    aer_sim = Aer.get_backend('aer_simulator')\n",
    "    t_qc = transpile(circuit, aer_sim)\n",
    "    qobj = assemble(t_qc)                                \n",
    "    results = aer_sim.run(qobj, shots = 1).result()\n",
    "\n",
    "    counts = results.get_counts()\n",
    "\n",
    "    labels = []\n",
    "    for i in range(len(counts)):\n",
    "        labels.append(int(list(counts.keys())[i], 2))\n",
    "\n",
    "    negativities = []\n",
    "    for i in range(rho_step):\n",
    "        density_matrix = results.data()['pho_%.1f' % (i)]\n",
    "        density_matrix_op = density_matrix.to_operator()\n",
    "        density_matrix_tr = density_matrix_op.transpose()\n",
    "        negativities.append( linalg.norm(density_matrix_tr, 1) - 1 )\n",
    "        \n",
    "    print(negativities)\n",
    "    for i in range(len(negativities)):\n",
    "        somma[i] = somma[i] + negativities[i]\n",
    "    \n",
    "    negativities = 0\n",
    "    counts = 0\n",
    "    results = 0\n",
    "    density_matrix = 0\n",
    "    circuit = 0\n",
    "    t_qc = 0\n",
    "    qobj = 0\n",
    "    \n",
    "j += 1"
   ]
  },
  {
   "cell_type": "code",
   "execution_count": 30,
   "id": "e69920e2",
   "metadata": {},
   "outputs": [
    {
     "data": {
      "image/png": "[encoded data removed]",
      "text/plain": [
       "<Figure size 640x480 with 1 Axes>"
      ]
     },
     "metadata": {},
     "output_type": "display_data"
    }
   ],
   "source": [
    "media = []\n",
    "for i in range(len(somma)):\n",
    "    media.append(-somma[i]/2)\n",
    "\n",
    "plt.xlabel('Step')\n",
    "plt.title('Mean Negativity')\n",
    "plt.plot(media)\n",
    "plt.savefig('neg.pdf', format = 'pdf')"
   ]
  },
  {
   "cell_type": "code",
   "execution_count": 14,
   "id": "adde8772",
   "metadata": {},
   "outputs": [
    {
     "name": "stdout",
     "output_type": "stream",
     "text": [
      "            Register Output         Phase\n",
      "0  00000000(bin) =   0(dec)  0/256 = 0.00\n"
     ]
    }
   ],
   "source": [
    "import pandas as pd\n",
    "\n",
    "n_count = 2*n\n",
    "rows, measured_phases = [], []\n",
    "\n",
    "for output in counts:\n",
    "    decimal = int(output, 2)                       # Convert (base 2) string to decimal\n",
    "    phase = decimal/(2**n_count)                   # Find corresponding eigenvalue\n",
    "    measured_phases.append(phase)\n",
    "                                                   # Add these values to the rows in our table:\n",
    "    rows.append([f\"{output}(bin) = {decimal:>3}(dec)\", \n",
    "                 f\"{decimal}/{2**n_count} = {phase:.2f}\"])\n",
    "                                                   # Print the rows in a table\n",
    "headers=[\"Register Output\", \"Phase\"]\n",
    "df = pd.DataFrame(rows, columns=headers)\n",
    "print(df)"
   ]
  },
  {
   "cell_type": "code",
   "execution_count": 15,
   "id": "23fa3866",
   "metadata": {},
   "outputs": [
    {
     "name": "stdout",
     "output_type": "stream",
     "text": [
      "   Phase Fraction  Guess for r\n",
      "0    0.0      0/1            1\n"
     ]
    }
   ],
   "source": [
    "from fractions import Fraction\n",
    "\n",
    "rows = []\n",
    "period = []\n",
    "\n",
    "for phase in measured_phases:\n",
    "    frac = Fraction(phase).limit_denominator(15)\n",
    "    rows.append([phase, f\"{frac.numerator}/{frac.denominator}\", frac.denominator])\n",
    "    period.append(frac.denominator)\n",
    "\n",
    "headers=[\"Phase\", \"Fraction\", \"Guess for r\"]\n",
    "df = pd.DataFrame(rows, columns=headers)\n",
    "print(df)"
   ]
  },
  {
   "cell_type": "code",
   "execution_count": 16,
   "id": "c9be79c5",
   "metadata": {},
   "outputs": [
    {
     "name": "stdout",
     "output_type": "stream",
     "text": [
      "[15, 1]\n"
     ]
    }
   ],
   "source": [
    "r = max(period)\n",
    "\n",
    "guesses = [gcd(y**(r//2)-1, N), gcd(y**(r//2)+1, N)]\n",
    "print(guesses)"
   ]
  },
  {
   "cell_type": "markdown",
   "id": "80022b7e",
   "metadata": {},
   "source": [
    " "
   ]
  }
 ],
 "metadata": {
  "kernelspec": {
   "display_name": "Python 3 (ipykernel)",
   "language": "python",
   "name": "python3"
  },
  "language_info": {
   "codemirror_mode": {
    "name": "ipython",
    "version": 3
   },
   "file_extension": ".py",
   "mimetype": "text/x-python",
   "name": "python",
   "nbconvert_exporter": "python",
   "pygments_lexer": "ipython3",
   "version": "3.10.6"
  }
 },
 "nbformat": 4,
 "nbformat_minor": 5
}
