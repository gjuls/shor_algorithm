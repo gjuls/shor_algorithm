{
 "cells": [
  {
   "cell_type": "markdown",
   "id": "cbad737a",
   "metadata": {},
   "source": [
    "# SHOR with multiple errors (random pos.)\n"
   ]
  },
  {
   "cell_type": "code",
   "execution_count": 3,
   "id": "b2738943",
   "metadata": {},
   "outputs": [],
   "source": [
    "import qiskit.quantum_info as qi\n",
    "from qiskit import Aer\n",
    "from qiskit import execute, transpile, assemble\n",
    "from qiskit import QuantumCircuit, QuantumRegister, ClassicalRegister\n",
    "from qiskit import QuantumCircuit, execute\n",
    "from qiskit.providers.aer import QasmSimulator\n",
    "from qiskit.extensions import UnitaryGate\n",
    "from qiskit.quantum_info.operators import Operator\n",
    "from qiskit.visualization import plot_state_city\n",
    "from qiskit.visualization import plot_histogram\n",
    "from qiskit.visualization import array_to_latex\n",
    "from qiskit.providers.aer.library import SaveDensityMatrix\n",
    "from qiskit.quantum_info import Statevector\n",
    "import numpy as np\n",
    "from numpy import linalg\n",
    "from numpy import pi\n",
    "from sympy import *\n",
    "from sympy import factorint\n",
    "from fractions import Fraction\n",
    "import pandas as pd\n",
    "import random\n",
    "import math\n",
    "import matplotlib.pyplot as plt\n",
    "import pickle\n",
    "#plt.rc('figure', figsize=(16, 6))"
   ]
  },
  {
   "cell_type": "code",
   "execution_count": 4,
   "id": "b442ee69",
   "metadata": {},
   "outputs": [],
   "source": [
    "def check(number):\n",
    "    if number % 2 == 0:\n",
    "        print(\"Even, 2 is a divisor\")\n",
    "        return\n",
    "        \n",
    "    if isprime(number) == True:\n",
    "        print(\"Prime number\")\n",
    "        return\n",
    "    \n",
    "    factorization = factorint(number)\n",
    "    for i in range(len(factorization.keys())):\n",
    "        p = list(factorization)[i]\n",
    "        q = list(factorization.values())[i]\n",
    "        if isprime(p) and q != 1:\n",
    "            print(\"Prime Power: %i^%i, %i is a divisor\" % ( p, q, p))\n",
    "            return\n",
    "    \n",
    "    y = random.randrange(2, number - 1)\n",
    "    a = math.gcd(y, number)\n",
    "    if a > 1:\n",
    "        print(\"Divisor: a = %i\" %(a))\n",
    "        return \n",
    "        \n",
    "    else:\n",
    "        print(\"y = %i and N = %i are coprime - r well defined\" %  (y, N))\n",
    "        return \n",
    "    "
   ]
  },
  {
   "cell_type": "code",
   "execution_count": 5,
   "id": "85f57366",
   "metadata": {},
   "outputs": [],
   "source": [
    "def mod_exp(n, y, N, power):\n",
    "    dim = 2**n\n",
    "    matrix_0 = np.zeros((dim, dim))\n",
    "    \n",
    "    for i in range(N):\n",
    "        j = (i*y)%N\n",
    "        matrix_0[j][i]=1\n",
    "             \n",
    "    for ii in range(N, dim):\n",
    "        matrix_0[ii][ii] = 1\n",
    "             \n",
    "    temp = matrix_0\n",
    "    for iii in range(power):\n",
    "        matrix = np.dot(temp, temp)\n",
    "        temp = matrix\n",
    "        \n",
    "    U = UnitaryGate(temp)\n",
    "    \n",
    "    U.name = \"%i^%i mod %i\" % ( y, 2**power, N)\n",
    "    c_U = U.control()\n",
    "    return c_U"
   ]
  },
  {
   "cell_type": "code",
   "execution_count": 6,
   "id": "df05fff2",
   "metadata": {},
   "outputs": [],
   "source": [
    "def qft_rotations(circuit, n, n_max,  case, position):\n",
    "    tmp = n_max - case \n",
    "    if n == 0:\n",
    "        return circuit\n",
    "    n -= 1    \n",
    "\n",
    "    if n  >=  tmp:   \n",
    "        errori(circuit, position, n_max) \n",
    "        if n == tmp: \n",
    "            circuit.id(position)    \n",
    "    circuit.h(n)   \n",
    "    \n",
    "    for qubit in range(n):\n",
    "        circuit.cp(np.pi/2**(n-qubit), qubit, n)\n",
    "\n",
    "    qft_rotations(circuit, n, n_max, case, position)"
   ]
  },
  {
   "cell_type": "code",
   "execution_count": 7,
   "id": "77655bc8",
   "metadata": {},
   "outputs": [],
   "source": [
    "def swap_registers(circuit, n):\n",
    "    \n",
    "    for qubit in range(n//2):\n",
    "        circuit.swap(qubit, n-qubit-1)"
   ]
  },
  {
   "cell_type": "markdown",
   "id": "51560c2e",
   "metadata": {},
   "source": [
    "## Error routine"
   ]
  },
  {
   "cell_type": "code",
   "execution_count": 8,
   "id": "331c9f2a",
   "metadata": {},
   "outputs": [],
   "source": [
    "def errori(circuit, position, n):\n",
    "    epsilon = 0.5                                                \n",
    "    extracted = random.uniform(0, 1)\n",
    "    position = random.randint(0, n)\n",
    "    \n",
    "    if (extracted < epsilon):  \n",
    "        circuit.x(position)   \n",
    "    else:\n",
    "        circuit.z(position)\n",
    "    return circuit                           "
   ]
  },
  {
   "cell_type": "code",
   "execution_count": 9,
   "id": "70a4d53f",
   "metadata": {},
   "outputs": [],
   "source": [
    "def qft(circuit, n, n_max, case, position):\n",
    "    qft_rotations(circuit, n, n_max, case, position)\n",
    "\n",
    "    if case >= n + 1:\n",
    "        errori(circuit, position, n_max)\n",
    "        if case == n + 1:\n",
    "            circuit.id(position)\n",
    "        \n",
    "    swap_registers(circuit, n)    \n",
    "\n",
    "    if case >= n + 2:\n",
    "        errori(circuit, position , n_max)\n",
    "        if case == n + 2:\n",
    "            circuit.id(position)\n",
    "        \n",
    "    if case >= 0:\n",
    "        pass\n",
    "        \n",
    "    if case > n + 2:\n",
    "        print('Error: case value incorrect')\n",
    "    return circuit"
   ]
  },
  {
   "cell_type": "code",
   "execution_count": 11,
   "id": "ecf941cf",
   "metadata": {},
   "outputs": [],
   "source": [
    "y = 2\n",
    "N = 15\n",
    "repetitions = 150\n",
    "\n",
    "plot = []\n",
    "n = math.ceil(math.log(N,2))\n",
    "\n",
    "for rep in range(repetitions):\n",
    "    case = 2 #random.randint(0, n+2 + 1)\n",
    "    position = random.randint(0, 2*n)\n",
    "    \n",
    "    control = QuantumRegister(2*n, 'r1')\n",
    "    target  = QuantumRegister(n, 't1')\n",
    "    classic = ClassicalRegister(2*n, 'c')\n",
    "    circuit = QuantumCircuit(control, target, classic)\n",
    "    circuit.h(range(2*n))\n",
    "    circuit.x(2*n + n -1)\n",
    "\n",
    "    for q in range(2*n):\n",
    "        circuit.append(mod_exp(n, y, N, q),     \n",
    "                 [q] + [i+2*n for i in range(n)])    \n",
    "    circuit.save_density_matrix()\n",
    "\n",
    "    qft(circuit, n, n, case, position) \n",
    "    circuit.measure(range(2*n), range(2*n))        \n",
    "\n",
    "    aer_sim = Aer.get_backend('aer_simulator')\n",
    "    t_qc = transpile(circuit, aer_sim)\n",
    "    qobj = assemble(t_qc)                             \n",
    "    results = aer_sim.run(qobj,shots = 1).result()          \n",
    "\n",
    "    counts = results.get_counts()\n",
    "    density_matrix = results.data().get('density_matrix')\n",
    "    labels = []\n",
    "    for i in range(len(counts)):\n",
    "        labels.append(   int(list(counts.keys())[i], 2 )   )\n",
    "    new_counts = dict(zip(labels,list(counts.values()) ))\n",
    "    density_matrix = np.asarray(density_matrix)\n",
    "\n",
    "    n_count = 2*n\n",
    "    rows, measured_phases = [], []\n",
    "    for output in counts:\n",
    "        decimal = int(output, 2)                       \n",
    "        phase = decimal/(2**n_count)                   \n",
    "        measured_phases.append(phase)\n",
    "                                                       \n",
    "        rows.append([f\"{output}(bin) = {decimal:>3}(dec)\", \n",
    "                     f\"{decimal}/{2**n_count} = {phase:.2f}\"])                                                      \n",
    "    headers=[\"Register Output\", \"Phase\"]\n",
    "    df = pd.DataFrame(rows, columns=headers)\n",
    "\n",
    "    rows = []\n",
    "    period = []\n",
    "    for phase in measured_phases:\n",
    "        frac = Fraction(phase).limit_denominator(15)\n",
    "        rows.append([phase, f\"{frac.numerator}/{frac.denominator}\", frac.denominator])\n",
    "        period.append(frac.denominator)\n",
    "\n",
    "    headers=[\"Phase\", \"Fraction\", \"Guess for r\"]\n",
    "    df = pd.DataFrame(rows, columns=headers)\n",
    "\n",
    "    r = max(period)\n",
    "    guesses = [gcd(y**(r//2)-1, N), gcd(y**(r//2)+1, N)]\n",
    "    plot.append(guesses)\n",
    "    \n",
    "    #print('case = ', case, 'fact = ',guesses)\n",
    "    df = 0\n",
    "    repetitions += 1"
   ]
  },
  {
   "cell_type": "code",
   "execution_count": 14,
   "id": "89f8b007",
   "metadata": {},
   "outputs": [
    {
     "data": {
      "text/plain": [
       "\"\\nplt.savefig('shor_multiple_noisy_qft.pdf', format = 'pdf') \\npickle.dump(frequencies, open('shor_noisy_multiple_errors.pkl', 'wb'))\\n\""
      ]
     },
     "execution_count": 14,
     "metadata": {},
     "output_type": "execute_result"
    },
    {
     "data": {
      "image/png": "[encoded data removed]",
      "text/plain": [
       "<Figure size 640x480 with 1 Axes>"
      ]
     },
     "metadata": {},
     "output_type": "display_data"
    }
   ],
   "source": [
    "labels = [[1,3], [3,5], [15,1]]\n",
    "counts = [0, 0, 0]\n",
    "frequencies = np.zeros(len(counts))\n",
    "data = plot\n",
    "color_bars = '#4C495A'\n",
    "\n",
    "for i in range(len(data)):\n",
    "    for ii in range(len(labels)):\n",
    "        if data[i] == labels[ii]:\n",
    "            counts[ii] += 1\n",
    "            \n",
    "for i in range(len(counts)): frequencies[i] = counts[i]/repetitions\n",
    "freq_series = pd.Series(frequencies)\n",
    "names = ('[1,3]', '[3,5]', '[1,15]')\n",
    "\n",
    "fig = freq_series.plot(kind='bar', color = color_bars)\n",
    "fig.set_xlabel(\"Factorization\")\n",
    "fig.set_ylabel('Frequency')\n",
    "fig.set_xticklabels(names, rotation = 0)\n",
    "params = {'text.usetex' : True, 'font.size' : 20, 'font.family' : 'serif'}\n",
    "plt.rcParams.update(params)\n",
    "plt.tight_layout()\n",
    "\n",
    "'''\n",
    "plt.savefig('shor_multiple_noisy_qft.pdf', format = 'pdf') \n",
    "pickle.dump(frequencies, open('shor_noisy_multiple_errors.pkl', 'wb'))\n",
    "'''\n",
    "\n"
   ]
  },
  {
   "cell_type": "markdown",
   "id": "8a763969",
   "metadata": {},
   "source": [
    " "
   ]
  },
  {
   "cell_type": "code",
   "execution_count": 15,
   "id": "df50d8dc",
   "metadata": {},
   "outputs": [
    {
     "data": {
      "text/plain": [
       "0.33666666666666667"
      ]
     },
     "execution_count": 15,
     "metadata": {},
     "output_type": "execute_result"
    }
   ],
   "source": [
    "(counts[0] + counts[2])/repetitions"
   ]
  }
 ],
 "metadata": {
  "kernelspec": {
   "display_name": "Python 3 (ipykernel)",
   "language": "python",
   "name": "python3"
  },
  "language_info": {
   "codemirror_mode": {
    "name": "ipython",
    "version": 3
   },
   "file_extension": ".py",
   "mimetype": "text/x-python",
   "name": "python",
   "nbconvert_exporter": "python",
   "pygments_lexer": "ipython3",
   "version": "3.10.6"
  }
 },
 "nbformat": 4,
 "nbformat_minor": 5
}
