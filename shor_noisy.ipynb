{
 "cells": [
  {
   "cell_type": "markdown",
   "id": "82353880",
   "metadata": {},
   "source": [
    "# SHOR with single error IQFT"
   ]
  },
  {
   "cell_type": "code",
   "execution_count": 46,
   "id": "b2738943",
   "metadata": {},
   "outputs": [],
   "source": [
    "from qiskit import QuantumCircuit, QuantumRegister, ClassicalRegister\n",
    "from qiskit.extensions import UnitaryGate\n",
    "from qiskit.quantum_info.operators import Operator\n",
    "from qiskit import execute, transpile, assemble\n",
    "import qiskit.quantum_info as qi\n",
    "from qiskit.visualization import array_to_latex\n",
    "from qiskit.providers.aer.library import SaveDensityMatrix\n",
    "from qiskit.quantum_info import Statevector\n",
    "from qiskit import Aer\n",
    "from qiskit.visualization import plot_histogram\n",
    "from sympy import factorint\n",
    "from fractions import Fraction\n",
    "from numpy import linalg\n",
    "import pandas as pd\n",
    "import numpy as np\n",
    "from numpy import pi\n",
    "from sympy import *\n",
    "import random\n",
    "import math\n",
    "import matplotlib.pyplot as plt\n",
    "import pickle\n"
   ]
  },
  {
   "cell_type": "code",
   "execution_count": 47,
   "id": "b442ee69",
   "metadata": {},
   "outputs": [],
   "source": [
    "def check(number):\n",
    "    if number % 2 == 0:\n",
    "        print(\"Even, 2 is a divisor\")\n",
    "        return\n",
    "        \n",
    "    if isprime(number) == True:\n",
    "        print(\"Prime number\")\n",
    "        return\n",
    "    \n",
    "    factorization = factorint(number)\n",
    "    for i in range(len(factorization.keys())):\n",
    "        p = list(factorization)[i]\n",
    "        q = list(factorization.values())[i]\n",
    "        if isprime(p) and q != 1:\n",
    "            print(\"Prime Power: %i^%i, %i is a divisor\" % ( p, q, p))\n",
    "            return\n",
    "    \n",
    "    y = random.randrange(2, number - 1)\n",
    "    a = math.gcd(y, number)\n",
    "    if a > 1:\n",
    "        print(\"Divisor: a = %i\" %(a))\n",
    "        return \n",
    "        \n",
    "    else:\n",
    "        print(\"y = %i and N = %i are coprime - r well defined\" %  (y, N))\n",
    "        return \n",
    "    "
   ]
  },
  {
   "cell_type": "code",
   "execution_count": 48,
   "id": "85f57366",
   "metadata": {},
   "outputs": [],
   "source": [
    "def mod_exp(n, y, N, power):\n",
    "    dim = 2**n\n",
    "    matrix_0 = np.zeros((dim, dim))\n",
    "    \n",
    "    for i in range(N):\n",
    "        j = (i*y)%N\n",
    "        matrix_0[j][i]=1\n",
    "             \n",
    "    for ii in range(N, dim):\n",
    "        matrix_0[ii][ii] = 1\n",
    "             \n",
    "    temp = matrix_0\n",
    "    for iii in range(power):\n",
    "        matrix = np.dot(temp, temp)\n",
    "        temp = matrix\n",
    "        \n",
    "    U = UnitaryGate(temp)\n",
    "    \n",
    "    U.name = \"%i^%i mod %i\" % ( y, 2**power, N)\n",
    "    c_U = U.control()\n",
    "    return c_U"
   ]
  },
  {
   "cell_type": "code",
   "execution_count": 49,
   "id": "331c9f2a",
   "metadata": {},
   "outputs": [],
   "source": [
    "def errori(circuit, position):\n",
    "    \n",
    "    epsilon = 1                          \n",
    "    extracted = random.uniform(0, 1)\n",
    "    if (extracted < epsilon):    \n",
    "        circuit.z(position)                              #change errors"
   ]
  },
  {
   "cell_type": "code",
   "execution_count": 50,
   "id": "df05fff2",
   "metadata": {},
   "outputs": [],
   "source": [
    "def qft_rotations(circuit, n, case, position):\n",
    "\n",
    "    for j in range(n):\n",
    "        for m in range(j):\n",
    "            circuit.cp(-np.pi/float(2**(j-m)), m, j)\n",
    "        \n",
    "        if case == 4:\n",
    "            errori(circuit, position)   \n",
    "        circuit.h(j)\n",
    "        if case == 5:\n",
    "            errori(circuit, position)        \n",
    "        "
   ]
  },
  {
   "cell_type": "code",
   "execution_count": 51,
   "id": "77655bc8",
   "metadata": {},
   "outputs": [],
   "source": [
    "def swap_registers(circuit, n):\n",
    "    \n",
    "    for qubit in range(n//2):\n",
    "        circuit.swap(qubit, n-qubit-1)"
   ]
  },
  {
   "cell_type": "code",
   "execution_count": 52,
   "id": "70a4d53f",
   "metadata": {},
   "outputs": [],
   "source": [
    "def qft(circuit, n, case, position):\n",
    "\n",
    "    if case == 2:\n",
    "        errori(circuit, position)\n",
    "\n",
    "    swap_registers(circuit, n) \n",
    "    \n",
    "    circuit.barrier(range(n))\n",
    "    if case == 3:\n",
    "        errori(circuit, position)\n",
    "        \n",
    "    if case == 1:\n",
    "        errori(circuit, position) \n",
    "\n",
    "    if case == 0:\n",
    "        pass\n",
    "        \n",
    "    qft_rotations(circuit, n, case, position)\n",
    "        \n",
    "    return circuit"
   ]
  },
  {
   "cell_type": "code",
   "execution_count": 53,
   "id": "a2b6598f",
   "metadata": {},
   "outputs": [],
   "source": [
    "#N = int(input(\"Enter integer N = \"))\n",
    "N = 15"
   ]
  },
  {
   "cell_type": "code",
   "execution_count": 54,
   "id": "2fb92b5d",
   "metadata": {
    "scrolled": true
   },
   "outputs": [
    {
     "name": "stdout",
     "output_type": "stream",
     "text": [
      "Divisor: a = 3\n"
     ]
    }
   ],
   "source": [
    "check(N)"
   ]
  },
  {
   "cell_type": "code",
   "execution_count": 56,
   "id": "c9be79c5",
   "metadata": {},
   "outputs": [
    {
     "name": "stdout",
     "output_type": "stream",
     "text": [
      "case =  4 qubit =  3 fact =  [3, 5]\n",
      "case =  4 qubit =  0 fact =  [1, 3]\n",
      "case =  2 qubit =  3 fact =  [1, 3]\n",
      "case =  6 qubit =  5 fact =  [3, 5]\n",
      "case =  4 qubit =  7 fact =  [3, 5]\n",
      "case =  1 qubit =  4 fact =  [1, 3]\n",
      "case =  3 qubit =  4 fact =  [1, 3]\n",
      "case =  5 qubit =  3 fact =  [1, 3]\n",
      "case =  3 qubit =  3 fact =  [1, 3]\n",
      "case =  4 qubit =  3 fact =  [3, 5]\n",
      "case =  3 qubit =  7 fact =  [3, 5]\n",
      "case =  2 qubit =  3 fact =  [1, 3]\n",
      "case =  1 qubit =  1 fact =  [1, 3]\n",
      "case =  6 qubit =  7 fact =  [3, 5]\n",
      "case =  5 qubit =  5 fact =  [15, 1]\n",
      "case =  5 qubit =  2 fact =  [3, 5]\n",
      "case =  3 qubit =  0 fact =  [1, 3]\n",
      "case =  0 qubit =  4 fact =  [3, 5]\n",
      "case =  2 qubit =  1 fact =  [3, 5]\n",
      "case =  1 qubit =  2 fact =  [1, 3]\n",
      "case =  2 qubit =  1 fact =  [3, 5]\n",
      "case =  4 qubit =  7 fact =  [3, 5]\n",
      "case =  3 qubit =  2 fact =  [1, 3]\n",
      "case =  0 qubit =  3 fact =  [3, 5]\n",
      "case =  0 qubit =  1 fact =  [3, 5]\n"
     ]
    }
   ],
   "source": [
    "y = 8\n",
    "N = 15\n",
    "repetition = 25\n",
    "\n",
    "final = []\n",
    "n = math.ceil(math.log(N,2))\n",
    "\n",
    "for rep in range(repetition):\n",
    "\n",
    "    case = random.randrange(0, n + 2 + 1)\n",
    "    position = random.randrange(2*n)\n",
    "    \n",
    "    control = QuantumRegister(2*n, 'r1')\n",
    "    target  = QuantumRegister(n, 't1')\n",
    "    classic = ClassicalRegister(2*n, 'c')\n",
    "    circuit = QuantumCircuit(control, target, classic)\n",
    "\n",
    "    circuit.h(range(2*n))\n",
    "    circuit.x(2*n + n -1)\n",
    "\n",
    "    for q in range(2*n):\n",
    "        circuit.append(mod_exp(n, y, N, q),     \n",
    "                 [q] + [i+2*n for i in range(n)])    \n",
    "\n",
    "    circuit.save_density_matrix()\n",
    "\n",
    "    qft(circuit, 2*n, case, position) \n",
    "    circuit.measure(range(2*n), range(2*n))\n",
    "    circuit.draw(fold = -1, scale = 0.5)        \n",
    "\n",
    "    \n",
    "    aer_sim = Aer.get_backend('aer_simulator')\n",
    "    t_qc = transpile(circuit, aer_sim)\n",
    "    qobj = assemble(t_qc)                             \n",
    "    results = aer_sim.run(qobj,shots = 1024).result()            \n",
    "\n",
    "    counts = results.get_counts()\n",
    "    density_matrix = results.data().get('density_matrix')\n",
    "    labels = []\n",
    "    for i in range(len(counts)):\n",
    "        labels.append(   int(list(counts.keys())[i], 2 )   )\n",
    "\n",
    "\n",
    "    new_counts = dict(zip(labels,list(counts.values()) ))\n",
    "    density_matrix = np.asarray(density_matrix)\n",
    "    n_count = 2*n\n",
    "    rows, measured_phases = [], []\n",
    "\n",
    "    for output in counts:\n",
    "        decimal = int(output, 2)                      \n",
    "        phase = decimal/(2**n_count)                   \n",
    "        measured_phases.append(phase)\n",
    "                                                       \n",
    "        rows.append([f\"{output}(bin) = {decimal:>3}(dec)\", \n",
    "                     f\"{decimal}/{2**n_count} = {phase:.2f}\"])\n",
    "                                                    \n",
    "    headers=[\"Register Output\", \"Phase\"]\n",
    "    df = pd.DataFrame(rows, columns=headers)\n",
    "    rows = []\n",
    "    period = []\n",
    "\n",
    "    for phase in measured_phases:\n",
    "        frac = Fraction(phase).limit_denominator(15)\n",
    "        rows.append([phase, f\"{frac.numerator}/{frac.denominator}\", frac.denominator])\n",
    "        period.append(frac.denominator)\n",
    "\n",
    "    headers=[\"Phase\", \"Fraction\", \"Guess for r\"]\n",
    "    df = pd.DataFrame(rows, columns=headers)\n",
    "    \n",
    "    r = max(period)\n",
    "    guesses = [gcd(y**(r//2)-1, N), gcd(y**(r//2)+1, N)]\n",
    "    final.append(guesses)\n",
    "    print('case = ', case, 'qubit = ', position, 'fact = ',guesses)\n",
    "    df = 0\n",
    "    period = 0\n",
    "    guesses = 0\n",
    "    repetition += 1"
   ]
  },
  {
   "cell_type": "code",
   "execution_count": 57,
   "id": "8fab659c",
   "metadata": {},
   "outputs": [
    {
     "data": {
      "image/png": "[encoded data removed]",
      "text/plain": [
       "<Figure size 640x480 with 1 Axes>"
      ]
     },
     "metadata": {},
     "output_type": "display_data"
    }
   ],
   "source": [
    "labels = [[1,3], [3,5], [15,1]]\n",
    "counts = [0, 0, 0]\n",
    "frequencies = np.zeros(len(counts))\n",
    "color_bars = '#4C495A'\n",
    "\n",
    "for i in range(len(final)):\n",
    "    for ii in range(len(labels)):\n",
    "        if final[i] == labels[ii]:\n",
    "            counts[ii] += 1\n",
    "            \n",
    "for i in range(len(counts)): frequencies[i] = counts[i]/repetition\n",
    "freq_series = pd.Series(frequencies)\n",
    "names = ('[1,3]', '[3,5]', '[1,15]')\n",
    "\n",
    "fig = freq_series.plot(kind='bar', color = color_bars)\n",
    "fig.set_xlabel(\"Factorization\")\n",
    "fig.set_ylabel('Frequency')\n",
    "fig.set_xticklabels(names, rotation = 0)\n",
    "params = {'text.usetex' : True, 'font.size' : 20, 'font.family' : 'serif'}\n",
    "plt.rcParams.update(params)\n",
    "plt.tight_layout()\n",
    "plt.savefig('shor_noisy_qftZ.pdf', format = 'pdf') \n",
    "#pickle.dump(frequencies, open('shor_noisy_qft.pkl', 'wb'))\n",
    "\n"
   ]
  },
  {
   "cell_type": "code",
   "execution_count": null,
   "id": "a106f7a7",
   "metadata": {},
   "outputs": [],
   "source": []
  }
 ],
 "metadata": {
  "kernelspec": {
   "display_name": "Python 3 (ipykernel)",
   "language": "python",
   "name": "python3"
  },
  "language_info": {
   "codemirror_mode": {
    "name": "ipython",
    "version": 3
   },
   "file_extension": ".py",
   "mimetype": "text/x-python",
   "name": "python",
   "nbconvert_exporter": "python",
   "pygments_lexer": "ipython3",
   "version": "3.10.6"
  }
 },
 "nbformat": 4,
 "nbformat_minor": 5
}
