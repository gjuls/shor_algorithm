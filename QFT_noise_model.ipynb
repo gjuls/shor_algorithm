{
 "cells": [
  {
   "cell_type": "code",
   "execution_count": null,
   "id": "e834a6e8",
   "metadata": {},
   "outputs": [],
   "source": [
    "###########################\n",
    "#errors in teh QFT with quiskit noise model\n",
    "#and zero state only (non functioning)\n",
    "###########################"
   ]
  },
  {
   "cell_type": "code",
   "execution_count": 1,
   "id": "facaf2c2",
   "metadata": {},
   "outputs": [
    {
     "name": "stdout",
     "output_type": "stream",
     "text": [
      "Import Successfully\n"
     ]
    }
   ],
   "source": [
    "from qiskit import QuantumCircuit, QuantumRegister, ClassicalRegister\n",
    "import qiskit.quantum_info as qi\n",
    "from qiskit.visualization import plot_histogram\n",
    "from qiskit import execute, transpile, assemble\n",
    "from qiskit import Aer\n",
    "from numpy import pi\n",
    "import numpy as np\n",
    "import matplotlib as mpl\n",
    "import matplotlib.pyplot as plt\n",
    "print(\"Import Successfully\")"
   ]
  },
  {
   "cell_type": "code",
   "execution_count": 8,
   "id": "b864d824",
   "metadata": {
    "scrolled": true
   },
   "outputs": [
    {
     "name": "stdout",
     "output_type": "stream",
     "text": [
      "Import Successfully\n"
     ]
    }
   ],
   "source": [
    "# Import from Qiskit Aer noise module\n",
    "from qiskit.providers.aer.noise import NoiseModel\n",
    "from qiskit.providers.aer.noise import QuantumError, ReadoutError\n",
    "from qiskit.providers.aer.noise import pauli_error\n",
    "from qiskit.providers.aer import AerSimulator\n",
    "print(\"Import Successfully\")"
   ]
  },
  {
   "cell_type": "markdown",
   "id": "f60e0435",
   "metadata": {},
   "source": [
    "## Ideal Simulation"
   ]
  },
  {
   "cell_type": "code",
   "execution_count": 13,
   "id": "549128d0",
   "metadata": {},
   "outputs": [
    {
     "data": {
      "text/html": [
       "<pre style=\"word-wrap: normal;white-space: pre;background: #fff0;line-height: 1.1;font-family: &quot;Courier New&quot;,Courier,monospace\">                                             ┌───┐    density_matrix  ░ ┌─┐      \n",
       "   q_0: ──────■──────────────────────■───────┤ H ├─X────────░─────────░─┤M├──────\n",
       "              │                ┌───┐ │P(π/2) └───┘ │        ░         ░ └╥┘┌─┐   \n",
       "   q_1: ──────┼────────■───────┤ H ├─■─────────────┼────────░─────────░──╫─┤M├───\n",
       "        ┌───┐ │P(π/4)  │P(π/2) └───┘               │        ░         ░  ║ └╥┘┌─┐\n",
       "   q_2: ┤ H ├─■────────■───────────────────────────X────────░─────────░──╫──╫─┤M├\n",
       "        └───┘                                               ░         ░  ║  ║ └╥┘\n",
       "meas_0: ═════════════════════════════════════════════════════════════════╩══╬══╬═\n",
       "                                                                            ║  ║ \n",
       "meas_1: ════════════════════════════════════════════════════════════════════╩══╬═\n",
       "                                                                               ║ \n",
       "meas_2: ═══════════════════════════════════════════════════════════════════════╩═\n",
       "                                                                                 </pre>"
      ],
      "text/plain": [
       "                                             ┌───┐    density_matrix  ░ ┌─┐      \n",
       "   q_0: ──────■──────────────────────■───────┤ H ├─X────────░─────────░─┤M├──────\n",
       "              │                ┌───┐ │P(π/2) └───┘ │        ░         ░ └╥┘┌─┐   \n",
       "   q_1: ──────┼────────■───────┤ H ├─■─────────────┼────────░─────────░──╫─┤M├───\n",
       "        ┌───┐ │P(π/4)  │P(π/2) └───┘               │        ░         ░  ║ └╥┘┌─┐\n",
       "   q_2: ┤ H ├─■────────■───────────────────────────X────────░─────────░──╫──╫─┤M├\n",
       "        └───┘                                               ░         ░  ║  ║ └╥┘\n",
       "meas_0: ═════════════════════════════════════════════════════════════════╩══╬══╬═\n",
       "                                                                            ║  ║ \n",
       "meas_1: ════════════════════════════════════════════════════════════════════╩══╬═\n",
       "                                                                               ║ \n",
       "meas_2: ═══════════════════════════════════════════════════════════════════════╩═\n",
       "                                                                                 "
      ]
     },
     "execution_count": 13,
     "metadata": {},
     "output_type": "execute_result"
    }
   ],
   "source": [
    "def qft_rotations(circuit, n):\n",
    "    if n == 0:\n",
    "        return circuit\n",
    "    n -= 1\n",
    "    circuit.h(n)\n",
    "    for qubit in range(n):\n",
    "        circuit.cp(pi/2**(n-qubit), qubit, n)\n",
    "    qft_rotations(circuit, n)\n",
    "\n",
    "qc = QuantumCircuit(4)\n",
    "qft_rotations(qc,4)\n",
    "qc.draw()\n",
    "\n",
    "def swap_registers(circuit, n):\n",
    "    for qubit in range(n//2):\n",
    "        circuit.swap(qubit, n-qubit-1)\n",
    "    return circuit\n",
    "\n",
    "def qft(circuit, n):\n",
    "    qft_rotations(circuit, n)\n",
    "    swap_registers(circuit, n)\n",
    "    return circuit\n",
    "\n",
    "qubits = 3    #sistem-dimension\n",
    "qc_ideal = QuantumCircuit(qubits)\n",
    "qft(qc_ideal,qubits)\n",
    "qc_ideal.save_density_matrix()\n",
    "qc_ideal.measure_all()\n",
    "\n",
    "qc_ideal.draw(fold = -1)\n"
   ]
  },
  {
   "cell_type": "code",
   "execution_count": 16,
   "id": "af533568",
   "metadata": {},
   "outputs": [
    {
     "name": "stdout",
     "output_type": "stream",
     "text": [
      "det =  0j\n",
      "Matrice densità del circuito ideale:\n",
      " 0.125+0.000i  0.125+0.000i  0.125+0.000i  0.125+0.000i  0.125+0.000i  0.125+0.000i  0.125+0.000i  0.125+0.000i \n",
      " 0.125+0.000i  0.125+0.000i  0.125+0.000i  0.125+0.000i  0.125+0.000i  0.125+0.000i  0.125+0.000i  0.125+0.000i \n",
      " 0.125+0.000i  0.125+0.000i  0.125+0.000i  0.125+0.000i  0.125+0.000i  0.125+0.000i  0.125+0.000i  0.125+0.000i \n",
      " 0.125+0.000i  0.125+0.000i  0.125+0.000i  0.125+0.000i  0.125+0.000i  0.125+0.000i  0.125+0.000i  0.125+0.000i \n",
      " 0.125+0.000i  0.125+0.000i  0.125+0.000i  0.125+0.000i  0.125+0.000i  0.125+0.000i  0.125+0.000i  0.125+0.000i \n",
      " 0.125+0.000i  0.125+0.000i  0.125+0.000i  0.125+0.000i  0.125+0.000i  0.125+0.000i  0.125+0.000i  0.125+0.000i \n",
      " 0.125+0.000i  0.125+0.000i  0.125+0.000i  0.125+0.000i  0.125+0.000i  0.125+0.000i  0.125+0.000i  0.125+0.000i \n",
      " 0.125+0.000i  0.125+0.000i  0.125+0.000i  0.125+0.000i  0.125+0.000i  0.125+0.000i  0.125+0.000i  0.125+0.000i \n"
     ]
    },
    {
     "data": {
      "image/png": "[encoded data removed]",
      "text/plain": [
       "<Figure size 700x500 with 1 Axes>"
      ]
     },
     "execution_count": 16,
     "metadata": {},
     "output_type": "execute_result"
    }
   ],
   "source": [
    "density_matrix_ideal = 0\n",
    "aer_sim = Aer.get_backend('aer_simulator')\n",
    "t_qc = transpile(qc_ideal, aer_sim)\n",
    "qobj = assemble(t_qc)                                \n",
    "results = aer_sim.run(qobj, shots = 1).result()\n",
    "\n",
    "density_matrix_ideal = results.data().get('density_matrix')\n",
    "density_matrix_ideal = np.asarray(density_matrix_ideal)\n",
    "\n",
    "print('det = ', np.linalg.det(density_matrix_ideal))\n",
    "print('Matrice densità del circuito ideale:')\n",
    "print('\\n'.join([''.join([' {0.real:.3f}+{0.imag:.3f}i '.format(item) for item in row]) \n",
    "      for row in density_matrix_ideal]))\n",
    "\n",
    "counts = results.get_counts()\n",
    "plot_histogram(counts)    "
   ]
  },
  {
   "cell_type": "raw",
   "id": "e1b3c4dc",
   "metadata": {
    "scrolled": true
   },
   "source": [
    "backend = Aer.get_backend('unitary_simulator')\n",
    "#The circuit without measurement because is non unitary\n",
    "\n",
    "qubits = 3    #sistem-dimension\n",
    "qc_ideal_unit = QuantumCircuit(qubits)\n",
    "qft(qc_ideal_unit,qubits)\n",
    "\n",
    "job = execute(qc_ideal_unit, backend)\n",
    "result = job.result()\n",
    "unitary_ideal = result.get_unitary(qc_ideal_unit, decimals=1)\n",
    "unit_ideal = np.array(unitary_ideal)\n",
    "\n",
    "print('Matrice unitaria del circuito ideale:')\n",
    "print('\\n'.join([''.join([' {0.real:.2f}+{0.imag:.2f}i '.format(item) for item in row]) \n",
    "      for row in unit_ideal]))"
   ]
  },
  {
   "cell_type": "raw",
   "id": "9f81e425",
   "metadata": {},
   "source": [
    "np.linalg.det(unit_ideal)"
   ]
  },
  {
   "cell_type": "markdown",
   "id": "eb034112",
   "metadata": {},
   "source": [
    "# Error models"
   ]
  },
  {
   "cell_type": "code",
   "execution_count": 31,
   "id": "a7f9725a",
   "metadata": {},
   "outputs": [],
   "source": [
    "p_error = 0.1\n",
    "\n",
    "bit_flip = pauli_error([(qi.Pauli('X'), p_error), ('I', 1 - p_error)])\n",
    "phase_flip = pauli_error([(qi.Pauli('Z'), p_error), ('I', 1 - p_error)])"
   ]
  },
  {
   "cell_type": "code",
   "execution_count": 32,
   "id": "9e2715bf",
   "metadata": {},
   "outputs": [
    {
     "name": "stdout",
     "output_type": "stream",
     "text": [
      "X\n"
     ]
    }
   ],
   "source": [
    "print(qi.Pauli('X'))"
   ]
  },
  {
   "cell_type": "code",
   "execution_count": 33,
   "id": "b132b1eb",
   "metadata": {},
   "outputs": [
    {
     "name": "stdout",
     "output_type": "stream",
     "text": [
      "QuantumError on 1 qubits. Noise circuits:\n",
      "  P(0) = 0.1, Circuit = \n",
      "   ┌───┐\n",
      "q: ┤ X ├\n",
      "   └───┘\n",
      "  P(1) = 0.9, Circuit = \n",
      "   ┌───┐\n",
      "q: ┤ I ├\n",
      "   └───┘\n"
     ]
    }
   ],
   "source": [
    "print(bit_flip)"
   ]
  },
  {
   "cell_type": "code",
   "execution_count": 34,
   "id": "4042195a",
   "metadata": {},
   "outputs": [
    {
     "name": "stdout",
     "output_type": "stream",
     "text": [
      "QuantumError on 1 qubits. Noise circuits:\n",
      "  P(0) = 0.1, Circuit = \n",
      "   ┌───┐\n",
      "q: ┤ Z ├\n",
      "   └───┘\n",
      "  P(1) = 0.9, Circuit = \n",
      "   ┌───┐\n",
      "q: ┤ I ├\n",
      "   └───┘\n"
     ]
    }
   ],
   "source": [
    "print(phase_flip)"
   ]
  },
  {
   "cell_type": "code",
   "execution_count": 43,
   "id": "78b85c81",
   "metadata": {},
   "outputs": [
    {
     "data": {
      "text/html": [
       "<pre style=\"word-wrap: normal;white-space: pre;background: #fff0;line-height: 1.1;font-family: &quot;Courier New&quot;,Courier,monospace\">                                                    ┌───┐┌───┐    density_matrix \n",
       "q_0: ───────────■───────────────────────────■───────┤ H ├┤ I ├─X────────░────────\n",
       "                │                ┌───┐┌───┐ │P(π/2) └───┘└───┘ │        ░        \n",
       "q_1: ───────────┼────────■───────┤ H ├┤ I ├─■──────────────────┼────────░────────\n",
       "     ┌───┐┌───┐ │P(π/4)  │P(π/2) └───┘└───┘                    │        ░        \n",
       "q_2: ┤ H ├┤ I ├─■────────■─────────────────────────────────────X────────░────────\n",
       "     └───┘└───┘                                                         ░        </pre>"
      ],
      "text/plain": [
       "                                                    ┌───┐┌───┐    density_matrix \n",
       "q_0: ───────────■───────────────────────────■───────┤ H ├┤ I ├─X────────░────────\n",
       "                │                ┌───┐┌───┐ │P(π/2) └───┘└───┘ │        ░        \n",
       "q_1: ───────────┼────────■───────┤ H ├┤ I ├─■──────────────────┼────────░────────\n",
       "     ┌───┐┌───┐ │P(π/4)  │P(π/2) └───┘└───┘                    │        ░        \n",
       "q_2: ┤ H ├┤ I ├─■────────■─────────────────────────────────────X────────░────────\n",
       "     └───┘└───┘                                                         ░        "
      ]
     },
     "execution_count": 43,
     "metadata": {},
     "output_type": "execute_result"
    }
   ],
   "source": [
    "def qft_rotations(circuit, n):\n",
    "    \"\"\"Performs qft on the first n qubits in circuit (without swaps)\"\"\"\n",
    "    if n == 0:\n",
    "        return circuit\n",
    "    n -= 1\n",
    "    circuit.h(n)\n",
    "    circuit.id(n)\n",
    "    for qubit in range(n):\n",
    "        circuit.cp(pi/2**(n-qubit), qubit, n)\n",
    "    qft_rotations(circuit, n)\n",
    "\n",
    "qc = QuantumCircuit(4)\n",
    "qft_rotations(qc,4)\n",
    "qc.draw()\n",
    "\n",
    "def swap_registers(circuit, n):\n",
    "    for qubit in range(n//2):\n",
    "        circuit.swap(qubit, n-qubit-1)\n",
    "    return circuit\n",
    "\n",
    "def qft(circuit, n):\n",
    "    qft_rotations(circuit, n)\n",
    "    swap_registers(circuit, n)\n",
    "    return circuit\n",
    "\n",
    "qubits = 3    #sistem-dimension\n",
    "qc_noisy = QuantumCircuit(qubits)\n",
    "qft(qc_noisy,qubits)\n",
    "qc_noisy.save_density_matrix()\n",
    "#qc_noisy.measure_all()\n",
    "\n",
    "qc_noisy.draw(fold = -1)\n"
   ]
  },
  {
   "cell_type": "markdown",
   "id": "815d65af",
   "metadata": {},
   "source": [
    "# Bit Flip\n"
   ]
  },
  {
   "cell_type": "code",
   "execution_count": 37,
   "id": "10a981d0",
   "metadata": {},
   "outputs": [
    {
     "name": "stdout",
     "output_type": "stream",
     "text": [
      "NoiseModel:\n",
      "  Basis gates: ['cx', 'id', 'rz', 'sx']\n",
      "  Instructions with noise: ['id']\n",
      "  Qubits with noise: [0]\n",
      "  Specific qubit errors: [('id', (0,))]\n"
     ]
    }
   ],
   "source": [
    "noise_bit_flip = NoiseModel()\n",
    "noise_bit_flip.add_quantum_error(bit_flip, ['id'], [0])\n",
    "\n",
    "print(noise_bit_flip)"
   ]
  },
  {
   "cell_type": "code",
   "execution_count": 46,
   "id": "da239bcd",
   "metadata": {
    "scrolled": false
   },
   "outputs": [
    {
     "name": "stdout",
     "output_type": "stream",
     "text": [
      "[[0.125+0.j 0.125+0.j 0.125+0.j 0.125+0.j 0.125+0.j 0.125+0.j 0.125+0.j\n",
      "  0.125+0.j]\n",
      " [0.125+0.j 0.125+0.j 0.125+0.j 0.125+0.j 0.125+0.j 0.125+0.j 0.125+0.j\n",
      "  0.125+0.j]\n",
      " [0.125+0.j 0.125+0.j 0.125+0.j 0.125+0.j 0.125+0.j 0.125+0.j 0.125+0.j\n",
      "  0.125+0.j]\n",
      " [0.125+0.j 0.125+0.j 0.125+0.j 0.125+0.j 0.125+0.j 0.125+0.j 0.125+0.j\n",
      "  0.125+0.j]\n",
      " [0.125+0.j 0.125+0.j 0.125+0.j 0.125+0.j 0.125+0.j 0.125+0.j 0.125+0.j\n",
      "  0.125+0.j]\n",
      " [0.125+0.j 0.125+0.j 0.125+0.j 0.125+0.j 0.125+0.j 0.125+0.j 0.125+0.j\n",
      "  0.125+0.j]\n",
      " [0.125+0.j 0.125+0.j 0.125+0.j 0.125+0.j 0.125+0.j 0.125+0.j 0.125+0.j\n",
      "  0.125+0.j]\n",
      " [0.125+0.j 0.125+0.j 0.125+0.j 0.125+0.j 0.125+0.j 0.125+0.j 0.125+0.j\n",
      "  0.125+0.j]]\n"
     ]
    }
   ],
   "source": [
    "sim_noise = AerSimulator(noise_model = noise_bit_flip)\n",
    "#circ_tnoise = transpile(qc_noisy, sim_noise)\n",
    "#result_bit_flip = sim_noise.run(circ_tnoise, shots = 1048).result()\n",
    "#counts_bit_flip = result_bit_flip.get_counts(0)\n",
    "job = sim_noise.run(qc_noisy, shots = 1)\n",
    "result_bit_flip = job.result()\n",
    "#counts_bit_flip = result_bit_flip.get_counts(0)\n",
    "\n",
    "tmp = result_bit_flip.data()\n",
    "density_matrix_bit= tmp.get('density_matrix')\n",
    "density_matrix_bit = np.asarray(density_matrix_ bit)\n",
    "\n",
    "#print('\\n'.join([''.join([' {0.real:.6f}+{0.imag:.2f}i '.format(item) for item in row]) \n",
    "#      for row in density_matrix_bit]))\n",
    "print(density_matrix_bit)\n",
    "\n",
    "#plot_histogram(counts_bit_flip)\n"
   ]
  },
  {
   "cell_type": "markdown",
   "id": "d788cdd2",
   "metadata": {},
   "source": [
    "# Phase Flip"
   ]
  },
  {
   "cell_type": "code",
   "execution_count": 39,
   "id": "0eb109a5",
   "metadata": {},
   "outputs": [
    {
     "name": "stdout",
     "output_type": "stream",
     "text": [
      "NoiseModel:\n",
      "  Basis gates: ['cx', 'id', 'rz', 'sx']\n",
      "  Instructions with noise: ['id']\n",
      "  Qubits with noise: [0]\n",
      "  Specific qubit errors: [('id', (0,))]\n"
     ]
    }
   ],
   "source": [
    "noise_phase_flip = NoiseModel()\n",
    "noise_phase_flip.add_quantum_error(phase_flip, ['id'], [0])\n",
    "\n",
    "print(noise_phase_flip)"
   ]
  },
  {
   "cell_type": "code",
   "execution_count": 50,
   "id": "d3ff8e54",
   "metadata": {
    "scrolled": false
   },
   "outputs": [
    {
     "name": "stdout",
     "output_type": "stream",
     "text": [
      " 0.125+0.0i  0.125+-0.0i  0.125+-0.0i  0.125+-0.0i  0.125+0.0i  0.125+-0.0i  0.125+-0.0i  0.125+-0.0i \n",
      " 0.125+0.0i  0.125+0.0i  0.125+-0.0i  0.125+0.0i  0.125+0.0i  0.125+0.0i  0.125+-0.0i  0.125+0.0i \n",
      " 0.125+0.0i  0.125+0.0i  0.125+0.0i  0.125+0.0i  0.125+0.0i  0.125+0.0i  0.125+0.0i  0.125+0.0i \n",
      " 0.125+0.0i  0.125+-0.0i  0.125+-0.0i  0.125+0.0i  0.125+0.0i  0.125+-0.0i  0.125+-0.0i  0.125+0.0i \n",
      " 0.125+0.0i  0.125+-0.0i  0.125+-0.0i  0.125+-0.0i  0.125+0.0i  0.125+-0.0i  0.125+-0.0i  0.125+-0.0i \n",
      " 0.125+0.0i  0.125+0.0i  0.125+-0.0i  0.125+0.0i  0.125+0.0i  0.125+0.0i  0.125+-0.0i  0.125+0.0i \n",
      " 0.125+0.0i  0.125+0.0i  0.125+0.0i  0.125+0.0i  0.125+0.0i  0.125+0.0i  0.125+0.0i  0.125+0.0i \n",
      " 0.125+0.0i  0.125+-0.0i  0.125+-0.0i  0.125+0.0i  0.125+0.0i  0.125+-0.0i  0.125+-0.0i  0.125+0.0i \n"
     ]
    }
   ],
   "source": [
    "sim_noise = AerSimulator(noise_model = noise_phase_flip)\n",
    "circ_tnoise = transpile(qc_noisy, sim_noise)\n",
    "result_phase_flip = sim_noise.run(circ_tnoise, shots = 1).result()\n",
    "#counts_phase_flip = result_phase_flip.get_counts(0)\n",
    "density_matrix_phase = result_phase_flip.data().get('density_matrix')\n",
    "density_matrix_phase = np.asarray(density_matrix_phase)\n",
    "\n",
    "print('\\n'.join([''.join([' {0.real:.3f}+{0.imag:.1f}i '.format(item) for item in row]) \n",
    "      for row in density_matrix_phase]))\n",
    "#print(density_matrix_phase)\n",
    "\n",
    "#plot_histogram(counts_phase_flip)"
   ]
  },
  {
   "cell_type": "code",
   "execution_count": null,
   "id": "651be0aa",
   "metadata": {},
   "outputs": [],
   "source": [
    "n = 2\n",
    "identity = np.zeros((2**n, 2**n ))\n",
    "for i in range(2**n -1 ):\n",
    "    for ii in range(2**n - 1):\n",
    "        if (i == ii):\n",
    "            identity[i][ii] = 1\n",
    "            "
   ]
  },
  {
   "cell_type": "code",
   "execution_count": null,
   "id": "b621290e",
   "metadata": {},
   "outputs": [],
   "source": [
    "tmp = np.sqrt(np.matmul(np.linalg.inv(density_matrix_ideal - density_matrix_phase), density_matrix_ideal - density_matrix_phase))\n",
    "trace_norm = 0.5*tmp.trace()"
   ]
  },
  {
   "cell_type": "code",
   "execution_count": null,
   "id": "55a4a320",
   "metadata": {},
   "outputs": [],
   "source": [
    "trace_norm "
   ]
  },
  {
   "cell_type": "code",
   "execution_count": null,
   "id": "e535400e",
   "metadata": {},
   "outputs": [],
   "source": [
    "print('\\n'.join([''.join([' {0.real:.2f}+{0.imag:.2f}i '.format(item) for item in row]) \n",
    "      for row in tmp]))"
   ]
  },
  {
   "cell_type": "code",
   "execution_count": null,
   "id": "b5a18384",
   "metadata": {},
   "outputs": [],
   "source": [
    "tmp2 = np.matmul(density_matrix_ideal, np.linalg.inv(density_matrix_phase)) - identity\n",
    "print(0.5*(tmp2**2).trace())"
   ]
  },
  {
   "cell_type": "code",
   "execution_count": null,
   "id": "320e3b55",
   "metadata": {},
   "outputs": [],
   "source": [
    "tmp2 = np.matmul(density_matrix_ideal, np.linalg.inv(density_matrix_bit)) - identity\n",
    "print(0.5*(tmp2**2).trace())"
   ]
  },
  {
   "cell_type": "code",
   "execution_count": null,
   "id": "da9f07af",
   "metadata": {},
   "outputs": [],
   "source": []
  }
 ],
 "metadata": {
  "kernelspec": {
   "display_name": "Python 3 (ipykernel)",
   "language": "python",
   "name": "python3"
  },
  "language_info": {
   "codemirror_mode": {
    "name": "ipython",
    "version": 3
   },
   "file_extension": ".py",
   "mimetype": "text/x-python",
   "name": "python",
   "nbconvert_exporter": "python",
   "pygments_lexer": "ipython3",
   "version": "3.10.6"
  }
 },
 "nbformat": 4,
 "nbformat_minor": 5
}
